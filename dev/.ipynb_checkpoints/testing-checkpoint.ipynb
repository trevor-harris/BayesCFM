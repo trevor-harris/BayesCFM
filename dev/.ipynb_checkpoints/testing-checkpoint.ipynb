{
 "cells": [
  {
   "cell_type": "code",
   "execution_count": 1,
   "id": "f46d87ee-a18f-402b-8ce0-2fef2c1ed54e",
   "metadata": {},
   "outputs": [],
   "source": [
    "import torch\n",
    "from torch.utils.data import DataLoader, Dataset\n",
    "import bayescfm as bcfm\n",
    "\n",
    "# 1) Dummy data\n",
    "class WhiteNoise(Dataset):\n",
    "    def __init__(self, n=512, shape=(3,32,32), seed=0):\n",
    "        g = torch.Generator().manual_seed(seed)\n",
    "        C,H,W = shape\n",
    "        self.x = (torch.rand(n, C, H, W, generator=g)*2-1).float()\n",
    "        self.y = torch.randint(0, 10, (n,), generator=g)\n",
    "    def __len__(self): return self.x.size(0)\n",
    "    def __getitem__(self, i): return self.x[i], self.y[i]\n",
    "\n",
    "loader = DataLoader(WhiteNoise(), batch_size=64, shuffle=True)\n",
    "\n",
    "# 2) Model\n",
    "model = bcfm.UNetCFM(\n",
    "    in_channels=3, out_channels=3, model_channels=64,\n",
    "    channel_mult=(1,2,2), num_res_blocks=1,\n",
    "    attn_resolutions=(16,), num_heads=4,\n",
    "    num_classes=10, class_dropout_prob=0.1,\n",
    ")"
   ]
  },
  {
   "cell_type": "code",
   "execution_count": 2,
   "id": "7f674f86-8e21-40e1-b9ca-65083551b265",
   "metadata": {},
   "outputs": [
    {
     "name": "stdout",
     "output_type": "stream",
     "text": [
      "[epoch 2] step      10  loss=1.1652\n",
      "[epoch 3] step      20  loss=1.1688\n",
      "[epoch 4] step      30  loss=1.1222\n",
      "[epoch 5] step      40  loss=0.9456\n"
     ]
    }
   ],
   "source": [
    "# 3) Plain CFM training (OT path)\n",
    "device = \"cuda\" if torch.cuda.is_available() else \"cpu\"\n",
    "ema_model = bcfm.train_cfm(model, loader, epochs=5, lr=1e-3, device=device, log_every=10)"
   ]
  },
  {
   "cell_type": "code",
   "execution_count": 5,
   "id": "9928d4a5-b5b0-487a-acfb-3fe2948925f4",
   "metadata": {},
   "outputs": [
    {
     "name": "stdout",
     "output_type": "stream",
     "text": [
      "[epoch 2] step      10 total=0.9888  cfm=0.9887  curl=0.0001  mono=1.1447\n",
      "[epoch 3] step      20 total=0.9517  cfm=0.9516  curl=0.0001  mono=1.0154\n",
      "[epoch 4] step      30 total=0.9348  cfm=0.9347  curl=0.0002  mono=0.9523\n",
      "[epoch 5] step      40 total=0.8763  cfm=0.8762  curl=0.0001  mono=0.8572\n"
     ]
    }
   ],
   "source": [
    "ema_reg = bcfm.train_cgm(\n",
    "    model, loader, epochs=5, lr=1e-3, device=device,\n",
    "    lambda_curl=1e-4, \n",
    "    lambda_mono=1e-4,\n",
    "    probes=1,  \n",
    "    pool_factor=None,\n",
    "    probe_dist=\"rademacher\", \n",
    "    orthogonalize=True,\n",
    "    penalty_train_flag=False,\n",
    "    normalize_curl=False,\n",
    "    log_every = 10\n",
    ")"
   ]
  },
  {
   "cell_type": "code",
   "execution_count": null,
   "id": "828d8ae3-2104-4f10-856f-37d419492841",
   "metadata": {},
   "outputs": [],
   "source": []
  }
 ],
 "metadata": {
  "kernelspec": {
   "display_name": "Python 3 (ipykernel)",
   "language": "python",
   "name": "python3"
  },
  "language_info": {
   "codemirror_mode": {
    "name": "ipython",
    "version": 3
   },
   "file_extension": ".py",
   "mimetype": "text/x-python",
   "name": "python",
   "nbconvert_exporter": "python",
   "pygments_lexer": "ipython3",
   "version": "3.12.3"
  }
 },
 "nbformat": 4,
 "nbformat_minor": 5
}
