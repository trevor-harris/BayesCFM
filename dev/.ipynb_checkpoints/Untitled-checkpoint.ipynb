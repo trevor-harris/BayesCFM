{
 "cells": [
  {
   "cell_type": "code",
   "execution_count": 174,
   "id": "cb5a851f-c4e1-4aca-8de6-f6b78c330294",
   "metadata": {},
   "outputs": [],
   "source": [
    "import torch\n",
    "import torch.nn as nn\n",
    "import torch.nn.functional as F\n",
    "\n",
    "import matplotlib\n",
    "import matplotlib.pyplot as plt\n",
    "\n",
    "class VelocityField(nn.Module):\n",
    "    def __init__(self, x_dim, cond_dim, hidden_dim=128, time_embed_dim=16):\n",
    "        super().__init__()\n",
    "        self.time_embed_dim = time_embed_dim\n",
    "        self.freqs = nn.Parameter(torch.linspace(1.0, 10.0, time_embed_dim), requires_grad=False)\n",
    "\n",
    "        input_dim = x_dim + time_embed_dim + cond_dim\n",
    "        self.net = nn.Sequential(\n",
    "            nn.Linear(input_dim, hidden_dim),\n",
    "            nn.Tanh(),\n",
    "            nn.Linear(hidden_dim, hidden_dim),\n",
    "            nn.Tanh(),\n",
    "            nn.Linear(hidden_dim, x_dim)\n",
    "        )\n",
    "\n",
    "    def time_embed(self, t):\n",
    "        return torch.sin(t * self.freqs)\n",
    "\n",
    "    def forward(self, x_t, t, y):\n",
    "        \"\"\"\n",
    "        x_t: [B, d]  -- interpolated state\n",
    "        t:   [B, 1]  -- scalar time\n",
    "        y:   [B, c]  -- conditional input\n",
    "        \"\"\"\n",
    "        t_embed = self.time_embed(t)  # [B, time_embed_dim]\n",
    "        h = torch.cat([x_t, t_embed, y], dim=-1)\n",
    "        return self.net(h)  # [B, d]\n",
    "\n",
    "def flow_matching_loss(model, x0, x1, y):\n",
    "    \"\"\"\n",
    "    x0, x1: [B, d]   -- samples from conditional marginal\n",
    "    y:     [B, c]   -- conditioning variable\n",
    "    \"\"\"\n",
    "    B, d = x0.shape\n",
    "    t = torch.rand(B, 1, device=x0.device)\n",
    "    x_t = (1 - t) * x0 + t * x1\n",
    "    v_target = x1 - x0\n",
    "\n",
    "    v_pred = model(x_t, t, y)\n",
    "    return F.mse_loss(v_pred, v_target)\n"
   ]
  },
  {
   "cell_type": "code",
   "execution_count": 175,
   "id": "7c016ae6-deab-4a52-bbdf-41f360100e4a",
   "metadata": {},
   "outputs": [],
   "source": [
    "def rk4_step(f, x, t, dt, y):\n",
    "    \"\"\"Performs one RK4 step for dx/dt = f(t, x) with conditioning y\"\"\"\n",
    "    k1 = f(t,     x,     y)\n",
    "    k2 = f(t+dt/2, x + dt/2 * k1, y)\n",
    "    k3 = f(t+dt/2, x + dt/2 * k2, y)\n",
    "    k4 = f(t+dt,   x + dt   * k3, y)\n",
    "    return x + (dt/6)*(k1 + 2*k2 + 2*k3 + k4)\n",
    "\n",
    "def rk4_integrate(f, x0, t0, t1, y, steps=100):\n",
    "    \"\"\"\n",
    "    Integrate dx/dt = f(t, x, y) from t0 to t1 using RK4\n",
    "\n",
    "    Args:\n",
    "        f: function f(t, x, y) -> dx/dt\n",
    "        x0: [B, d] initial state\n",
    "        t0: float\n",
    "        t1: float\n",
    "        y: [B, cond_dim] conditioning\n",
    "        steps: number of steps to integrate\n",
    "\n",
    "    Returns:\n",
    "        x_T: final state at t1\n",
    "    \"\"\"\n",
    "    dt = (t1 - t0) / steps\n",
    "    x = x0\n",
    "    t = t0\n",
    "    for _ in range(steps):\n",
    "        x = rk4_step(f, x, t, dt, y)\n",
    "        t += dt\n",
    "    return x\n",
    "\n",
    "def velocity_wrapper(model):\n",
    "    \"\"\"\n",
    "    Returns a callable f(t, x, y) to integrate with RK4\n",
    "    \"\"\"\n",
    "    def f(t, x, y):\n",
    "        if x.dim() == 1:\n",
    "            x = x.unsqueeze(0)\n",
    "        B = x.shape[0]\n",
    "        t_tensor = torch.ones(B, 1, device=x.device) * t\n",
    "        return model(x, t_tensor, y)\n",
    "    return f\n",
    "\n",
    "@torch.no_grad()\n",
    "def sample_from_flow(model, x0, y, t0=0.0, t1=1.0, steps=100):\n",
    "    f = velocity_wrapper(model)\n",
    "    return rk4_integrate(f, x0, t0, t1, y, steps)\n"
   ]
  },
  {
   "cell_type": "code",
   "execution_count": null,
   "id": "e24d5d87-fb22-4dbc-976f-13c902781ce9",
   "metadata": {},
   "outputs": [],
   "source": []
  },
  {
   "cell_type": "code",
   "execution_count": 183,
   "id": "e9edba21-2272-4407-b578-84db50c2c78c",
   "metadata": {},
   "outputs": [],
   "source": [
    "class ConvVelocityField(nn.Module):\n",
    "    def __init__(self, in_channels, hidden_channels=64, time_embed_dim=16):\n",
    "        super().__init__()\n",
    "        self.time_embed_dim = time_embed_dim\n",
    "        self.freqs = nn.Parameter(torch.linspace(1.0, 10.0, time_embed_dim), requires_grad=False)\n",
    "\n",
    "        # Project time embedding to match spatial resolution\n",
    "        self.time_proj = nn.Linear(time_embed_dim, hidden_channels)\n",
    "\n",
    "        # Conv net\n",
    "        self.net = nn.Sequential(\n",
    "            nn.Conv2d(in_channels + hidden_channels, hidden_channels, kernel_size=3, padding=1),\n",
    "            nn.SiLU(),\n",
    "            nn.Conv2d(hidden_channels, hidden_channels, kernel_size=3, padding=1),\n",
    "            nn.SiLU(),\n",
    "            nn.Conv2d(hidden_channels, hidden_channels, kernel_size=3, padding=1),\n",
    "            nn.SiLU(),\n",
    "            nn.Conv2d(hidden_channels, hidden_channels, kernel_size=3, padding=1),\n",
    "            nn.SiLU(),\n",
    "            nn.Conv2d(hidden_channels, hidden_channels, kernel_size=3, padding=1),\n",
    "            nn.SiLU(),\n",
    "            nn.Conv2d(hidden_channels, hidden_channels, kernel_size=3, padding=1),\n",
    "            nn.SiLU(),\n",
    "            nn.Conv2d(hidden_channels, hidden_channels, kernel_size=3, padding=1),\n",
    "            nn.SiLU(),\n",
    "            nn.Conv2d(hidden_channels, in_channels, kernel_size=3, padding=1)\n",
    "        )\n",
    "\n",
    "    def time_embed(self, t):\n",
    "        # t: [B, 1]\n",
    "        return torch.sin(t * self.freqs)  # [B, time_embed_dim]\n",
    "\n",
    "    def forward(self, x_t, t):\n",
    "        \"\"\"\n",
    "        x_t: [B, C, H, W]  -- interpolated state\n",
    "        t:   [B, 1]        -- scalar time\n",
    "        \"\"\"\n",
    "        # Create time embedding\n",
    "        t_embed = self.time_embed(t)  # [B, time_embed_dim]\n",
    "        t_proj = self.time_proj(t_embed)  # [B, hidden_channels]\n",
    "        # Broadcast to spatial dims\n",
    "        t_proj = t_proj[:, :, None, None].expand(-1, -1, x_t.shape[2], x_t.shape[3])\n",
    "\n",
    "        # Concatenate time conditioning\n",
    "        h = torch.cat([x_t, t_proj], dim=1)  # [B, C+hidden_channels, H, W]\n",
    "        return self.net(h)  # [B, C, H, W]"
   ]
  },
  {
   "cell_type": "code",
   "execution_count": 173,
   "id": "6ddc56ef-71f7-484a-876a-a795995da162",
   "metadata": {},
   "outputs": [],
   "source": [
    "import torch.nn as nn\n",
    "import torch.nn.functional as F\n",
    "\n",
    "# ---------------------------------------------------------------------\n",
    "# Small helpers: time embedding and residual block that accepts time\n",
    "# ---------------------------------------------------------------------\n",
    "class TimeEmbed(nn.Module):\n",
    "    def __init__(self, time_embed_dim=16, hidden_dim=128):\n",
    "        super().__init__()\n",
    "        # fixed freqs as in your original code (not learned)\n",
    "        self.freqs = nn.Parameter(torch.linspace(1.0, 10.0, time_embed_dim), requires_grad=False)\n",
    "        self.mlp = nn.Sequential(\n",
    "            nn.Linear(time_embed_dim, hidden_dim),\n",
    "            nn.SiLU(),\n",
    "            nn.Linear(hidden_dim, hidden_dim)\n",
    "        )\n",
    "\n",
    "    def forward(self, t):\n",
    "        # t: [B, 1]\n",
    "        # produces [B, hidden_dim]\n",
    "        x = torch.sin(t * self.freqs)  # [B, time_embed_dim]\n",
    "        return self.mlp(x)\n",
    "\n",
    "\n",
    "class ResConvBlock(nn.Module):\n",
    "    \"\"\"\n",
    "    Residual conv block which adds a (broadcasted) time embedding after first conv.\n",
    "    \"\"\"\n",
    "    def __init__(self, in_ch, out_ch, time_dim, groups=8):\n",
    "        super().__init__()\n",
    "        self.conv1 = nn.Conv2d(in_ch, out_ch, kernel_size=3, padding=1)\n",
    "        self.gn1 = nn.GroupNorm(groups, out_ch)\n",
    "        self.conv2 = nn.Conv2d(out_ch, out_ch, kernel_size=3, padding=1)\n",
    "        self.gn2 = nn.GroupNorm(groups, out_ch)\n",
    "        self.time_proj = nn.Linear(time_dim, out_ch)\n",
    "\n",
    "        # if channel mismatch, use 1x1 to match for residual\n",
    "        self.nin_shortcut = nn.Identity()\n",
    "        if in_ch != out_ch:\n",
    "            self.nin_shortcut = nn.Conv2d(in_ch, out_ch, kernel_size=1)\n",
    "\n",
    "    def forward(self, x, t_emb):\n",
    "        \"\"\"\n",
    "        x: [B, C, H, W]\n",
    "        t_emb: [B, time_dim]\n",
    "        \"\"\"\n",
    "        h = self.conv1(x)\n",
    "        # add time embedding (project & broadcast)\n",
    "        t = self.time_proj(t_emb)[:, :, None, None]\n",
    "        h = self.gn1(h + t)\n",
    "        h = F.silu(h)\n",
    "\n",
    "        h = self.conv2(h)\n",
    "        h = self.gn2(h)\n",
    "        h = F.silu(h)\n",
    "\n",
    "        return h + self.nin_shortcut(x)\n",
    "\n",
    "\n",
    "# ---------------------------------------------------------------------\n",
    "# U-Net velocity field\n",
    "# ---------------------------------------------------------------------\n",
    "class ConvUNetVelocityField(nn.Module):\n",
    "    def __init__(self, in_channels=1, base_channels=64, time_embed_dim=16, time_mlp_dim=128, depths=(1, 1, 2)):\n",
    "        \"\"\"\n",
    "        - in_channels: image channels (1 for MNIST, 3 for CIFAR)\n",
    "        - base_channels: number of channels in the first stage\n",
    "        - time_embed_dim: size of the sinusoidal frequency embedding\n",
    "        - time_mlp_dim: hidden dim for time MLP (injected into ResConvBlock)\n",
    "        - depths: tuple controlling number of ResConvBlocks per stage (down / bottleneck / up)\n",
    "        \"\"\"\n",
    "        super().__init__()\n",
    "        self.time_mlp = TimeEmbed(time_embed_dim=time_embed_dim, hidden_dim=time_mlp_dim)\n",
    "\n",
    "        # Encoder stages\n",
    "        self.enc_blocks = nn.ModuleList()\n",
    "        self.downs = nn.ModuleList()\n",
    "        in_ch = in_channels\n",
    "        channels = []\n",
    "        for i, d in enumerate(depths):\n",
    "            out_ch = base_channels * (2 ** i)\n",
    "            for _ in range(d):\n",
    "                self.enc_blocks.append(ResConvBlock(in_ch, out_ch, time_dim=time_mlp_dim))\n",
    "                in_ch = out_ch\n",
    "            channels.append(out_ch)\n",
    "            # downsample between stages (except after last)\n",
    "            self.downs.append(nn.Conv2d(out_ch, out_ch, kernel_size=4, stride=2, padding=1))  # halves H,W\n",
    "\n",
    "        # Bottleneck (an extra block)\n",
    "        self.bot_block = ResConvBlock(in_ch, in_ch * 2, time_dim=time_mlp_dim)\n",
    "        bot_ch = in_ch * 2\n",
    "\n",
    "        # Decoder stages (mirror)\n",
    "        self.up_convs = nn.ModuleList()\n",
    "        self.dec_blocks = nn.ModuleList()\n",
    "        rev_channels = list(reversed(channels))\n",
    "        in_ch = bot_ch\n",
    "        for i, out_ch in enumerate(rev_channels):\n",
    "            # upsample via ConvTranspose2d to double spatial dims\n",
    "            self.up_convs.append(nn.ConvTranspose2d(in_ch, out_ch, kernel_size=4, stride=2, padding=1))\n",
    "            # After concatenation with skip, process with ResConvBlock(s)\n",
    "            self.dec_blocks.append(ResConvBlock(in_ch=out_ch * 2, out_ch=out_ch, time_dim=time_mlp_dim))\n",
    "            in_ch = out_ch\n",
    "\n",
    "        # final conv to map back to image channels\n",
    "        self.final_conv = nn.Sequential(\n",
    "            nn.Conv2d(base_channels, base_channels, kernel_size=3, padding=1),\n",
    "            nn.SiLU(),\n",
    "            nn.Conv2d(base_channels, in_channels, kernel_size=3, padding=1)\n",
    "        )\n",
    "\n",
    "    def forward(self, x_t, t):\n",
    "        \"\"\"\n",
    "        x_t: [B, C, H, W]\n",
    "        t:   [B, 1]  (scalar time per sample)\n",
    "        returns velocity of same shape as x_t: [B, C, H, W]\n",
    "        \"\"\"\n",
    "        B, C, H, W = x_t.shape\n",
    "        t_emb = self.time_mlp(t)  # [B, time_mlp_dim]\n",
    "\n",
    "        # Encoder: store skips\n",
    "        skips = []\n",
    "        idx = 0\n",
    "        h = x_t\n",
    "        # iterate over enc_blocks and downs; enc_blocks is flattened sequence\n",
    "        enc_block_iter = iter(self.enc_blocks)\n",
    "        for down in self.downs:\n",
    "            # each stage may have multiple blocks (depending on how many were appended)\n",
    "            # We find blocks until next down is consumed (we appended d blocks per stage)\n",
    "            # Implementation detail: we rely on the ordering used during creation\n",
    "            # Apply the number of blocks that correspond to this stage by applying blocks until shape changes from down op\n",
    "            # Simpler: apply one block per stage loop per depths value; earlier we stored \"depths\"\n",
    "            # But to keep logic simple and robust, we apply blocks until the next down is applied.\n",
    "            # Here we just apply one block per downs stage (matching how we built enc_blocks).\n",
    "            block = next(enc_block_iter)\n",
    "            h = block(h, t_emb)\n",
    "            skips.append(h)\n",
    "            h = down(h)\n",
    "\n",
    "        # There may be remaining enc_blocks if depths had >1 in a stage; consume them\n",
    "        for block in enc_block_iter:\n",
    "            h = block(h, t_emb)\n",
    "\n",
    "        # Bottleneck\n",
    "        h = self.bot_block(h, t_emb)\n",
    "\n",
    "        # Decoder: upsample and use skips\n",
    "        for up_conv, dec_block in zip(self.up_convs, self.dec_blocks):\n",
    "            h = up_conv(h)\n",
    "            skip = skips.pop()  # last skip\n",
    "            # If shapes differ by 1 due to odd sizes, center-crop skip to match\n",
    "            if skip.shape[-2:] != h.shape[-2:]:\n",
    "                # simple center crop\n",
    "                sh, sw = skip.shape[-2:]\n",
    "                hh, ww = h.shape[-2:]\n",
    "                start_h = (sh - hh) // 2\n",
    "                start_w = (sw - ww) // 2\n",
    "                skip = skip[..., start_h:start_h+hh, start_w:start_w+ww]\n",
    "            # concat channels\n",
    "            h = torch.cat([h, skip], dim=1)\n",
    "            h = dec_block(h, t_emb)\n",
    "\n",
    "        # final conv\n",
    "        v = self.final_conv(h)\n",
    "        v = nn.Upsample((28, 28))(v)\n",
    "        return v"
   ]
  },
  {
   "cell_type": "code",
   "execution_count": 55,
   "id": "6dd43075-fbd1-4990-938c-8cd95d7f0c9a",
   "metadata": {},
   "outputs": [],
   "source": [
    "from torchvision import datasets, transforms\n",
    "from torch.utils.data import DataLoader\n",
    "\n",
    "# Define a transform to normalize the data\n",
    "transform = transforms.Compose([\n",
    "    transforms.ToTensor(),  # Convert images to PyTorch tensors\n",
    "    transforms.Normalize((0.1307,), (0.3081,))  # Mean and std for MNIST\n",
    "])\n",
    "\n",
    "# Download and load the training dataset\n",
    "train_dataset = datasets.MNIST(\n",
    "    root=\"./data\",\n",
    "    train=True,\n",
    "    download=True,\n",
    "    transform=transform\n",
    ")\n",
    "\n",
    "# Download and load the test dataset\n",
    "test_dataset = datasets.MNIST(\n",
    "    root=\"./data\",\n",
    "    train=False,\n",
    "    download=True,\n",
    "    transform=transform\n",
    ")\n",
    "\n",
    "# Create data loaders\n",
    "train_loader = DataLoader(train_dataset, batch_size=64, shuffle=True)\n",
    "test_loader = DataLoader(test_dataset, batch_size=1000, shuffle=False)\n",
    "\n",
    "# # Example: iterate over the training data\n",
    "# for batch_idx, (x, y) in enumerate(train_loader):\n",
    "#     print(f\"Batch {batch_idx} | Data shape: {x.shape} | Target shape: {y.shape}\")\n",
    "#     break"
   ]
  },
  {
   "cell_type": "code",
   "execution_count": 56,
   "id": "20140482-bcb4-444a-a46d-1a8740729386",
   "metadata": {},
   "outputs": [],
   "source": [
    "model = ConvUNetVelocityField(in_channels=1, base_channels=64, time_embed_dim=16, time_mlp_dim=128, depths=(1,1,2))"
   ]
  },
  {
   "cell_type": "code",
   "execution_count": 57,
   "id": "e436e4b9-b66d-4f40-a372-27d6ffe5d2fe",
   "metadata": {},
   "outputs": [
    {
     "data": {
      "text/plain": [
       "torch.Size([64, 1, 28, 28])"
      ]
     },
     "execution_count": 57,
     "metadata": {},
     "output_type": "execute_result"
    }
   ],
   "source": [
    "t = torch.rand(64, 1)\n",
    "v = model(x, t)\n",
    "v.shape"
   ]
  },
  {
   "cell_type": "code",
   "execution_count": 61,
   "id": "d580b8a6-c0a4-46f3-8d47-06b926f29d0c",
   "metadata": {},
   "outputs": [],
   "source": [
    "# Example: iterate over the training data\n",
    "model = ConvUNetVelocityField(in_channels=1, base_channels=64, time_embed_dim=16, time_mlp_dim=128, depths=(1,1,2))\n",
    "for x, y in train_loader:\n",
    "    pass"
   ]
  },
  {
   "cell_type": "code",
   "execution_count": 63,
   "id": "286aa478-53d6-4e94-8c56-f52b69f84d12",
   "metadata": {},
   "outputs": [],
   "source": [
    "def conv_flow_matching_loss(model, x0, x1):\n",
    "    \"\"\"\n",
    "    x0, x1: [B, d]   -- samples from conditional marginal\n",
    "    y:     [B, c]   -- conditioning variable\n",
    "    \"\"\"\n",
    "    n, c, h, w = x0.shape\n",
    "    t = torch.rand(n, 1, device=x0.device)\n",
    "    t_conv = t[:,:,None,None]\n",
    "    x_t = (1 - t_conv) * x0 + t_conv * x1\n",
    "    v_target = x1 - x0\n",
    "    v_pred = model(x_t, t)\n",
    "    return F.mse_loss(v_pred, v_target)"
   ]
  },
  {
   "cell_type": "code",
   "execution_count": 179,
   "id": "8bc72a65-fb82-4151-89f7-7285d29e0280",
   "metadata": {},
   "outputs": [],
   "source": [
    "def gradient_field_penalty(v_func, x, t, num_samples=1, sym_weight=1.0, eig_weight=1.0):\n",
    "    \"\"\"\n",
    "    Computes a regularization penalty to encourage v ≈ ∇φ (gradient of convex potential)\n",
    "\n",
    "    v_func: velocity model, takes (x, t, y) -> [B, D]\n",
    "    x: [B, D], requires_grad=True\n",
    "    t: [B, 1]\n",
    "    y: [B, C]\n",
    "    Returns:\n",
    "        scalar penalty\n",
    "    \"\"\"\n",
    "    # B, D = x.shape\n",
    "    n, c, h, w = x.shape\n",
    "    device = x.device\n",
    "    penalty = 0.0\n",
    "\n",
    "    for _ in range(num_samples):\n",
    "        z = torch.randn_like(x)  # Hutchinson probe\n",
    "\n",
    "        # Vector-Jacobian product: J_v z\n",
    "        v = v_func(x, t)  # [B, D]\n",
    "        Jv_z = torch.autograd.grad(\n",
    "            outputs=v,\n",
    "            inputs=x,\n",
    "            grad_outputs=z,\n",
    "            create_graph=True,\n",
    "            retain_graph=True,\n",
    "            only_inputs=True\n",
    "        )[0]  # [B, D]\n",
    "\n",
    "        # Jacobian-Vector product: J_v^T z = ∇_x (v^T z)\n",
    "        vz = torch.sum(v * z, dim=1)  # [B]\n",
    "        JvT_z = torch.autograd.grad(\n",
    "            outputs=vz,\n",
    "            inputs=x,\n",
    "            grad_outputs=torch.ones_like(vz),\n",
    "            create_graph=True,\n",
    "            retain_graph=True,\n",
    "            only_inputs=True\n",
    "        )[0]  # [B, D]\n",
    "\n",
    "        # Symmetry penalty: || Jv_z - JvT_z ||^2\n",
    "        sym_penalty = ((Jv_z - JvT_z)**2).sum(dim=1)  # [B]\n",
    "\n",
    "        # Convexity (PSD) penalty: penalize z^T Jv z < 0\n",
    "        zT_Jv_z = (Jv_z * z).sum(dim=1)  # [B]\n",
    "        eig_penalty = F.relu(-zT_Jv_z)**2  # [B]\n",
    "\n",
    "        penalty += sym_weight * sym_penalty.mean() + eig_weight * eig_penalty.mean()\n",
    "\n",
    "    return penalty / num_samples\n",
    "\n",
    "def CGM_loss(model, x0, x1, reg_weight=1.0, sym_weight=1.0, eig_weight=1.0):\n",
    "    n, c, h, w = x0.shape\n",
    "    t = torch.rand(n, 1, device=x0.device)\n",
    "    t_conv = t[:,:,None,None]\n",
    "    x_t = (1 - t_conv) * x0 + t_conv * x1\n",
    "    x_t = x_t.detach().requires_grad_()\n",
    "    v_target = x1 - x0\n",
    "    v_pred = model(x_t, t)\n",
    "    \n",
    "    fm_loss = F.mse_loss(v_pred, v_target)\n",
    "    reg_penalty = gradient_field_penalty(model, x_t, t,sym_weight=sym_weight, eig_weight=eig_weight)\n",
    "\n",
    "    return fm_loss + reg_weight * reg_penalty, {\n",
    "        'fm_loss': fm_loss.item(),\n",
    "        'reg_penalty': reg_penalty.item()\n",
    "    }\n",
    "\n",
    "def add_sgmcmc_noise(model, lr, noise_scale=1.0):\n",
    "    for p in model.parameters():\n",
    "        if p.grad is None:\n",
    "            continue\n",
    "        noise = torch.randn_like(p) * torch.sqrt(torch.tensor(2.0 * lr)) * noise_scale\n",
    "        p.data.add_(noise)"
   ]
  },
  {
   "cell_type": "code",
   "execution_count": 180,
   "id": "1e997af4-ac29-4a72-8965-a0e652b3eaac",
   "metadata": {},
   "outputs": [],
   "source": [
    "def rk4_step(f, x, t, dt):\n",
    "    \"\"\"Performs one RK4 step for dx/dt = f(t, x) with conditioning y\"\"\"\n",
    "    k1 = f(t,     x)\n",
    "    k2 = f(t+dt/2, x + dt/2 * k1)\n",
    "    k3 = f(t+dt/2, x + dt/2 * k2)\n",
    "    k4 = f(t+dt,   x + dt   * k3)\n",
    "    return x + (dt/6)*(k1 + 2*k2 + 2*k3 + k4)\n",
    "\n",
    "def rk4_integrate(f, x0, t0, t1,steps=100):\n",
    "    \"\"\"\n",
    "    Integrate dx/dt = f(t, x, y) from t0 to t1 using RK4\n",
    "\n",
    "    Args:\n",
    "        f: function f(t, x, y) -> dx/dt\n",
    "        x0: [B, d] initial state\n",
    "        t0: float\n",
    "        t1: float\n",
    "        y: [B, cond_dim] conditioning\n",
    "        steps: number of steps to integrate\n",
    "\n",
    "    Returns:\n",
    "        x_T: final state at t1\n",
    "    \"\"\"\n",
    "    dt = (t1 - t0) / steps\n",
    "    x = x0\n",
    "    t = t0\n",
    "    for _ in range(steps):\n",
    "        x = rk4_step(f, x, t, dt)\n",
    "        t += dt\n",
    "    return x\n",
    "\n",
    "def velocity_wrapper(model):\n",
    "    \"\"\"\n",
    "    Returns a callable f(t, x, y) to integrate with RK4\n",
    "    \"\"\"\n",
    "    def f(t, x):\n",
    "        if x.dim() == 1:\n",
    "            x = x.unsqueeze(0)\n",
    "        B = x.shape[0]\n",
    "        t_tensor = torch.ones(B, 1, device=x.device) * t\n",
    "        return model(x, t_tensor)\n",
    "    return f\n",
    "\n",
    "@torch.no_grad()\n",
    "def sample_from_flow(model, x0, t0=0.0, t1=1.0, steps=100):\n",
    "    f = velocity_wrapper(model)\n",
    "    return rk4_integrate(f, x0, t0, t1, steps)\n"
   ]
  },
  {
   "cell_type": "code",
   "execution_count": 155,
   "id": "df1195f1-8950-4728-ba27-2f06c8883a49",
   "metadata": {},
   "outputs": [],
   "source": [
    "# conv_flow_matching_loss(model, torch.randn_like(x), x)"
   ]
  },
  {
   "cell_type": "code",
   "execution_count": 156,
   "id": "6d0e453b-4467-40b1-a59a-6805cd5032ee",
   "metadata": {},
   "outputs": [],
   "source": [
    "from tqdm.notebook import trange, tqdm"
   ]
  },
  {
   "cell_type": "code",
   "execution_count": 157,
   "id": "967b0faa-1f26-4660-a0eb-cbd144988bd9",
   "metadata": {},
   "outputs": [],
   "source": [
    "device = torch.device(\"cuda\" if torch.cuda.is_available() else \"cpu\")"
   ]
  },
  {
   "cell_type": "code",
   "execution_count": 158,
   "id": "bd813a62-d830-4cc7-aa7c-4885e30576d0",
   "metadata": {},
   "outputs": [
    {
     "data": {
      "application/vnd.jupyter.widget-view+json": {
       "model_id": "129a8e15314145a7bae5a25c79c75dfc",
       "version_major": 2,
       "version_minor": 0
      },
      "text/plain": [
       "  0%|          | 0/10 [00:00<?, ?it/s]"
      ]
     },
     "metadata": {},
     "output_type": "display_data"
    },
    {
     "data": {
      "application/vnd.jupyter.widget-view+json": {
       "model_id": "83f350c751ab4a6281c8398b02a4b6b8",
       "version_major": 2,
       "version_minor": 0
      },
      "text/plain": [
       "  0%|          | 0/938 [00:00<?, ?it/s]"
      ]
     },
     "metadata": {},
     "output_type": "display_data"
    },
    {
     "name": "stdout",
     "output_type": "stream",
     "text": [
      "tensor(0.6665, device='cuda:0')\n"
     ]
    },
    {
     "data": {
      "application/vnd.jupyter.widget-view+json": {
       "model_id": "b191e9f4cb8b47fe900d328a5c35a1c8",
       "version_major": 2,
       "version_minor": 0
      },
      "text/plain": [
       "  0%|          | 0/938 [00:00<?, ?it/s]"
      ]
     },
     "metadata": {},
     "output_type": "display_data"
    },
    {
     "name": "stdout",
     "output_type": "stream",
     "text": [
      "tensor(0.6441, device='cuda:0')\n",
      "tensor(0.5946, device='cuda:0')\n"
     ]
    },
    {
     "data": {
      "application/vnd.jupyter.widget-view+json": {
       "model_id": "0087c84ca970422083f4fb5854beccb8",
       "version_major": 2,
       "version_minor": 0
      },
      "text/plain": [
       "  0%|          | 0/938 [00:00<?, ?it/s]"
      ]
     },
     "metadata": {},
     "output_type": "display_data"
    },
    {
     "name": "stdout",
     "output_type": "stream",
     "text": [
      "tensor(0.6087, device='cuda:0')\n",
      "tensor(0.6145, device='cuda:0')\n"
     ]
    },
    {
     "data": {
      "application/vnd.jupyter.widget-view+json": {
       "model_id": "99437c779de54fdb9e2341923dd0b90d",
       "version_major": 2,
       "version_minor": 0
      },
      "text/plain": [
       "  0%|          | 0/938 [00:00<?, ?it/s]"
      ]
     },
     "metadata": {},
     "output_type": "display_data"
    },
    {
     "name": "stdout",
     "output_type": "stream",
     "text": [
      "tensor(0.5943, device='cuda:0')\n",
      "tensor(0.6073, device='cuda:0')\n"
     ]
    },
    {
     "data": {
      "application/vnd.jupyter.widget-view+json": {
       "model_id": "81f549ac752848e48a9c191a12a7f5cf",
       "version_major": 2,
       "version_minor": 0
      },
      "text/plain": [
       "  0%|          | 0/938 [00:00<?, ?it/s]"
      ]
     },
     "metadata": {},
     "output_type": "display_data"
    },
    {
     "name": "stdout",
     "output_type": "stream",
     "text": [
      "tensor(0.5881, device='cuda:0')\n",
      "tensor(0.5584, device='cuda:0')\n"
     ]
    },
    {
     "data": {
      "application/vnd.jupyter.widget-view+json": {
       "model_id": "ad2607e74469489dbb4dd766c70fa999",
       "version_major": 2,
       "version_minor": 0
      },
      "text/plain": [
       "  0%|          | 0/938 [00:00<?, ?it/s]"
      ]
     },
     "metadata": {},
     "output_type": "display_data"
    },
    {
     "name": "stdout",
     "output_type": "stream",
     "text": [
      "tensor(0.5848, device='cuda:0')\n",
      "tensor(0.5803, device='cuda:0')\n"
     ]
    },
    {
     "data": {
      "application/vnd.jupyter.widget-view+json": {
       "model_id": "89c506bd52dc421fa066f811f280b9a8",
       "version_major": 2,
       "version_minor": 0
      },
      "text/plain": [
       "  0%|          | 0/938 [00:00<?, ?it/s]"
      ]
     },
     "metadata": {},
     "output_type": "display_data"
    },
    {
     "name": "stdout",
     "output_type": "stream",
     "text": [
      "tensor(0.5481, device='cuda:0')\n",
      "tensor(0.5901, device='cuda:0')\n"
     ]
    },
    {
     "data": {
      "application/vnd.jupyter.widget-view+json": {
       "model_id": "e2f0926059b84bc8bc3af13b21476d95",
       "version_major": 2,
       "version_minor": 0
      },
      "text/plain": [
       "  0%|          | 0/938 [00:00<?, ?it/s]"
      ]
     },
     "metadata": {},
     "output_type": "display_data"
    },
    {
     "name": "stdout",
     "output_type": "stream",
     "text": [
      "tensor(0.5564, device='cuda:0')\n",
      "tensor(0.5813, device='cuda:0')\n"
     ]
    },
    {
     "data": {
      "application/vnd.jupyter.widget-view+json": {
       "model_id": "7785af73104140f1926386e0caf61dc9",
       "version_major": 2,
       "version_minor": 0
      },
      "text/plain": [
       "  0%|          | 0/938 [00:00<?, ?it/s]"
      ]
     },
     "metadata": {},
     "output_type": "display_data"
    },
    {
     "name": "stdout",
     "output_type": "stream",
     "text": [
      "tensor(0.5759, device='cuda:0')\n"
     ]
    },
    {
     "data": {
      "application/vnd.jupyter.widget-view+json": {
       "model_id": "a51b69a26f7b4d0fb8d74c99e1c177e1",
       "version_major": 2,
       "version_minor": 0
      },
      "text/plain": [
       "  0%|          | 0/938 [00:00<?, ?it/s]"
      ]
     },
     "metadata": {},
     "output_type": "display_data"
    },
    {
     "name": "stdout",
     "output_type": "stream",
     "text": [
      "tensor(0.5780, device='cuda:0')\n",
      "tensor(0.5476, device='cuda:0')\n"
     ]
    }
   ],
   "source": [
    "lr = 1e-3\n",
    "model = ConvUNetVelocityField(in_channels=1, base_channels=64, time_embed_dim=16, time_mlp_dim=128, depths=(1,1,2))\n",
    "model = model.cuda()\n",
    "optimizer = torch.optim.Adam(model.parameters(), lr=lr)\n",
    "\n",
    "k = 0\n",
    "for step in trange(10):\n",
    "    for x, y in tqdm(train_loader, leave = False):\n",
    "        x1 = x.cuda()\n",
    "        x0 = torch.randn_like(x1).cuda()\n",
    "        loss = conv_flow_matching_loss(model, x0, x1)\n",
    "        loss.backward()\n",
    "        optimizer.step()\n",
    "        optimizer.zero_grad()\n",
    "\n",
    "        k += 1\n",
    "        if k % 500 == 0: \n",
    "            print(loss.detach())\n",
    "      # add_sgmcmc_noise(model, lr=lr, noise_scale=1e-3)k += 1\n"
   ]
  },
  {
   "cell_type": "code",
   "execution_count": 159,
   "id": "3daf4613-728c-47be-9028-af7d88e22e01",
   "metadata": {},
   "outputs": [],
   "source": [
    "def sgmcmc_sample(model, lr, noise_scale=1.0):\n",
    "  import copy\n",
    "  model_samp = copy.deepcopy(model)\n",
    "  for p in model_samp.parameters():\n",
    "    noise = torch.randn_like(p) * torch.sqrt(torch.tensor(2.0 * lr)) * noise_scale\n",
    "    p.data.add_(noise)\n",
    "  return model_samp"
   ]
  },
  {
   "cell_type": "code",
   "execution_count": 111,
   "id": "e184da1b-eeaa-4d76-b457-5e9a035cf760",
   "metadata": {},
   "outputs": [],
   "source": [
    "# lr = 1e-3\n",
    "\n",
    "# model_samp = sgmcmc_sample(model, lr, noise_scale=1.0)\n",
    "# x1_samp1 = sample_from_flow(model_samp, torch.randn(1000, 1), 0*torch.randn(1000, 1))"
   ]
  },
  {
   "cell_type": "code",
   "execution_count": 166,
   "id": "c88dd8ea-575d-43f0-aa1d-f1d5ffbe8f9d",
   "metadata": {},
   "outputs": [
    {
     "data": {
      "image/png": "[encoded data removed]",
      "text/plain": [
       "<Figure size 1000x400 with 4 Axes>"
      ]
     },
     "metadata": {},
     "output_type": "display_data"
    }
   ],
   "source": [
    "x1_samp = sample_from_flow(model, torch.randn_like(x1).cuda())\n",
    "\n",
    "fig, ax = plt.subplots(1, 4, constrained_layout = True, figsize = (10, 4))\n",
    "ax[0].imshow(x1_samp[0,0].cpu(), cmap = 'binary')\n",
    "ax[1].imshow(x1_samp[1,0].cpu(), cmap = 'binary')\n",
    "ax[2].imshow(x1_samp[2,0].cpu(), cmap = 'binary')\n",
    "ax[3].imshow(x1_samp[3,0].cpu(), cmap = 'binary')\n",
    "plt.show()"
   ]
  },
  {
   "cell_type": "code",
   "execution_count": 189,
   "id": "d00d362f-579f-435a-a6b2-cde54ad84d8e",
   "metadata": {},
   "outputs": [
    {
     "data": {
      "application/vnd.jupyter.widget-view+json": {
       "model_id": "0f03128a92e54969a7955a722d02b4b1",
       "version_major": 2,
       "version_minor": 0
      },
      "text/plain": [
       "  0%|          | 0/25 [00:00<?, ?it/s]"
      ]
     },
     "metadata": {},
     "output_type": "display_data"
    },
    {
     "data": {
      "application/vnd.jupyter.widget-view+json": {
       "model_id": "ea243c95e71a4b639e306b45d1aa360b",
       "version_major": 2,
       "version_minor": 0
      },
      "text/plain": [
       "  0%|          | 0/938 [00:00<?, ?it/s]"
      ]
     },
     "metadata": {},
     "output_type": "display_data"
    },
    {
     "name": "stdout",
     "output_type": "stream",
     "text": [
      "tensor(0.3902, device='cuda:0')\n"
     ]
    },
    {
     "data": {
      "application/vnd.jupyter.widget-view+json": {
       "model_id": "bd9eacec245a4ef99ee5736dc6fb0547",
       "version_major": 2,
       "version_minor": 0
      },
      "text/plain": [
       "  0%|          | 0/938 [00:00<?, ?it/s]"
      ]
     },
     "metadata": {},
     "output_type": "display_data"
    },
    {
     "name": "stdout",
     "output_type": "stream",
     "text": [
      "tensor(0.3480, device='cuda:0')\n",
      "tensor(0.3313, device='cuda:0')\n"
     ]
    },
    {
     "data": {
      "application/vnd.jupyter.widget-view+json": {
       "model_id": "1a9e17c18c3345a0bba52125e77c2b88",
       "version_major": 2,
       "version_minor": 0
      },
      "text/plain": [
       "  0%|          | 0/938 [00:00<?, ?it/s]"
      ]
     },
     "metadata": {},
     "output_type": "display_data"
    },
    {
     "name": "stdout",
     "output_type": "stream",
     "text": [
      "tensor(0.3202, device='cuda:0')\n",
      "tensor(0.3403, device='cuda:0')\n"
     ]
    },
    {
     "data": {
      "application/vnd.jupyter.widget-view+json": {
       "model_id": "e48dd6054b4343ca84c1d77b31cdb8a0",
       "version_major": 2,
       "version_minor": 0
      },
      "text/plain": [
       "  0%|          | 0/938 [00:00<?, ?it/s]"
      ]
     },
     "metadata": {},
     "output_type": "display_data"
    },
    {
     "name": "stdout",
     "output_type": "stream",
     "text": [
      "tensor(0.3126, device='cuda:0')\n",
      "tensor(0.3571, device='cuda:0')\n"
     ]
    },
    {
     "data": {
      "application/vnd.jupyter.widget-view+json": {
       "model_id": "9f6ff69c79d04b8d906fdc0732e0448b",
       "version_major": 2,
       "version_minor": 0
      },
      "text/plain": [
       "  0%|          | 0/938 [00:00<?, ?it/s]"
      ]
     },
     "metadata": {},
     "output_type": "display_data"
    },
    {
     "name": "stdout",
     "output_type": "stream",
     "text": [
      "tensor(0.2889, device='cuda:0')\n",
      "tensor(0.2792, device='cuda:0')\n"
     ]
    },
    {
     "data": {
      "application/vnd.jupyter.widget-view+json": {
       "model_id": "3838220b4d0a4b43a63b15a7d474b792",
       "version_major": 2,
       "version_minor": 0
      },
      "text/plain": [
       "  0%|          | 0/938 [00:00<?, ?it/s]"
      ]
     },
     "metadata": {},
     "output_type": "display_data"
    },
    {
     "name": "stdout",
     "output_type": "stream",
     "text": [
      "tensor(0.3739, device='cuda:0')\n",
      "tensor(0.3253, device='cuda:0')\n"
     ]
    },
    {
     "data": {
      "application/vnd.jupyter.widget-view+json": {
       "model_id": "c782abeb380342f182956615e49873ed",
       "version_major": 2,
       "version_minor": 0
      },
      "text/plain": [
       "  0%|          | 0/938 [00:00<?, ?it/s]"
      ]
     },
     "metadata": {},
     "output_type": "display_data"
    },
    {
     "name": "stdout",
     "output_type": "stream",
     "text": [
      "tensor(0.2921, device='cuda:0')\n",
      "tensor(0.2648, device='cuda:0')\n"
     ]
    },
    {
     "data": {
      "application/vnd.jupyter.widget-view+json": {
       "model_id": "2edda99025664cd6b7a530710fcd9696",
       "version_major": 2,
       "version_minor": 0
      },
      "text/plain": [
       "  0%|          | 0/938 [00:00<?, ?it/s]"
      ]
     },
     "metadata": {},
     "output_type": "display_data"
    },
    {
     "name": "stdout",
     "output_type": "stream",
     "text": [
      "tensor(0.3264, device='cuda:0')\n",
      "tensor(0.2874, device='cuda:0')\n"
     ]
    },
    {
     "data": {
      "application/vnd.jupyter.widget-view+json": {
       "model_id": "0ae6ccb22f9b499da087807ed48734c8",
       "version_major": 2,
       "version_minor": 0
      },
      "text/plain": [
       "  0%|          | 0/938 [00:00<?, ?it/s]"
      ]
     },
     "metadata": {},
     "output_type": "display_data"
    },
    {
     "name": "stdout",
     "output_type": "stream",
     "text": [
      "tensor(0.3321, device='cuda:0')\n"
     ]
    },
    {
     "data": {
      "application/vnd.jupyter.widget-view+json": {
       "model_id": "6c0338e1714748c3a62f67ec9af3f764",
       "version_major": 2,
       "version_minor": 0
      },
      "text/plain": [
       "  0%|          | 0/938 [00:00<?, ?it/s]"
      ]
     },
     "metadata": {},
     "output_type": "display_data"
    },
    {
     "name": "stdout",
     "output_type": "stream",
     "text": [
      "tensor(0.3225, device='cuda:0')\n",
      "tensor(0.3268, device='cuda:0')\n"
     ]
    },
    {
     "data": {
      "application/vnd.jupyter.widget-view+json": {
       "model_id": "631542a6a9f340ca85dff98a687e9de2",
       "version_major": 2,
       "version_minor": 0
      },
      "text/plain": [
       "  0%|          | 0/938 [00:00<?, ?it/s]"
      ]
     },
     "metadata": {},
     "output_type": "display_data"
    },
    {
     "name": "stdout",
     "output_type": "stream",
     "text": [
      "tensor(0.2913, device='cuda:0')\n",
      "tensor(0.3229, device='cuda:0')\n"
     ]
    },
    {
     "data": {
      "application/vnd.jupyter.widget-view+json": {
       "model_id": "5673d36a4222452583a6624d13274449",
       "version_major": 2,
       "version_minor": 0
      },
      "text/plain": [
       "  0%|          | 0/938 [00:00<?, ?it/s]"
      ]
     },
     "metadata": {},
     "output_type": "display_data"
    },
    {
     "name": "stdout",
     "output_type": "stream",
     "text": [
      "tensor(0.3039, device='cuda:0')\n",
      "tensor(0.4272, device='cuda:0')\n"
     ]
    },
    {
     "data": {
      "application/vnd.jupyter.widget-view+json": {
       "model_id": "a68c300c06ec4a3295e5656cd947e52e",
       "version_major": 2,
       "version_minor": 0
      },
      "text/plain": [
       "  0%|          | 0/938 [00:00<?, ?it/s]"
      ]
     },
     "metadata": {},
     "output_type": "display_data"
    },
    {
     "name": "stdout",
     "output_type": "stream",
     "text": [
      "tensor(0.3166, device='cuda:0')\n",
      "tensor(0.3244, device='cuda:0')\n"
     ]
    },
    {
     "data": {
      "application/vnd.jupyter.widget-view+json": {
       "model_id": "003b40ab32574eb4bb24f9c91cf8bcd1",
       "version_major": 2,
       "version_minor": 0
      },
      "text/plain": [
       "  0%|          | 0/938 [00:00<?, ?it/s]"
      ]
     },
     "metadata": {},
     "output_type": "display_data"
    },
    {
     "name": "stdout",
     "output_type": "stream",
     "text": [
      "tensor(0.3129, device='cuda:0')\n",
      "tensor(0.3114, device='cuda:0')\n"
     ]
    },
    {
     "data": {
      "application/vnd.jupyter.widget-view+json": {
       "model_id": "3542631692874a2b8057a944fce479b0",
       "version_major": 2,
       "version_minor": 0
      },
      "text/plain": [
       "  0%|          | 0/938 [00:00<?, ?it/s]"
      ]
     },
     "metadata": {},
     "output_type": "display_data"
    },
    {
     "name": "stdout",
     "output_type": "stream",
     "text": [
      "tensor(0.3299, device='cuda:0')\n",
      "tensor(1.9206, device='cuda:0')\n"
     ]
    },
    {
     "data": {
      "application/vnd.jupyter.widget-view+json": {
       "model_id": "a4229fe6cfed45ccbec54bd9a27fdcf6",
       "version_major": 2,
       "version_minor": 0
      },
      "text/plain": [
       "  0%|          | 0/938 [00:00<?, ?it/s]"
      ]
     },
     "metadata": {},
     "output_type": "display_data"
    },
    {
     "name": "stdout",
     "output_type": "stream",
     "text": [
      "tensor(2.0195, device='cuda:0')\n"
     ]
    },
    {
     "ename": "KeyboardInterrupt",
     "evalue": "",
     "output_type": "error",
     "traceback": [
      "\u001b[0;31m---------------------------------------------------------------------------\u001b[0m",
      "\u001b[0;31mKeyboardInterrupt\u001b[0m                         Traceback (most recent call last)",
      "Cell \u001b[0;32mIn[189], line 13\u001b[0m\n\u001b[1;32m     11\u001b[0m loss \u001b[38;5;241m=\u001b[39m conv_flow_matching_loss(model, x0, x1)\n\u001b[1;32m     12\u001b[0m loss\u001b[38;5;241m.\u001b[39mbackward()\n\u001b[0;32m---> 13\u001b[0m \u001b[43moptimizer\u001b[49m\u001b[38;5;241;43m.\u001b[39;49m\u001b[43mstep\u001b[49m\u001b[43m(\u001b[49m\u001b[43m)\u001b[49m\n\u001b[1;32m     14\u001b[0m optimizer\u001b[38;5;241m.\u001b[39mzero_grad()\n\u001b[1;32m     16\u001b[0m k \u001b[38;5;241m+\u001b[39m\u001b[38;5;241m=\u001b[39m \u001b[38;5;241m1\u001b[39m\n",
      "File \u001b[0;32m~/climate/lib/python3.12/site-packages/torch/optim/optimizer.py:493\u001b[0m, in \u001b[0;36mOptimizer.profile_hook_step.<locals>.wrapper\u001b[0;34m(*args, **kwargs)\u001b[0m\n\u001b[1;32m    488\u001b[0m         \u001b[38;5;28;01melse\u001b[39;00m:\n\u001b[1;32m    489\u001b[0m             \u001b[38;5;28;01mraise\u001b[39;00m \u001b[38;5;167;01mRuntimeError\u001b[39;00m(\n\u001b[1;32m    490\u001b[0m                 \u001b[38;5;124mf\u001b[39m\u001b[38;5;124m\"\u001b[39m\u001b[38;5;132;01m{\u001b[39;00mfunc\u001b[38;5;132;01m}\u001b[39;00m\u001b[38;5;124m must return None or a tuple of (new_args, new_kwargs), but got \u001b[39m\u001b[38;5;132;01m{\u001b[39;00mresult\u001b[38;5;132;01m}\u001b[39;00m\u001b[38;5;124m.\u001b[39m\u001b[38;5;124m\"\u001b[39m\n\u001b[1;32m    491\u001b[0m             )\n\u001b[0;32m--> 493\u001b[0m out \u001b[38;5;241m=\u001b[39m \u001b[43mfunc\u001b[49m\u001b[43m(\u001b[49m\u001b[38;5;241;43m*\u001b[39;49m\u001b[43margs\u001b[49m\u001b[43m,\u001b[49m\u001b[43m \u001b[49m\u001b[38;5;241;43m*\u001b[39;49m\u001b[38;5;241;43m*\u001b[39;49m\u001b[43mkwargs\u001b[49m\u001b[43m)\u001b[49m\n\u001b[1;32m    494\u001b[0m \u001b[38;5;28mself\u001b[39m\u001b[38;5;241m.\u001b[39m_optimizer_step_code()\n\u001b[1;32m    496\u001b[0m \u001b[38;5;66;03m# call optimizer step post hooks\u001b[39;00m\n",
      "File \u001b[0;32m~/climate/lib/python3.12/site-packages/torch/optim/optimizer.py:91\u001b[0m, in \u001b[0;36m_use_grad_for_differentiable.<locals>._use_grad\u001b[0;34m(self, *args, **kwargs)\u001b[0m\n\u001b[1;32m     89\u001b[0m     torch\u001b[38;5;241m.\u001b[39mset_grad_enabled(\u001b[38;5;28mself\u001b[39m\u001b[38;5;241m.\u001b[39mdefaults[\u001b[38;5;124m\"\u001b[39m\u001b[38;5;124mdifferentiable\u001b[39m\u001b[38;5;124m\"\u001b[39m])\n\u001b[1;32m     90\u001b[0m     torch\u001b[38;5;241m.\u001b[39m_dynamo\u001b[38;5;241m.\u001b[39mgraph_break()\n\u001b[0;32m---> 91\u001b[0m     ret \u001b[38;5;241m=\u001b[39m \u001b[43mfunc\u001b[49m\u001b[43m(\u001b[49m\u001b[38;5;28;43mself\u001b[39;49m\u001b[43m,\u001b[49m\u001b[43m \u001b[49m\u001b[38;5;241;43m*\u001b[39;49m\u001b[43margs\u001b[49m\u001b[43m,\u001b[49m\u001b[43m \u001b[49m\u001b[38;5;241;43m*\u001b[39;49m\u001b[38;5;241;43m*\u001b[39;49m\u001b[43mkwargs\u001b[49m\u001b[43m)\u001b[49m\n\u001b[1;32m     92\u001b[0m \u001b[38;5;28;01mfinally\u001b[39;00m:\n\u001b[1;32m     93\u001b[0m     torch\u001b[38;5;241m.\u001b[39m_dynamo\u001b[38;5;241m.\u001b[39mgraph_break()\n",
      "File \u001b[0;32m~/climate/lib/python3.12/site-packages/torch/optim/adam.py:244\u001b[0m, in \u001b[0;36mAdam.step\u001b[0;34m(self, closure)\u001b[0m\n\u001b[1;32m    232\u001b[0m     beta1, beta2 \u001b[38;5;241m=\u001b[39m group[\u001b[38;5;124m\"\u001b[39m\u001b[38;5;124mbetas\u001b[39m\u001b[38;5;124m\"\u001b[39m]\n\u001b[1;32m    234\u001b[0m     has_complex \u001b[38;5;241m=\u001b[39m \u001b[38;5;28mself\u001b[39m\u001b[38;5;241m.\u001b[39m_init_group(\n\u001b[1;32m    235\u001b[0m         group,\n\u001b[1;32m    236\u001b[0m         params_with_grad,\n\u001b[0;32m   (...)\u001b[0m\n\u001b[1;32m    241\u001b[0m         state_steps,\n\u001b[1;32m    242\u001b[0m     )\n\u001b[0;32m--> 244\u001b[0m     \u001b[43madam\u001b[49m\u001b[43m(\u001b[49m\n\u001b[1;32m    245\u001b[0m \u001b[43m        \u001b[49m\u001b[43mparams_with_grad\u001b[49m\u001b[43m,\u001b[49m\n\u001b[1;32m    246\u001b[0m \u001b[43m        \u001b[49m\u001b[43mgrads\u001b[49m\u001b[43m,\u001b[49m\n\u001b[1;32m    247\u001b[0m \u001b[43m        \u001b[49m\u001b[43mexp_avgs\u001b[49m\u001b[43m,\u001b[49m\n\u001b[1;32m    248\u001b[0m \u001b[43m        \u001b[49m\u001b[43mexp_avg_sqs\u001b[49m\u001b[43m,\u001b[49m\n\u001b[1;32m    249\u001b[0m \u001b[43m        \u001b[49m\u001b[43mmax_exp_avg_sqs\u001b[49m\u001b[43m,\u001b[49m\n\u001b[1;32m    250\u001b[0m \u001b[43m        \u001b[49m\u001b[43mstate_steps\u001b[49m\u001b[43m,\u001b[49m\n\u001b[1;32m    251\u001b[0m \u001b[43m        \u001b[49m\u001b[43mamsgrad\u001b[49m\u001b[38;5;241;43m=\u001b[39;49m\u001b[43mgroup\u001b[49m\u001b[43m[\u001b[49m\u001b[38;5;124;43m\"\u001b[39;49m\u001b[38;5;124;43mamsgrad\u001b[39;49m\u001b[38;5;124;43m\"\u001b[39;49m\u001b[43m]\u001b[49m\u001b[43m,\u001b[49m\n\u001b[1;32m    252\u001b[0m \u001b[43m        \u001b[49m\u001b[43mhas_complex\u001b[49m\u001b[38;5;241;43m=\u001b[39;49m\u001b[43mhas_complex\u001b[49m\u001b[43m,\u001b[49m\n\u001b[1;32m    253\u001b[0m \u001b[43m        \u001b[49m\u001b[43mbeta1\u001b[49m\u001b[38;5;241;43m=\u001b[39;49m\u001b[43mbeta1\u001b[49m\u001b[43m,\u001b[49m\n\u001b[1;32m    254\u001b[0m \u001b[43m        \u001b[49m\u001b[43mbeta2\u001b[49m\u001b[38;5;241;43m=\u001b[39;49m\u001b[43mbeta2\u001b[49m\u001b[43m,\u001b[49m\n\u001b[1;32m    255\u001b[0m \u001b[43m        \u001b[49m\u001b[43mlr\u001b[49m\u001b[38;5;241;43m=\u001b[39;49m\u001b[43mgroup\u001b[49m\u001b[43m[\u001b[49m\u001b[38;5;124;43m\"\u001b[39;49m\u001b[38;5;124;43mlr\u001b[39;49m\u001b[38;5;124;43m\"\u001b[39;49m\u001b[43m]\u001b[49m\u001b[43m,\u001b[49m\n\u001b[1;32m    256\u001b[0m \u001b[43m        \u001b[49m\u001b[43mweight_decay\u001b[49m\u001b[38;5;241;43m=\u001b[39;49m\u001b[43mgroup\u001b[49m\u001b[43m[\u001b[49m\u001b[38;5;124;43m\"\u001b[39;49m\u001b[38;5;124;43mweight_decay\u001b[39;49m\u001b[38;5;124;43m\"\u001b[39;49m\u001b[43m]\u001b[49m\u001b[43m,\u001b[49m\n\u001b[1;32m    257\u001b[0m \u001b[43m        \u001b[49m\u001b[43meps\u001b[49m\u001b[38;5;241;43m=\u001b[39;49m\u001b[43mgroup\u001b[49m\u001b[43m[\u001b[49m\u001b[38;5;124;43m\"\u001b[39;49m\u001b[38;5;124;43meps\u001b[39;49m\u001b[38;5;124;43m\"\u001b[39;49m\u001b[43m]\u001b[49m\u001b[43m,\u001b[49m\n\u001b[1;32m    258\u001b[0m \u001b[43m        \u001b[49m\u001b[43mmaximize\u001b[49m\u001b[38;5;241;43m=\u001b[39;49m\u001b[43mgroup\u001b[49m\u001b[43m[\u001b[49m\u001b[38;5;124;43m\"\u001b[39;49m\u001b[38;5;124;43mmaximize\u001b[39;49m\u001b[38;5;124;43m\"\u001b[39;49m\u001b[43m]\u001b[49m\u001b[43m,\u001b[49m\n\u001b[1;32m    259\u001b[0m \u001b[43m        \u001b[49m\u001b[43mforeach\u001b[49m\u001b[38;5;241;43m=\u001b[39;49m\u001b[43mgroup\u001b[49m\u001b[43m[\u001b[49m\u001b[38;5;124;43m\"\u001b[39;49m\u001b[38;5;124;43mforeach\u001b[39;49m\u001b[38;5;124;43m\"\u001b[39;49m\u001b[43m]\u001b[49m\u001b[43m,\u001b[49m\n\u001b[1;32m    260\u001b[0m \u001b[43m        \u001b[49m\u001b[43mcapturable\u001b[49m\u001b[38;5;241;43m=\u001b[39;49m\u001b[43mgroup\u001b[49m\u001b[43m[\u001b[49m\u001b[38;5;124;43m\"\u001b[39;49m\u001b[38;5;124;43mcapturable\u001b[39;49m\u001b[38;5;124;43m\"\u001b[39;49m\u001b[43m]\u001b[49m\u001b[43m,\u001b[49m\n\u001b[1;32m    261\u001b[0m \u001b[43m        \u001b[49m\u001b[43mdifferentiable\u001b[49m\u001b[38;5;241;43m=\u001b[39;49m\u001b[43mgroup\u001b[49m\u001b[43m[\u001b[49m\u001b[38;5;124;43m\"\u001b[39;49m\u001b[38;5;124;43mdifferentiable\u001b[39;49m\u001b[38;5;124;43m\"\u001b[39;49m\u001b[43m]\u001b[49m\u001b[43m,\u001b[49m\n\u001b[1;32m    262\u001b[0m \u001b[43m        \u001b[49m\u001b[43mfused\u001b[49m\u001b[38;5;241;43m=\u001b[39;49m\u001b[43mgroup\u001b[49m\u001b[43m[\u001b[49m\u001b[38;5;124;43m\"\u001b[39;49m\u001b[38;5;124;43mfused\u001b[39;49m\u001b[38;5;124;43m\"\u001b[39;49m\u001b[43m]\u001b[49m\u001b[43m,\u001b[49m\n\u001b[1;32m    263\u001b[0m \u001b[43m        \u001b[49m\u001b[43mgrad_scale\u001b[49m\u001b[38;5;241;43m=\u001b[39;49m\u001b[38;5;28;43mgetattr\u001b[39;49m\u001b[43m(\u001b[49m\u001b[38;5;28;43mself\u001b[39;49m\u001b[43m,\u001b[49m\u001b[43m \u001b[49m\u001b[38;5;124;43m\"\u001b[39;49m\u001b[38;5;124;43mgrad_scale\u001b[39;49m\u001b[38;5;124;43m\"\u001b[39;49m\u001b[43m,\u001b[49m\u001b[43m \u001b[49m\u001b[38;5;28;43;01mNone\u001b[39;49;00m\u001b[43m)\u001b[49m\u001b[43m,\u001b[49m\n\u001b[1;32m    264\u001b[0m \u001b[43m        \u001b[49m\u001b[43mfound_inf\u001b[49m\u001b[38;5;241;43m=\u001b[39;49m\u001b[38;5;28;43mgetattr\u001b[39;49m\u001b[43m(\u001b[49m\u001b[38;5;28;43mself\u001b[39;49m\u001b[43m,\u001b[49m\u001b[43m \u001b[49m\u001b[38;5;124;43m\"\u001b[39;49m\u001b[38;5;124;43mfound_inf\u001b[39;49m\u001b[38;5;124;43m\"\u001b[39;49m\u001b[43m,\u001b[49m\u001b[43m \u001b[49m\u001b[38;5;28;43;01mNone\u001b[39;49;00m\u001b[43m)\u001b[49m\u001b[43m,\u001b[49m\n\u001b[1;32m    265\u001b[0m \u001b[43m    \u001b[49m\u001b[43m)\u001b[49m\n\u001b[1;32m    267\u001b[0m \u001b[38;5;28;01mreturn\u001b[39;00m loss\n",
      "File \u001b[0;32m~/climate/lib/python3.12/site-packages/torch/optim/optimizer.py:154\u001b[0m, in \u001b[0;36m_disable_dynamo_if_unsupported.<locals>.wrapper.<locals>.maybe_fallback\u001b[0;34m(*args, **kwargs)\u001b[0m\n\u001b[1;32m    152\u001b[0m     \u001b[38;5;28;01mreturn\u001b[39;00m disabled_func(\u001b[38;5;241m*\u001b[39margs, \u001b[38;5;241m*\u001b[39m\u001b[38;5;241m*\u001b[39mkwargs)\n\u001b[1;32m    153\u001b[0m \u001b[38;5;28;01melse\u001b[39;00m:\n\u001b[0;32m--> 154\u001b[0m     \u001b[38;5;28;01mreturn\u001b[39;00m \u001b[43mfunc\u001b[49m\u001b[43m(\u001b[49m\u001b[38;5;241;43m*\u001b[39;49m\u001b[43margs\u001b[49m\u001b[43m,\u001b[49m\u001b[43m \u001b[49m\u001b[38;5;241;43m*\u001b[39;49m\u001b[38;5;241;43m*\u001b[39;49m\u001b[43mkwargs\u001b[49m\u001b[43m)\u001b[49m\n",
      "File \u001b[0;32m~/climate/lib/python3.12/site-packages/torch/optim/adam.py:876\u001b[0m, in \u001b[0;36madam\u001b[0;34m(params, grads, exp_avgs, exp_avg_sqs, max_exp_avg_sqs, state_steps, foreach, capturable, differentiable, fused, grad_scale, found_inf, has_complex, amsgrad, beta1, beta2, lr, weight_decay, eps, maximize)\u001b[0m\n\u001b[1;32m    873\u001b[0m \u001b[38;5;28;01melse\u001b[39;00m:\n\u001b[1;32m    874\u001b[0m     func \u001b[38;5;241m=\u001b[39m _single_tensor_adam\n\u001b[0;32m--> 876\u001b[0m \u001b[43mfunc\u001b[49m\u001b[43m(\u001b[49m\n\u001b[1;32m    877\u001b[0m \u001b[43m    \u001b[49m\u001b[43mparams\u001b[49m\u001b[43m,\u001b[49m\n\u001b[1;32m    878\u001b[0m \u001b[43m    \u001b[49m\u001b[43mgrads\u001b[49m\u001b[43m,\u001b[49m\n\u001b[1;32m    879\u001b[0m \u001b[43m    \u001b[49m\u001b[43mexp_avgs\u001b[49m\u001b[43m,\u001b[49m\n\u001b[1;32m    880\u001b[0m \u001b[43m    \u001b[49m\u001b[43mexp_avg_sqs\u001b[49m\u001b[43m,\u001b[49m\n\u001b[1;32m    881\u001b[0m \u001b[43m    \u001b[49m\u001b[43mmax_exp_avg_sqs\u001b[49m\u001b[43m,\u001b[49m\n\u001b[1;32m    882\u001b[0m \u001b[43m    \u001b[49m\u001b[43mstate_steps\u001b[49m\u001b[43m,\u001b[49m\n\u001b[1;32m    883\u001b[0m \u001b[43m    \u001b[49m\u001b[43mamsgrad\u001b[49m\u001b[38;5;241;43m=\u001b[39;49m\u001b[43mamsgrad\u001b[49m\u001b[43m,\u001b[49m\n\u001b[1;32m    884\u001b[0m \u001b[43m    \u001b[49m\u001b[43mhas_complex\u001b[49m\u001b[38;5;241;43m=\u001b[39;49m\u001b[43mhas_complex\u001b[49m\u001b[43m,\u001b[49m\n\u001b[1;32m    885\u001b[0m \u001b[43m    \u001b[49m\u001b[43mbeta1\u001b[49m\u001b[38;5;241;43m=\u001b[39;49m\u001b[43mbeta1\u001b[49m\u001b[43m,\u001b[49m\n\u001b[1;32m    886\u001b[0m \u001b[43m    \u001b[49m\u001b[43mbeta2\u001b[49m\u001b[38;5;241;43m=\u001b[39;49m\u001b[43mbeta2\u001b[49m\u001b[43m,\u001b[49m\n\u001b[1;32m    887\u001b[0m \u001b[43m    \u001b[49m\u001b[43mlr\u001b[49m\u001b[38;5;241;43m=\u001b[39;49m\u001b[43mlr\u001b[49m\u001b[43m,\u001b[49m\n\u001b[1;32m    888\u001b[0m \u001b[43m    \u001b[49m\u001b[43mweight_decay\u001b[49m\u001b[38;5;241;43m=\u001b[39;49m\u001b[43mweight_decay\u001b[49m\u001b[43m,\u001b[49m\n\u001b[1;32m    889\u001b[0m \u001b[43m    \u001b[49m\u001b[43meps\u001b[49m\u001b[38;5;241;43m=\u001b[39;49m\u001b[43meps\u001b[49m\u001b[43m,\u001b[49m\n\u001b[1;32m    890\u001b[0m \u001b[43m    \u001b[49m\u001b[43mmaximize\u001b[49m\u001b[38;5;241;43m=\u001b[39;49m\u001b[43mmaximize\u001b[49m\u001b[43m,\u001b[49m\n\u001b[1;32m    891\u001b[0m \u001b[43m    \u001b[49m\u001b[43mcapturable\u001b[49m\u001b[38;5;241;43m=\u001b[39;49m\u001b[43mcapturable\u001b[49m\u001b[43m,\u001b[49m\n\u001b[1;32m    892\u001b[0m \u001b[43m    \u001b[49m\u001b[43mdifferentiable\u001b[49m\u001b[38;5;241;43m=\u001b[39;49m\u001b[43mdifferentiable\u001b[49m\u001b[43m,\u001b[49m\n\u001b[1;32m    893\u001b[0m \u001b[43m    \u001b[49m\u001b[43mgrad_scale\u001b[49m\u001b[38;5;241;43m=\u001b[39;49m\u001b[43mgrad_scale\u001b[49m\u001b[43m,\u001b[49m\n\u001b[1;32m    894\u001b[0m \u001b[43m    \u001b[49m\u001b[43mfound_inf\u001b[49m\u001b[38;5;241;43m=\u001b[39;49m\u001b[43mfound_inf\u001b[49m\u001b[43m,\u001b[49m\n\u001b[1;32m    895\u001b[0m \u001b[43m\u001b[49m\u001b[43m)\u001b[49m\n",
      "File \u001b[0;32m~/climate/lib/python3.12/site-packages/torch/optim/adam.py:621\u001b[0m, in \u001b[0;36m_multi_tensor_adam\u001b[0;34m(params, grads, exp_avgs, exp_avg_sqs, max_exp_avg_sqs, state_steps, grad_scale, found_inf, amsgrad, has_complex, beta1, beta2, lr, weight_decay, eps, maximize, capturable, differentiable)\u001b[0m\n\u001b[1;32m    616\u001b[0m \u001b[38;5;66;03m# Decay the first and second moment running average coefficient\u001b[39;00m\n\u001b[1;32m    617\u001b[0m \u001b[38;5;66;03m# Use device beta1 if beta1 is a tensor to ensure all\u001b[39;00m\n\u001b[1;32m    618\u001b[0m \u001b[38;5;66;03m# tensors are on the same device\u001b[39;00m\n\u001b[1;32m    619\u001b[0m torch\u001b[38;5;241m.\u001b[39m_foreach_lerp_(device_exp_avgs, device_grads, \u001b[38;5;241m1\u001b[39m \u001b[38;5;241m-\u001b[39m device_beta1)\n\u001b[0;32m--> 621\u001b[0m \u001b[43mtorch\u001b[49m\u001b[38;5;241;43m.\u001b[39;49m\u001b[43m_foreach_mul_\u001b[49m\u001b[43m(\u001b[49m\u001b[43mdevice_exp_avg_sqs\u001b[49m\u001b[43m,\u001b[49m\u001b[43m \u001b[49m\u001b[43mbeta2\u001b[49m\u001b[43m)\u001b[49m\n\u001b[1;32m    623\u001b[0m \u001b[38;5;66;03m# Due to the strictness of the _foreach_addcmul API, we can't have a single\u001b[39;00m\n\u001b[1;32m    624\u001b[0m \u001b[38;5;66;03m# tensor scalar as the scalar arg (only python number is supported there)\u001b[39;00m\n\u001b[1;32m    625\u001b[0m \u001b[38;5;66;03m# as a result, separate out the value mul\u001b[39;00m\n\u001b[1;32m    626\u001b[0m \u001b[38;5;66;03m# Filed https://github.com/pytorch/pytorch/issues/139795\u001b[39;00m\n\u001b[1;32m    627\u001b[0m \u001b[38;5;28;01mif\u001b[39;00m \u001b[38;5;28misinstance\u001b[39m(beta2, torch\u001b[38;5;241m.\u001b[39mTensor):\n",
      "\u001b[0;31mKeyboardInterrupt\u001b[0m: "
     ]
    }
   ],
   "source": [
    "lr = 1e-3\n",
    "model = ConvVelocityField(in_channels=1, hidden_channels=128, time_embed_dim=64)\n",
    "model = model.cuda()\n",
    "optimizer = torch.optim.Adam(model.parameters(), lr=lr)\n",
    "\n",
    "k = 0\n",
    "for step in trange(25):\n",
    "    for x, y in tqdm(train_loader, leave = False):\n",
    "        x1 = x.cuda()\n",
    "        x0 = torch.randn_like(x1).cuda()\n",
    "        loss = conv_flow_matching_loss(model, x0, x1)\n",
    "        loss.backward()\n",
    "        optimizer.step()\n",
    "        optimizer.zero_grad()\n",
    "\n",
    "        k += 1\n",
    "        if k % 500 == 0: \n",
    "            print(loss.detach())\n",
    "      # add_sgmcmc_noise(model, lr=lr, noise_scale=1e-3)k += 1"
   ]
  },
  {
   "cell_type": "code",
   "execution_count": 190,
   "id": "0a426bde-bd03-4bd2-ac60-28009b89b2e8",
   "metadata": {},
   "outputs": [
    {
     "data": {
      "image/png": "[encoded data removed]",
      "text/plain": [
       "<Figure size 1000x400 with 4 Axes>"
      ]
     },
     "metadata": {},
     "output_type": "display_data"
    }
   ],
   "source": [
    "x1_samp = sample_from_flow(model, torch.randn_like(x1).cuda())\n",
    "\n",
    "fig, ax = plt.subplots(1, 4, constrained_layout = True, figsize = (10, 4))\n",
    "ax[0].imshow(x1_samp[0,0].cpu(), cmap = 'binary')\n",
    "ax[1].imshow(x1_samp[1,0].cpu(), cmap = 'binary')\n",
    "ax[2].imshow(x1_samp[2,0].cpu(), cmap = 'binary')\n",
    "ax[3].imshow(x1_samp[3,0].cpu(), cmap = 'binary')\n",
    "plt.show()"
   ]
  },
  {
   "cell_type": "code",
   "execution_count": null,
   "id": "e5a0140e-065f-459b-8444-0ae69f102f5b",
   "metadata": {},
   "outputs": [],
   "source": []
  },
  {
   "cell_type": "code",
   "execution_count": 319,
   "id": "dbdfec61-90ef-4208-a985-41e4ed9818ec",
   "metadata": {},
   "outputs": [],
   "source": [
    "import torch.nn as nn\n",
    "import torch.nn.functional as F\n",
    "\n",
    "# -------------------------\n",
    "# Spectral conv (custom FNO)\n",
    "# -------------------------\n",
    "class SpectralConv2d(nn.Module):\n",
    "    def __init__(self, in_channels, out_channels, modes1, modes2):\n",
    "        super().__init__()\n",
    "        self.in_channels = in_channels\n",
    "        self.out_channels = out_channels\n",
    "        self.modes1 = modes1\n",
    "        self.modes2 = modes2\n",
    "\n",
    "        self.weight_real = nn.Parameter(\n",
    "            torch.randn(in_channels, out_channels, modes1, modes2) * 0.01\n",
    "        )\n",
    "        self.weight_imag = nn.Parameter(\n",
    "            torch.randn(in_channels, out_channels, modes1, modes2) * 0.01\n",
    "        )\n",
    "\n",
    "    def compl_mul2d(self, input_ft, w_real, w_imag):\n",
    "        weight = torch.complex(w_real, w_imag)\n",
    "        return torch.einsum(\"bixy,ioxy->boxy\", input_ft, weight)\n",
    "\n",
    "    def forward(self, x):\n",
    "        B, C, H, W = x.shape\n",
    "        x_ft = torch.fft.rfft2(x, norm=\"ortho\")\n",
    "        out_ft = torch.zeros(B, self.out_channels, H, W//2 + 1, dtype=torch.cfloat, device=x.device)\n",
    "\n",
    "        m1 = min(self.modes1, H)\n",
    "        m2 = min(self.modes2, W//2 + 1)\n",
    "        out_ft[:, :, :m1, :m2] = self.compl_mul2d(\n",
    "            x_ft[:, :, :m1, :m2],\n",
    "            self.weight_real[:, :, :m1, :m2],\n",
    "            self.weight_imag[:, :, :m1, :m2]\n",
    "        )\n",
    "\n",
    "        x_out = torch.fft.irfft2(out_ft, s=(H, W), norm=\"ortho\")\n",
    "        return x_out\n",
    "\n",
    "# -------------------------\n",
    "# Time embedding\n",
    "# -------------------------\n",
    "class TimeEmbed(nn.Module):\n",
    "    def __init__(self, time_embed_dim=16, hidden_dim=64):\n",
    "        super().__init__()\n",
    "        self.freqs = nn.Parameter(torch.linspace(1.0, 10.0, time_embed_dim), requires_grad=False)\n",
    "        self.mlp = nn.Sequential(\n",
    "            nn.Linear(time_embed_dim, hidden_dim),\n",
    "            nn.SiLU(),\n",
    "            nn.Linear(hidden_dim, hidden_dim),\n",
    "        )\n",
    "\n",
    "    def forward(self, t):\n",
    "        x = torch.sin(t * self.freqs)\n",
    "        return self.mlp(x)\n",
    "\n",
    "\n",
    "# -------------------------\n",
    "# Simple FNO block\n",
    "# -------------------------\n",
    "class FNOBlock(nn.Module):\n",
    "    def __init__(self, in_ch, out_ch, modes1, modes2, time_dim):\n",
    "        super().__init__()\n",
    "        self.spectral = SpectralConv2d(in_ch, out_ch, modes1, modes2)\n",
    "        self.pointwise = nn.Conv2d(in_ch, out_ch, kernel_size=1)\n",
    "        self.time_proj = nn.Linear(time_dim, out_ch)\n",
    "        self.norm = nn.GroupNorm(8, out_ch)\n",
    "        self.shortcut = nn.Identity() if in_ch == out_ch else nn.Conv2d(in_ch, out_ch, 1)\n",
    "\n",
    "    def forward(self, x, t_emb):\n",
    "        h = self.spectral(x) + self.pointwise(x)\n",
    "        h = h + self.time_proj(t_emb)[:, :, None, None]\n",
    "        h = self.norm(h)\n",
    "        h = F.silu(h)\n",
    "        return h + self.shortcut(x)\n",
    "\n",
    "\n",
    "# -------------------------\n",
    "# Velocity field with stacked FNO blocks\n",
    "# -------------------------\n",
    "class FNOVelocityField(nn.Module):\n",
    "    def __init__(self, in_channels=1, hidden_channels=64, time_embed_dim=16, modes1=12, modes2=12, num_layers=4):\n",
    "        super().__init__()\n",
    "        self.time_mlp = TimeEmbed(time_embed_dim=time_embed_dim, hidden_dim=hidden_channels)\n",
    "\n",
    "        layers = []\n",
    "        ch = in_channels\n",
    "        for i in range(num_layers):\n",
    "            layers.append(FNOBlock(ch, hidden_channels, modes1, modes2, hidden_channels))\n",
    "            ch = hidden_channels\n",
    "        self.fno_layers = nn.ModuleList(layers)\n",
    "\n",
    "        self.final = nn.Conv2d(hidden_channels, in_channels, kernel_size=1)\n",
    "\n",
    "    def forward(self, x_t, t):\n",
    "        t_emb = self.time_mlp(t)\n",
    "        h = x_t\n",
    "        for layer in self.fno_layers:\n",
    "            h = layer(h, t_emb)\n",
    "        return self.final(h)\n"
   ]
  },
  {
   "cell_type": "code",
   "execution_count": 280,
   "id": "d73fd8cb-b252-48f5-87fc-d0e50df2f25e",
   "metadata": {},
   "outputs": [
    {
     "data": {
      "application/vnd.jupyter.widget-view+json": {
       "model_id": "eb50a379faf74658b250c550726be0f3",
       "version_major": 2,
       "version_minor": 0
      },
      "text/plain": [
       "  0%|          | 0/15 [00:00<?, ?it/s]"
      ]
     },
     "metadata": {},
     "output_type": "display_data"
    },
    {
     "data": {
      "application/vnd.jupyter.widget-view+json": {
       "model_id": "b56640de93b244a49cdf3c5cafc25f8d",
       "version_major": 2,
       "version_minor": 0
      },
      "text/plain": [
       "  0%|          | 0/938 [00:00<?, ?it/s]"
      ]
     },
     "metadata": {},
     "output_type": "display_data"
    },
    {
     "name": "stdout",
     "output_type": "stream",
     "text": [
      "tensor(0.4019, device='cuda:0')\n"
     ]
    },
    {
     "data": {
      "application/vnd.jupyter.widget-view+json": {
       "model_id": "1ee6f63f3eb141c7b98e26f50fc71911",
       "version_major": 2,
       "version_minor": 0
      },
      "text/plain": [
       "  0%|          | 0/938 [00:00<?, ?it/s]"
      ]
     },
     "metadata": {},
     "output_type": "display_data"
    },
    {
     "name": "stdout",
     "output_type": "stream",
     "text": [
      "tensor(0.4892, device='cuda:0')\n",
      "tensor(0.4603, device='cuda:0')\n"
     ]
    },
    {
     "data": {
      "application/vnd.jupyter.widget-view+json": {
       "model_id": "9d61c909a13e4795a6fa26d4de56065b",
       "version_major": 2,
       "version_minor": 0
      },
      "text/plain": [
       "  0%|          | 0/938 [00:00<?, ?it/s]"
      ]
     },
     "metadata": {},
     "output_type": "display_data"
    },
    {
     "name": "stdout",
     "output_type": "stream",
     "text": [
      "tensor(0.4269, device='cuda:0')\n",
      "tensor(0.3205, device='cuda:0')\n"
     ]
    },
    {
     "data": {
      "application/vnd.jupyter.widget-view+json": {
       "model_id": "e0f1f8ed07fa41f5a9f3aec68d47fef8",
       "version_major": 2,
       "version_minor": 0
      },
      "text/plain": [
       "  0%|          | 0/938 [00:00<?, ?it/s]"
      ]
     },
     "metadata": {},
     "output_type": "display_data"
    },
    {
     "name": "stdout",
     "output_type": "stream",
     "text": [
      "tensor(0.3829, device='cuda:0')\n",
      "tensor(0.3877, device='cuda:0')\n"
     ]
    },
    {
     "data": {
      "application/vnd.jupyter.widget-view+json": {
       "model_id": "802affdd339f4d30b59037483a7372b9",
       "version_major": 2,
       "version_minor": 0
      },
      "text/plain": [
       "  0%|          | 0/938 [00:00<?, ?it/s]"
      ]
     },
     "metadata": {},
     "output_type": "display_data"
    },
    {
     "name": "stdout",
     "output_type": "stream",
     "text": [
      "tensor(0.4721, device='cuda:0')\n",
      "tensor(0.4512, device='cuda:0')\n"
     ]
    },
    {
     "data": {
      "application/vnd.jupyter.widget-view+json": {
       "model_id": "58c2715217b34ac2afa222d21a063f44",
       "version_major": 2,
       "version_minor": 0
      },
      "text/plain": [
       "  0%|          | 0/938 [00:00<?, ?it/s]"
      ]
     },
     "metadata": {},
     "output_type": "display_data"
    },
    {
     "name": "stdout",
     "output_type": "stream",
     "text": [
      "tensor(0.3704, device='cuda:0')\n",
      "tensor(0.4142, device='cuda:0')\n"
     ]
    },
    {
     "data": {
      "application/vnd.jupyter.widget-view+json": {
       "model_id": "0297245ac8f24c518b8acbea9614e776",
       "version_major": 2,
       "version_minor": 0
      },
      "text/plain": [
       "  0%|          | 0/938 [00:00<?, ?it/s]"
      ]
     },
     "metadata": {},
     "output_type": "display_data"
    },
    {
     "name": "stdout",
     "output_type": "stream",
     "text": [
      "tensor(0.3626, device='cuda:0')\n",
      "tensor(0.3979, device='cuda:0')\n"
     ]
    },
    {
     "data": {
      "application/vnd.jupyter.widget-view+json": {
       "model_id": "59c695d36ee64aae955bfa37c43ac1d5",
       "version_major": 2,
       "version_minor": 0
      },
      "text/plain": [
       "  0%|          | 0/938 [00:00<?, ?it/s]"
      ]
     },
     "metadata": {},
     "output_type": "display_data"
    },
    {
     "name": "stdout",
     "output_type": "stream",
     "text": [
      "tensor(0.4676, device='cuda:0')\n",
      "tensor(0.3072, device='cuda:0')\n"
     ]
    },
    {
     "data": {
      "application/vnd.jupyter.widget-view+json": {
       "model_id": "3e1d05b97b424b22966b7d59f71d19ab",
       "version_major": 2,
       "version_minor": 0
      },
      "text/plain": [
       "  0%|          | 0/938 [00:00<?, ?it/s]"
      ]
     },
     "metadata": {},
     "output_type": "display_data"
    },
    {
     "name": "stdout",
     "output_type": "stream",
     "text": [
      "tensor(0.4087, device='cuda:0')\n"
     ]
    },
    {
     "data": {
      "application/vnd.jupyter.widget-view+json": {
       "model_id": "c36aa09cc6bb490bbba8259f69485e13",
       "version_major": 2,
       "version_minor": 0
      },
      "text/plain": [
       "  0%|          | 0/938 [00:00<?, ?it/s]"
      ]
     },
     "metadata": {},
     "output_type": "display_data"
    },
    {
     "name": "stdout",
     "output_type": "stream",
     "text": [
      "tensor(0.3248, device='cuda:0')\n",
      "tensor(0.3534, device='cuda:0')\n"
     ]
    },
    {
     "data": {
      "application/vnd.jupyter.widget-view+json": {
       "model_id": "948554dc3ce7439980cad21ef080e7e6",
       "version_major": 2,
       "version_minor": 0
      },
      "text/plain": [
       "  0%|          | 0/938 [00:00<?, ?it/s]"
      ]
     },
     "metadata": {},
     "output_type": "display_data"
    },
    {
     "name": "stdout",
     "output_type": "stream",
     "text": [
      "tensor(0.3900, device='cuda:0')\n",
      "tensor(0.4015, device='cuda:0')\n"
     ]
    },
    {
     "data": {
      "application/vnd.jupyter.widget-view+json": {
       "model_id": "03073a2676bf40b2848d3b8848d4caff",
       "version_major": 2,
       "version_minor": 0
      },
      "text/plain": [
       "  0%|          | 0/938 [00:00<?, ?it/s]"
      ]
     },
     "metadata": {},
     "output_type": "display_data"
    },
    {
     "name": "stdout",
     "output_type": "stream",
     "text": [
      "tensor(0.3736, device='cuda:0')\n",
      "tensor(0.3261, device='cuda:0')\n"
     ]
    },
    {
     "data": {
      "application/vnd.jupyter.widget-view+json": {
       "model_id": "6933f378617840389a148a89ebba2bb0",
       "version_major": 2,
       "version_minor": 0
      },
      "text/plain": [
       "  0%|          | 0/938 [00:00<?, ?it/s]"
      ]
     },
     "metadata": {},
     "output_type": "display_data"
    },
    {
     "name": "stdout",
     "output_type": "stream",
     "text": [
      "tensor(0.3983, device='cuda:0')\n",
      "tensor(0.3545, device='cuda:0')\n"
     ]
    },
    {
     "data": {
      "application/vnd.jupyter.widget-view+json": {
       "model_id": "b8e72d7f954145b5bdce6cbcc3b1035e",
       "version_major": 2,
       "version_minor": 0
      },
      "text/plain": [
       "  0%|          | 0/938 [00:00<?, ?it/s]"
      ]
     },
     "metadata": {},
     "output_type": "display_data"
    },
    {
     "name": "stdout",
     "output_type": "stream",
     "text": [
      "tensor(0.3539, device='cuda:0')\n",
      "tensor(0.3833, device='cuda:0')\n"
     ]
    },
    {
     "data": {
      "application/vnd.jupyter.widget-view+json": {
       "model_id": "7c26632498f142999897fe358de7600b",
       "version_major": 2,
       "version_minor": 0
      },
      "text/plain": [
       "  0%|          | 0/938 [00:00<?, ?it/s]"
      ]
     },
     "metadata": {},
     "output_type": "display_data"
    },
    {
     "name": "stdout",
     "output_type": "stream",
     "text": [
      "tensor(0.3847, device='cuda:0')\n",
      "tensor(0.3289, device='cuda:0')\n"
     ]
    }
   ],
   "source": [
    "lr = 1e-3\n",
    "model = FNOVelocityField(in_channels=1, modes1=16, modes2=16)\n",
    "model = model.cuda()\n",
    "optimizer = torch.optim.Adam(model.parameters(), lr=lr)\n",
    "\n",
    "k = 0\n",
    "for step in trange(15):\n",
    "    for x, y in tqdm(train_loader, leave = False):\n",
    "        x1 = x.cuda()\n",
    "        x0 = torch.randn_like(x1).cuda()\n",
    "        loss = conv_flow_matching_loss(model, x0, x1)\n",
    "        loss.backward()\n",
    "        optimizer.step()\n",
    "        optimizer.zero_grad()\n",
    "\n",
    "        k += 1\n",
    "        if k % 500 == 0: \n",
    "            print(loss.detach())"
   ]
  },
  {
   "cell_type": "code",
   "execution_count": 281,
   "id": "70aa1908-8075-4562-8b56-4007c18e3c32",
   "metadata": {},
   "outputs": [
    {
     "data": {
      "image/png": "[encoded data removed]",
      "text/plain": [
       "<Figure size 1000x400 with 4 Axes>"
      ]
     },
     "metadata": {},
     "output_type": "display_data"
    }
   ],
   "source": [
    "x1_samp = sample_from_flow(model, torch.randn_like(x1).cuda())\n",
    "\n",
    "fig, ax = plt.subplots(1, 4, constrained_layout = True, figsize = (10, 4))\n",
    "ax[0].imshow(x1_samp[0,0].cpu(), cmap = 'binary')\n",
    "ax[1].imshow(x1_samp[1,0].cpu(), cmap = 'binary')\n",
    "ax[2].imshow(x1_samp[2,0].cpu(), cmap = 'binary')\n",
    "ax[3].imshow(x1_samp[3,0].cpu(), cmap = 'binary')\n",
    "plt.show()"
   ]
  },
  {
   "cell_type": "code",
   "execution_count": null,
   "id": "b4d3bfd3-28fd-4c31-a73b-ec18a4c40170",
   "metadata": {},
   "outputs": [],
   "source": []
  },
  {
   "cell_type": "code",
   "execution_count": 353,
   "id": "dd586f00-881e-4743-93df-8216a0fefa58",
   "metadata": {},
   "outputs": [],
   "source": [
    "import torch.nn.functional as F\n",
    "\n",
    "def flatten_image_batch(x):\n",
    "    B, C, H, W = x.shape\n",
    "    x_flat = x.view(B, -1)  # shape (B, D), D=C*H*W\n",
    "    return x_flat\n",
    "\n",
    "def unflatten_image_batch(x_flat, C, H, W):\n",
    "    B = x_flat.shape[0]\n",
    "    return x_flat.view(B, C, H, W)\n",
    "    \n",
    "def velocity_func_flat(x_flat, t, model, C, H, W):\n",
    "    x = unflatten_image_batch(x_flat, C, H, W)\n",
    "    v = model(x, t)  # velocity output, shape (B,C,H,W)\n",
    "    v_flat = flatten_image_batch(v)\n",
    "    return v_flat\n",
    "from torch.autograd.functional import jvp\n",
    "\n",
    "def jvp_velocity(x_flat, v_flat, t, model, C, H, W):\n",
    "    # Computes J(x) @ v_flat\n",
    "    def func(x_in):\n",
    "        return velocity_func_flat(x_in, t, model, C, H, W)\n",
    "    return jvp(func, (x_flat,), (v_flat,), create_graph=True)[1]\n",
    "\n",
    "def vjp_velocity(x_flat, v_flat, t, model, C, H, W):\n",
    "    # Computes J(x)^T @ v_flat\n",
    "    v_out = velocity_func_flat(x_flat, t, model, C, H, W)\n",
    "    grads = torch.autograd.grad(v_out, x_flat, grad_outputs=v_flat, create_graph=True, retain_graph=True)[0]\n",
    "    return grads\n",
    "\n",
    "def curl_reg(model, x_t, t, n_samples=1):\n",
    "    B, C, H, W = x_t.shape\n",
    "    x_flat = flatten_image_batch(x_t)\n",
    "    penalty = 0.\n",
    "    for _ in range(n_samples):\n",
    "        z = torch.randint(0, 2, x_flat.shape, device=x_t.device).float() * 2 - 1  # Rademacher vector\n",
    "        jvp_z = jvp_velocity(x_flat, z, t, model, C, H, W)\n",
    "        vjp_z = vjp_velocity(x_flat, z, t, model, C, H, W)\n",
    "        A_z = 0.5 * (jvp_z - vjp_z)\n",
    "        penalty += (A_z ** 2).sum(dim=-1).mean()  # mean over batch\n",
    "    return penalty / n_samples\n",
    "    \n",
    "def eigen_reg(model, x_t, t, n_samples=1):\n",
    "    B, C, H, W = x_t.shape\n",
    "    x_flat = flatten_image_batch(x_t)\n",
    "    penalty = 0.\n",
    "    for _ in range(n_samples):\n",
    "        z = torch.randn_like(x_flat, device=x_flat.device)\n",
    "        z = z / (z.norm(dim=-1, keepdim=True) + 1e-8)\n",
    "        jvp_z = jvp_velocity(x_flat, z, t, model, C, H, W)\n",
    "        rayleigh = (z * jvp_z).sum(dim=-1)\n",
    "        neg_part = F.relu(-rayleigh)\n",
    "        penalty += neg_part.mean()\n",
    "    return penalty / n_samples\n",
    "\n",
    "def cfm_loss(model, x_t, t, v_target):\n",
    "    v_pred = model(x_t, t)\n",
    "    return torch.mean((v_pred - v_target)**2)\n",
    "\n",
    "def gradient_flow_loss(model, x0, x1, lam_curl = 1e-3, lam_eig = 1e-3, n_samples = 1):\n",
    "    n, c, h, w = x0.shape\n",
    "    t = torch.rand(n, 1, device=x0.device)\n",
    "    t_conv = t[:,:,None,None]\n",
    "    x_t = (1 - t_conv) * x0 + t_conv * x1\n",
    "    x_t = x_t.detach().requires_grad_()\n",
    "    v_target = x1 - x0\n",
    "\n",
    "    loss_flow = cfm_loss(model, x_t, t, v_target)\n",
    "    loss_curl = curl_reg(model, x_t, t, n_samples=n_samples)\n",
    "    loss_eig = eigen_reg(model, x_t, t, n_samples=n_samples)\n",
    "\n",
    "    return loss_flow + lam_curl * loss_curl + lam_eig * loss_eig"
   ]
  },
  {
   "cell_type": "code",
   "execution_count": 358,
   "id": "19f1522f-176e-429b-966a-7575909e7218",
   "metadata": {},
   "outputs": [
    {
     "data": {
      "application/vnd.jupyter.widget-view+json": {
       "model_id": "f895362897f946ddbcdae45fcf9e6833",
       "version_major": 2,
       "version_minor": 0
      },
      "text/plain": [
       "  0%|          | 0/15 [00:00<?, ?it/s]"
      ]
     },
     "metadata": {},
     "output_type": "display_data"
    },
    {
     "data": {
      "application/vnd.jupyter.widget-view+json": {
       "model_id": "5d156362718b4c9eb18be6be30c42c9e",
       "version_major": 2,
       "version_minor": 0
      },
      "text/plain": [
       "  0%|          | 0/938 [00:00<?, ?it/s]"
      ]
     },
     "metadata": {},
     "output_type": "display_data"
    },
    {
     "name": "stdout",
     "output_type": "stream",
     "text": [
      "tensor(0.4164, device='cuda:0')\n"
     ]
    },
    {
     "data": {
      "application/vnd.jupyter.widget-view+json": {
       "model_id": "d8ac45bcc3cb4e76899681176662f0ec",
       "version_major": 2,
       "version_minor": 0
      },
      "text/plain": [
       "  0%|          | 0/938 [00:00<?, ?it/s]"
      ]
     },
     "metadata": {},
     "output_type": "display_data"
    },
    {
     "name": "stdout",
     "output_type": "stream",
     "text": [
      "tensor(0.4576, device='cuda:0')\n",
      "tensor(0.4494, device='cuda:0')\n"
     ]
    },
    {
     "data": {
      "application/vnd.jupyter.widget-view+json": {
       "model_id": "d58bce3fe00c4129ae76dd5c5a08a422",
       "version_major": 2,
       "version_minor": 0
      },
      "text/plain": [
       "  0%|          | 0/938 [00:00<?, ?it/s]"
      ]
     },
     "metadata": {},
     "output_type": "display_data"
    },
    {
     "name": "stdout",
     "output_type": "stream",
     "text": [
      "tensor(0.4613, device='cuda:0')\n",
      "tensor(0.3587, device='cuda:0')\n"
     ]
    },
    {
     "data": {
      "application/vnd.jupyter.widget-view+json": {
       "model_id": "e5597754b17e4be18629b5386ffd2c1c",
       "version_major": 2,
       "version_minor": 0
      },
      "text/plain": [
       "  0%|          | 0/938 [00:00<?, ?it/s]"
      ]
     },
     "metadata": {},
     "output_type": "display_data"
    },
    {
     "name": "stdout",
     "output_type": "stream",
     "text": [
      "tensor(0.4275, device='cuda:0')\n",
      "tensor(0.4414, device='cuda:0')\n"
     ]
    },
    {
     "data": {
      "application/vnd.jupyter.widget-view+json": {
       "model_id": "4755a0a239314faf8c2356eaca0b5c09",
       "version_major": 2,
       "version_minor": 0
      },
      "text/plain": [
       "  0%|          | 0/938 [00:00<?, ?it/s]"
      ]
     },
     "metadata": {},
     "output_type": "display_data"
    },
    {
     "name": "stdout",
     "output_type": "stream",
     "text": [
      "tensor(0.4768, device='cuda:0')\n",
      "tensor(0.4253, device='cuda:0')\n"
     ]
    },
    {
     "data": {
      "application/vnd.jupyter.widget-view+json": {
       "model_id": "b928aeca807a43609137ca2c39016ceb",
       "version_major": 2,
       "version_minor": 0
      },
      "text/plain": [
       "  0%|          | 0/938 [00:00<?, ?it/s]"
      ]
     },
     "metadata": {},
     "output_type": "display_data"
    },
    {
     "ename": "KeyboardInterrupt",
     "evalue": "",
     "output_type": "error",
     "traceback": [
      "\u001b[0;31m---------------------------------------------------------------------------\u001b[0m",
      "\u001b[0;31mKeyboardInterrupt\u001b[0m                         Traceback (most recent call last)",
      "Cell \u001b[0;32mIn[358], line 10\u001b[0m\n\u001b[1;32m      8\u001b[0m x1 \u001b[38;5;241m=\u001b[39m x\u001b[38;5;241m.\u001b[39mcuda()\n\u001b[1;32m      9\u001b[0m x0 \u001b[38;5;241m=\u001b[39m torch\u001b[38;5;241m.\u001b[39mrandn_like(x1)\u001b[38;5;241m.\u001b[39mcuda()\n\u001b[0;32m---> 10\u001b[0m loss \u001b[38;5;241m=\u001b[39m \u001b[43mgradient_flow_loss\u001b[49m\u001b[43m(\u001b[49m\u001b[43mmodel\u001b[49m\u001b[43m,\u001b[49m\u001b[43m \u001b[49m\u001b[43mx0\u001b[49m\u001b[43m,\u001b[49m\u001b[43m \u001b[49m\u001b[43mx1\u001b[49m\u001b[43m)\u001b[49m\n\u001b[1;32m     11\u001b[0m loss\u001b[38;5;241m.\u001b[39mbackward()\n\u001b[1;32m     12\u001b[0m optimizer\u001b[38;5;241m.\u001b[39mstep()\n",
      "Cell \u001b[0;32mIn[353], line 69\u001b[0m, in \u001b[0;36mgradient_flow_loss\u001b[0;34m(model, x0, x1, lam_curl, lam_eig, n_samples)\u001b[0m\n\u001b[1;32m     66\u001b[0m v_target \u001b[38;5;241m=\u001b[39m x1 \u001b[38;5;241m-\u001b[39m x0\n\u001b[1;32m     68\u001b[0m loss_flow \u001b[38;5;241m=\u001b[39m cfm_loss(model, x_t, t, v_target)\n\u001b[0;32m---> 69\u001b[0m loss_curl \u001b[38;5;241m=\u001b[39m \u001b[43mcurl_reg\u001b[49m\u001b[43m(\u001b[49m\u001b[43mmodel\u001b[49m\u001b[43m,\u001b[49m\u001b[43m \u001b[49m\u001b[43mx_t\u001b[49m\u001b[43m,\u001b[49m\u001b[43m \u001b[49m\u001b[43mt\u001b[49m\u001b[43m,\u001b[49m\u001b[43m \u001b[49m\u001b[43mn_samples\u001b[49m\u001b[38;5;241;43m=\u001b[39;49m\u001b[43mn_samples\u001b[49m\u001b[43m)\u001b[49m\n\u001b[1;32m     70\u001b[0m loss_eig \u001b[38;5;241m=\u001b[39m eigen_reg(model, x_t, t, n_samples\u001b[38;5;241m=\u001b[39mn_samples)\n\u001b[1;32m     72\u001b[0m \u001b[38;5;28;01mreturn\u001b[39;00m loss_flow \u001b[38;5;241m+\u001b[39m lam_curl \u001b[38;5;241m*\u001b[39m loss_curl \u001b[38;5;241m+\u001b[39m lam_eig \u001b[38;5;241m*\u001b[39m loss_eig\n",
      "Cell \u001b[0;32mIn[353], line 37\u001b[0m, in \u001b[0;36mcurl_reg\u001b[0;34m(model, x_t, t, n_samples)\u001b[0m\n\u001b[1;32m     35\u001b[0m \u001b[38;5;28;01mfor\u001b[39;00m _ \u001b[38;5;129;01min\u001b[39;00m \u001b[38;5;28mrange\u001b[39m(n_samples):\n\u001b[1;32m     36\u001b[0m     z \u001b[38;5;241m=\u001b[39m torch\u001b[38;5;241m.\u001b[39mrandint(\u001b[38;5;241m0\u001b[39m, \u001b[38;5;241m2\u001b[39m, x_flat\u001b[38;5;241m.\u001b[39mshape, device\u001b[38;5;241m=\u001b[39mx_t\u001b[38;5;241m.\u001b[39mdevice)\u001b[38;5;241m.\u001b[39mfloat() \u001b[38;5;241m*\u001b[39m \u001b[38;5;241m2\u001b[39m \u001b[38;5;241m-\u001b[39m \u001b[38;5;241m1\u001b[39m  \u001b[38;5;66;03m# Rademacher vector\u001b[39;00m\n\u001b[0;32m---> 37\u001b[0m     jvp_z \u001b[38;5;241m=\u001b[39m \u001b[43mjvp_velocity\u001b[49m\u001b[43m(\u001b[49m\u001b[43mx_flat\u001b[49m\u001b[43m,\u001b[49m\u001b[43m \u001b[49m\u001b[43mz\u001b[49m\u001b[43m,\u001b[49m\u001b[43m \u001b[49m\u001b[43mt\u001b[49m\u001b[43m,\u001b[49m\u001b[43m \u001b[49m\u001b[43mmodel\u001b[49m\u001b[43m,\u001b[49m\u001b[43m \u001b[49m\u001b[43mC\u001b[49m\u001b[43m,\u001b[49m\u001b[43m \u001b[49m\u001b[43mH\u001b[49m\u001b[43m,\u001b[49m\u001b[43m \u001b[49m\u001b[43mW\u001b[49m\u001b[43m)\u001b[49m\n\u001b[1;32m     38\u001b[0m     vjp_z \u001b[38;5;241m=\u001b[39m vjp_velocity(x_flat, z, t, model, C, H, W)\n\u001b[1;32m     39\u001b[0m     A_z \u001b[38;5;241m=\u001b[39m \u001b[38;5;241m0.5\u001b[39m \u001b[38;5;241m*\u001b[39m (jvp_z \u001b[38;5;241m-\u001b[39m vjp_z)\n",
      "Cell \u001b[0;32mIn[353], line 23\u001b[0m, in \u001b[0;36mjvp_velocity\u001b[0;34m(x_flat, v_flat, t, model, C, H, W)\u001b[0m\n\u001b[1;32m     21\u001b[0m \u001b[38;5;28;01mdef\u001b[39;00m\u001b[38;5;250m \u001b[39m\u001b[38;5;21mfunc\u001b[39m(x_in):\n\u001b[1;32m     22\u001b[0m     \u001b[38;5;28;01mreturn\u001b[39;00m velocity_func_flat(x_in, t, model, C, H, W)\n\u001b[0;32m---> 23\u001b[0m \u001b[38;5;28;01mreturn\u001b[39;00m \u001b[43mjvp\u001b[49m\u001b[43m(\u001b[49m\u001b[43mfunc\u001b[49m\u001b[43m,\u001b[49m\u001b[43m \u001b[49m\u001b[43m(\u001b[49m\u001b[43mx_flat\u001b[49m\u001b[43m,\u001b[49m\u001b[43m)\u001b[49m\u001b[43m,\u001b[49m\u001b[43m \u001b[49m\u001b[43m(\u001b[49m\u001b[43mv_flat\u001b[49m\u001b[43m,\u001b[49m\u001b[43m)\u001b[49m\u001b[43m,\u001b[49m\u001b[43m \u001b[49m\u001b[43mcreate_graph\u001b[49m\u001b[38;5;241;43m=\u001b[39;49m\u001b[38;5;28;43;01mTrue\u001b[39;49;00m\u001b[43m)\u001b[49m[\u001b[38;5;241m1\u001b[39m]\n",
      "File \u001b[0;32m~/climate/lib/python3.12/site-packages/torch/autograd/functional.py:448\u001b[0m, in \u001b[0;36mjvp\u001b[0;34m(func, inputs, v, create_graph, strict)\u001b[0m\n\u001b[1;32m    441\u001b[0m     \u001b[38;5;66;03m# The backward is linear so the value of grad_outputs is not important as\u001b[39;00m\n\u001b[1;32m    442\u001b[0m     \u001b[38;5;66;03m# it won't appear in the double backward graph. We only need to ensure that\u001b[39;00m\n\u001b[1;32m    443\u001b[0m     \u001b[38;5;66;03m# it does not contain inf or nan.\u001b[39;00m\n\u001b[1;32m    444\u001b[0m     grad_outputs \u001b[38;5;241m=\u001b[39m \u001b[38;5;28mtuple\u001b[39m(\n\u001b[1;32m    445\u001b[0m         torch\u001b[38;5;241m.\u001b[39mzeros_like(out, requires_grad\u001b[38;5;241m=\u001b[39m\u001b[38;5;28;01mTrue\u001b[39;00m) \u001b[38;5;28;01mfor\u001b[39;00m out \u001b[38;5;129;01min\u001b[39;00m outputs\n\u001b[1;32m    446\u001b[0m     )\n\u001b[0;32m--> 448\u001b[0m     grad_inputs \u001b[38;5;241m=\u001b[39m \u001b[43m_autograd_grad\u001b[49m\u001b[43m(\u001b[49m\u001b[43moutputs\u001b[49m\u001b[43m,\u001b[49m\u001b[43m \u001b[49m\u001b[43minputs\u001b[49m\u001b[43m,\u001b[49m\u001b[43m \u001b[49m\u001b[43mgrad_outputs\u001b[49m\u001b[43m,\u001b[49m\u001b[43m \u001b[49m\u001b[43mcreate_graph\u001b[49m\u001b[38;5;241;43m=\u001b[39;49m\u001b[38;5;28;43;01mTrue\u001b[39;49;00m\u001b[43m)\u001b[49m\n\u001b[1;32m    449\u001b[0m     _check_requires_grad(grad_inputs, \u001b[38;5;124m\"\u001b[39m\u001b[38;5;124mgrad_inputs\u001b[39m\u001b[38;5;124m\"\u001b[39m, strict\u001b[38;5;241m=\u001b[39mstrict)\n\u001b[1;32m    451\u001b[0m \u001b[38;5;28;01mif\u001b[39;00m create_graph:\n",
      "File \u001b[0;32m~/climate/lib/python3.12/site-packages/torch/autograd/functional.py:195\u001b[0m, in \u001b[0;36m_autograd_grad\u001b[0;34m(outputs, inputs, grad_outputs, create_graph, retain_graph, is_grads_batched)\u001b[0m\n\u001b[1;32m    193\u001b[0m     \u001b[38;5;28;01mreturn\u001b[39;00m (\u001b[38;5;28;01mNone\u001b[39;00m,) \u001b[38;5;241m*\u001b[39m \u001b[38;5;28mlen\u001b[39m(inputs)\n\u001b[1;32m    194\u001b[0m \u001b[38;5;28;01melse\u001b[39;00m:\n\u001b[0;32m--> 195\u001b[0m     \u001b[38;5;28;01mreturn\u001b[39;00m \u001b[43mtorch\u001b[49m\u001b[38;5;241;43m.\u001b[39;49m\u001b[43mautograd\u001b[49m\u001b[38;5;241;43m.\u001b[39;49m\u001b[43mgrad\u001b[49m\u001b[43m(\u001b[49m\n\u001b[1;32m    196\u001b[0m \u001b[43m        \u001b[49m\u001b[43mnew_outputs\u001b[49m\u001b[43m,\u001b[49m\n\u001b[1;32m    197\u001b[0m \u001b[43m        \u001b[49m\u001b[43minputs\u001b[49m\u001b[43m,\u001b[49m\n\u001b[1;32m    198\u001b[0m \u001b[43m        \u001b[49m\u001b[43mnew_grad_outputs\u001b[49m\u001b[43m,\u001b[49m\n\u001b[1;32m    199\u001b[0m \u001b[43m        \u001b[49m\u001b[43mallow_unused\u001b[49m\u001b[38;5;241;43m=\u001b[39;49m\u001b[38;5;28;43;01mTrue\u001b[39;49;00m\u001b[43m,\u001b[49m\n\u001b[1;32m    200\u001b[0m \u001b[43m        \u001b[49m\u001b[43mcreate_graph\u001b[49m\u001b[38;5;241;43m=\u001b[39;49m\u001b[43mcreate_graph\u001b[49m\u001b[43m,\u001b[49m\n\u001b[1;32m    201\u001b[0m \u001b[43m        \u001b[49m\u001b[43mretain_graph\u001b[49m\u001b[38;5;241;43m=\u001b[39;49m\u001b[43mretain_graph\u001b[49m\u001b[43m,\u001b[49m\n\u001b[1;32m    202\u001b[0m \u001b[43m        \u001b[49m\u001b[43mis_grads_batched\u001b[49m\u001b[38;5;241;43m=\u001b[39;49m\u001b[43mis_grads_batched\u001b[49m\u001b[43m,\u001b[49m\n\u001b[1;32m    203\u001b[0m \u001b[43m    \u001b[49m\u001b[43m)\u001b[49m\n",
      "File \u001b[0;32m~/climate/lib/python3.12/site-packages/torch/autograd/__init__.py:496\u001b[0m, in \u001b[0;36mgrad\u001b[0;34m(outputs, inputs, grad_outputs, retain_graph, create_graph, only_inputs, allow_unused, is_grads_batched, materialize_grads)\u001b[0m\n\u001b[1;32m    492\u001b[0m     result \u001b[38;5;241m=\u001b[39m _vmap_internals\u001b[38;5;241m.\u001b[39m_vmap(vjp, \u001b[38;5;241m0\u001b[39m, \u001b[38;5;241m0\u001b[39m, allow_none_pass_through\u001b[38;5;241m=\u001b[39m\u001b[38;5;28;01mTrue\u001b[39;00m)(\n\u001b[1;32m    493\u001b[0m         grad_outputs_\n\u001b[1;32m    494\u001b[0m     )\n\u001b[1;32m    495\u001b[0m \u001b[38;5;28;01melse\u001b[39;00m:\n\u001b[0;32m--> 496\u001b[0m     result \u001b[38;5;241m=\u001b[39m \u001b[43m_engine_run_backward\u001b[49m\u001b[43m(\u001b[49m\n\u001b[1;32m    497\u001b[0m \u001b[43m        \u001b[49m\u001b[43moutputs\u001b[49m\u001b[43m,\u001b[49m\n\u001b[1;32m    498\u001b[0m \u001b[43m        \u001b[49m\u001b[43mgrad_outputs_\u001b[49m\u001b[43m,\u001b[49m\n\u001b[1;32m    499\u001b[0m \u001b[43m        \u001b[49m\u001b[43mretain_graph\u001b[49m\u001b[43m,\u001b[49m\n\u001b[1;32m    500\u001b[0m \u001b[43m        \u001b[49m\u001b[43mcreate_graph\u001b[49m\u001b[43m,\u001b[49m\n\u001b[1;32m    501\u001b[0m \u001b[43m        \u001b[49m\u001b[43minputs\u001b[49m\u001b[43m,\u001b[49m\n\u001b[1;32m    502\u001b[0m \u001b[43m        \u001b[49m\u001b[43mallow_unused\u001b[49m\u001b[43m,\u001b[49m\n\u001b[1;32m    503\u001b[0m \u001b[43m        \u001b[49m\u001b[43maccumulate_grad\u001b[49m\u001b[38;5;241;43m=\u001b[39;49m\u001b[38;5;28;43;01mFalse\u001b[39;49;00m\u001b[43m,\u001b[49m\n\u001b[1;32m    504\u001b[0m \u001b[43m    \u001b[49m\u001b[43m)\u001b[49m\n\u001b[1;32m    505\u001b[0m \u001b[38;5;28;01mif\u001b[39;00m materialize_grads:\n\u001b[1;32m    506\u001b[0m     \u001b[38;5;28;01mif\u001b[39;00m \u001b[38;5;28many\u001b[39m(\n\u001b[1;32m    507\u001b[0m         result[i] \u001b[38;5;129;01mis\u001b[39;00m \u001b[38;5;28;01mNone\u001b[39;00m \u001b[38;5;129;01mand\u001b[39;00m \u001b[38;5;129;01mnot\u001b[39;00m is_tensor_like(inputs[i])\n\u001b[1;32m    508\u001b[0m         \u001b[38;5;28;01mfor\u001b[39;00m i \u001b[38;5;129;01min\u001b[39;00m \u001b[38;5;28mrange\u001b[39m(\u001b[38;5;28mlen\u001b[39m(inputs))\n\u001b[1;32m    509\u001b[0m     ):\n",
      "File \u001b[0;32m~/climate/lib/python3.12/site-packages/torch/autograd/graph.py:823\u001b[0m, in \u001b[0;36m_engine_run_backward\u001b[0;34m(t_outputs, *args, **kwargs)\u001b[0m\n\u001b[1;32m    821\u001b[0m     unregister_hooks \u001b[38;5;241m=\u001b[39m _register_logging_hooks_on_whole_graph(t_outputs)\n\u001b[1;32m    822\u001b[0m \u001b[38;5;28;01mtry\u001b[39;00m:\n\u001b[0;32m--> 823\u001b[0m     \u001b[38;5;28;01mreturn\u001b[39;00m \u001b[43mVariable\u001b[49m\u001b[38;5;241;43m.\u001b[39;49m\u001b[43m_execution_engine\u001b[49m\u001b[38;5;241;43m.\u001b[39;49m\u001b[43mrun_backward\u001b[49m\u001b[43m(\u001b[49m\u001b[43m  \u001b[49m\u001b[38;5;66;43;03m# Calls into the C++ engine to run the backward pass\u001b[39;49;00m\n\u001b[1;32m    824\u001b[0m \u001b[43m        \u001b[49m\u001b[43mt_outputs\u001b[49m\u001b[43m,\u001b[49m\u001b[43m \u001b[49m\u001b[38;5;241;43m*\u001b[39;49m\u001b[43margs\u001b[49m\u001b[43m,\u001b[49m\u001b[43m \u001b[49m\u001b[38;5;241;43m*\u001b[39;49m\u001b[38;5;241;43m*\u001b[39;49m\u001b[43mkwargs\u001b[49m\n\u001b[1;32m    825\u001b[0m \u001b[43m    \u001b[49m\u001b[43m)\u001b[49m  \u001b[38;5;66;03m# Calls into the C++ engine to run the backward pass\u001b[39;00m\n\u001b[1;32m    826\u001b[0m \u001b[38;5;28;01mfinally\u001b[39;00m:\n\u001b[1;32m    827\u001b[0m     \u001b[38;5;28;01mif\u001b[39;00m attach_logging_hooks:\n",
      "\u001b[0;31mKeyboardInterrupt\u001b[0m: "
     ]
    }
   ],
   "source": [
    "lr = 1e-3\n",
    "model = FNOVelocityField(in_channels=1, modes1=16, modes2=16)\n",
    "model = model.cuda()\n",
    "optimizer = torch.optim.Adam(model.parameters(), lr=lr)\n",
    "\n",
    "for step in trange(15):\n",
    "    for x, y in tqdm(train_loader, leave = False):\n",
    "        x1 = x.cuda()\n",
    "        x0 = torch.randn_like(x1).cuda()\n",
    "        loss = gradient_flow_loss(model, x0, x1)\n",
    "        loss.backward()\n",
    "        optimizer.step()\n",
    "        optimizer.zero_grad()\n",
    "    \n",
    "        k += 1\n",
    "        if k % 500 == 0: \n",
    "            print(loss.detach())"
   ]
  },
  {
   "cell_type": "code",
   "execution_count": 364,
   "id": "7e2a5aac-c430-4e37-b142-7adf0705fe9d",
   "metadata": {},
   "outputs": [
    {
     "data": {
      "image/png": "[encoded data removed]",
      "text/plain": [
       "<Figure size 1000x400 with 4 Axes>"
      ]
     },
     "metadata": {},
     "output_type": "display_data"
    }
   ],
   "source": [
    "x1_samp = sample_from_flow(model, torch.randn_like(x1).cuda())\n",
    "\n",
    "fig, ax = plt.subplots(1, 4, constrained_layout = True, figsize = (10, 4))\n",
    "ax[0].imshow(x1_samp[0,0].cpu(), cmap = 'binary')\n",
    "ax[1].imshow(x1_samp[1,0].cpu(), cmap = 'binary')\n",
    "ax[2].imshow(x1_samp[2,0].cpu(), cmap = 'binary')\n",
    "ax[3].imshow(x1_samp[3,0].cpu(), cmap = 'binary')\n",
    "plt.show()"
   ]
  },
  {
   "cell_type": "code",
   "execution_count": null,
   "id": "54e036b6-fee4-44d1-9645-4b3ce7702d4c",
   "metadata": {},
   "outputs": [],
   "source": []
  },
  {
   "cell_type": "code",
   "execution_count": null,
   "id": "0996440a-f7a6-4d3b-b83a-7039f61685f8",
   "metadata": {},
   "outputs": [],
   "source": []
  },
  {
   "cell_type": "code",
   "execution_count": 302,
   "id": "4dd90cdf-8a45-4926-be82-902dc7d3e0cb",
   "metadata": {},
   "outputs": [],
   "source": [
    "import torch\n",
    "from torch.autograd.functional import jvp\n",
    "\n",
    "def jacobian_vector_product(func, x, v, create_graph=True):\n",
    "    # Returns J(x) @ v\n",
    "    y = func(x)\n",
    "    jvp_val = jvp(func, (x,), (v,), create_graph=create_graph)[1]\n",
    "    return jvp_val\n",
    "\n",
    "def vector_jacobian_product(func, x, v, create_graph=True):\n",
    "    # Returns v^T @ J(x) = J(x)^T @ v\n",
    "    y = func(x)\n",
    "    grads = torch.autograd.grad(y, x, grad_outputs=v, create_graph=create_graph, retain_graph=True)[0]\n",
    "    return grads\n",
    "\n",
    "def curl_penalty(func, x, n_samples=1):\n",
    "    d = x.shape[-1]\n",
    "    penalty = 0.\n",
    "    for _ in range(n_samples):\n",
    "        z = torch.randint(0, 2, x.shape, device=x.device).float() * 2 - 1  # Rademacher\n",
    "        jvp_z = jacobian_vector_product(func, x, z)\n",
    "        vjp_z = vector_jacobian_product(func, x, z)\n",
    "        A_z = 0.5 * (jvp_z - vjp_z)\n",
    "        penalty += (A_z**2).sum(dim=-1).mean()\n",
    "    return penalty / n_samples\n",
    "\n",
    "def eigenvalue_penalty(func, x, n_samples=1):\n",
    "    penalty = 0.\n",
    "    for _ in range(n_samples):\n",
    "        z = torch.randn_like(x)\n",
    "        z = z / (z.norm(dim=-1, keepdim=True) + 1e-8)\n",
    "        jvp_z = jacobian_vector_product(func, x, z)\n",
    "        rayleigh = (z * jvp_z).sum(dim=-1)  # batch dot product\n",
    "        neg_part = F.relu(-rayleigh)  # penalize negative part only\n",
    "        penalty += neg_part.mean()\n",
    "    return penalty / n_samples\n",
    "\n",
    "def ot_regularizer(func, x, n_samples=1, curl_wt=1.0, eig_wt=1.0):\n",
    "    curl = curl_penalty(func, x, n_samples)\n",
    "    eig = eigenvalue_penalty(func, x, n_samples)\n",
    "    return curl_wt * curl + eig_wt * eig"
   ]
  },
  {
   "cell_type": "code",
   "execution_count": 303,
   "id": "6104e524-9da3-4509-b036-05240851f535",
   "metadata": {},
   "outputs": [],
   "source": [
    "lr = 1e-3\n",
    "model = FNOVelocityField(in_channels=1, modes1=16, modes2=16)\n",
    "model = model.cuda()\n",
    "optimizer = torch.optim.Adam(model.parameters(), lr=lr)"
   ]
  },
  {
   "cell_type": "code",
   "execution_count": 304,
   "id": "7458a13c-a815-44c8-b631-d23f06b9269d",
   "metadata": {},
   "outputs": [
    {
     "ename": "TypeError",
     "evalue": "FNOVelocityField.forward() missing 1 required positional argument: 't'",
     "output_type": "error",
     "traceback": [
      "\u001b[0;31m---------------------------------------------------------------------------\u001b[0m",
      "\u001b[0;31mTypeError\u001b[0m                                 Traceback (most recent call last)",
      "Cell \u001b[0;32mIn[304], line 1\u001b[0m\n\u001b[0;32m----> 1\u001b[0m \u001b[43mot_regularizer\u001b[49m\u001b[43m(\u001b[49m\u001b[43mmodel\u001b[49m\u001b[43m,\u001b[49m\u001b[43m \u001b[49m\u001b[43mx1\u001b[49m\u001b[43m)\u001b[49m\n",
      "Cell \u001b[0;32mIn[302], line 39\u001b[0m, in \u001b[0;36mot_regularizer\u001b[0;34m(func, x, n_samples, curl_wt, eig_wt)\u001b[0m\n\u001b[1;32m     38\u001b[0m \u001b[38;5;28;01mdef\u001b[39;00m\u001b[38;5;250m \u001b[39m\u001b[38;5;21mot_regularizer\u001b[39m(func, x, n_samples\u001b[38;5;241m=\u001b[39m\u001b[38;5;241m1\u001b[39m, curl_wt\u001b[38;5;241m=\u001b[39m\u001b[38;5;241m1.0\u001b[39m, eig_wt\u001b[38;5;241m=\u001b[39m\u001b[38;5;241m1.0\u001b[39m):\n\u001b[0;32m---> 39\u001b[0m     curl \u001b[38;5;241m=\u001b[39m \u001b[43mcurl_penalty\u001b[49m\u001b[43m(\u001b[49m\u001b[43mfunc\u001b[49m\u001b[43m,\u001b[49m\u001b[43m \u001b[49m\u001b[43mx\u001b[49m\u001b[43m,\u001b[49m\u001b[43m \u001b[49m\u001b[43mn_samples\u001b[49m\u001b[43m)\u001b[49m\n\u001b[1;32m     40\u001b[0m     eig \u001b[38;5;241m=\u001b[39m eigenvalue_penalty(func, x, n_samples)\n\u001b[1;32m     41\u001b[0m     \u001b[38;5;28;01mreturn\u001b[39;00m curl_wt \u001b[38;5;241m*\u001b[39m curl \u001b[38;5;241m+\u001b[39m eig_wt \u001b[38;5;241m*\u001b[39m eig\n",
      "Cell \u001b[0;32mIn[302], line 21\u001b[0m, in \u001b[0;36mcurl_penalty\u001b[0;34m(func, x, n_samples)\u001b[0m\n\u001b[1;32m     19\u001b[0m \u001b[38;5;28;01mfor\u001b[39;00m _ \u001b[38;5;129;01min\u001b[39;00m \u001b[38;5;28mrange\u001b[39m(n_samples):\n\u001b[1;32m     20\u001b[0m     z \u001b[38;5;241m=\u001b[39m torch\u001b[38;5;241m.\u001b[39mrandint(\u001b[38;5;241m0\u001b[39m, \u001b[38;5;241m2\u001b[39m, x\u001b[38;5;241m.\u001b[39mshape, device\u001b[38;5;241m=\u001b[39mx\u001b[38;5;241m.\u001b[39mdevice)\u001b[38;5;241m.\u001b[39mfloat() \u001b[38;5;241m*\u001b[39m \u001b[38;5;241m2\u001b[39m \u001b[38;5;241m-\u001b[39m \u001b[38;5;241m1\u001b[39m  \u001b[38;5;66;03m# Rademacher\u001b[39;00m\n\u001b[0;32m---> 21\u001b[0m     jvp_z \u001b[38;5;241m=\u001b[39m \u001b[43mjacobian_vector_product\u001b[49m\u001b[43m(\u001b[49m\u001b[43mfunc\u001b[49m\u001b[43m,\u001b[49m\u001b[43m \u001b[49m\u001b[43mx\u001b[49m\u001b[43m,\u001b[49m\u001b[43m \u001b[49m\u001b[43mz\u001b[49m\u001b[43m)\u001b[49m\n\u001b[1;32m     22\u001b[0m     vjp_z \u001b[38;5;241m=\u001b[39m vector_jacobian_product(func, x, z)\n\u001b[1;32m     23\u001b[0m     A_z \u001b[38;5;241m=\u001b[39m \u001b[38;5;241m0.5\u001b[39m \u001b[38;5;241m*\u001b[39m (jvp_z \u001b[38;5;241m-\u001b[39m vjp_z)\n",
      "Cell \u001b[0;32mIn[302], line 6\u001b[0m, in \u001b[0;36mjacobian_vector_product\u001b[0;34m(func, x, v, create_graph)\u001b[0m\n\u001b[1;32m      4\u001b[0m \u001b[38;5;28;01mdef\u001b[39;00m\u001b[38;5;250m \u001b[39m\u001b[38;5;21mjacobian_vector_product\u001b[39m(func, x, v, create_graph\u001b[38;5;241m=\u001b[39m\u001b[38;5;28;01mTrue\u001b[39;00m):\n\u001b[1;32m      5\u001b[0m     \u001b[38;5;66;03m# Returns J(x) @ v\u001b[39;00m\n\u001b[0;32m----> 6\u001b[0m     y \u001b[38;5;241m=\u001b[39m \u001b[43mfunc\u001b[49m\u001b[43m(\u001b[49m\u001b[43mx\u001b[49m\u001b[43m)\u001b[49m\n\u001b[1;32m      7\u001b[0m     jvp_val \u001b[38;5;241m=\u001b[39m jvp(func, (x,), (v,), create_graph\u001b[38;5;241m=\u001b[39mcreate_graph)[\u001b[38;5;241m1\u001b[39m]\n\u001b[1;32m      8\u001b[0m     \u001b[38;5;28;01mreturn\u001b[39;00m jvp_val\n",
      "File \u001b[0;32m~/climate/lib/python3.12/site-packages/torch/nn/modules/module.py:1739\u001b[0m, in \u001b[0;36mModule._wrapped_call_impl\u001b[0;34m(self, *args, **kwargs)\u001b[0m\n\u001b[1;32m   1737\u001b[0m     \u001b[38;5;28;01mreturn\u001b[39;00m \u001b[38;5;28mself\u001b[39m\u001b[38;5;241m.\u001b[39m_compiled_call_impl(\u001b[38;5;241m*\u001b[39margs, \u001b[38;5;241m*\u001b[39m\u001b[38;5;241m*\u001b[39mkwargs)  \u001b[38;5;66;03m# type: ignore[misc]\u001b[39;00m\n\u001b[1;32m   1738\u001b[0m \u001b[38;5;28;01melse\u001b[39;00m:\n\u001b[0;32m-> 1739\u001b[0m     \u001b[38;5;28;01mreturn\u001b[39;00m \u001b[38;5;28;43mself\u001b[39;49m\u001b[38;5;241;43m.\u001b[39;49m\u001b[43m_call_impl\u001b[49m\u001b[43m(\u001b[49m\u001b[38;5;241;43m*\u001b[39;49m\u001b[43margs\u001b[49m\u001b[43m,\u001b[49m\u001b[43m \u001b[49m\u001b[38;5;241;43m*\u001b[39;49m\u001b[38;5;241;43m*\u001b[39;49m\u001b[43mkwargs\u001b[49m\u001b[43m)\u001b[49m\n",
      "File \u001b[0;32m~/climate/lib/python3.12/site-packages/torch/nn/modules/module.py:1750\u001b[0m, in \u001b[0;36mModule._call_impl\u001b[0;34m(self, *args, **kwargs)\u001b[0m\n\u001b[1;32m   1745\u001b[0m \u001b[38;5;66;03m# If we don't have any hooks, we want to skip the rest of the logic in\u001b[39;00m\n\u001b[1;32m   1746\u001b[0m \u001b[38;5;66;03m# this function, and just call forward.\u001b[39;00m\n\u001b[1;32m   1747\u001b[0m \u001b[38;5;28;01mif\u001b[39;00m \u001b[38;5;129;01mnot\u001b[39;00m (\u001b[38;5;28mself\u001b[39m\u001b[38;5;241m.\u001b[39m_backward_hooks \u001b[38;5;129;01mor\u001b[39;00m \u001b[38;5;28mself\u001b[39m\u001b[38;5;241m.\u001b[39m_backward_pre_hooks \u001b[38;5;129;01mor\u001b[39;00m \u001b[38;5;28mself\u001b[39m\u001b[38;5;241m.\u001b[39m_forward_hooks \u001b[38;5;129;01mor\u001b[39;00m \u001b[38;5;28mself\u001b[39m\u001b[38;5;241m.\u001b[39m_forward_pre_hooks\n\u001b[1;32m   1748\u001b[0m         \u001b[38;5;129;01mor\u001b[39;00m _global_backward_pre_hooks \u001b[38;5;129;01mor\u001b[39;00m _global_backward_hooks\n\u001b[1;32m   1749\u001b[0m         \u001b[38;5;129;01mor\u001b[39;00m _global_forward_hooks \u001b[38;5;129;01mor\u001b[39;00m _global_forward_pre_hooks):\n\u001b[0;32m-> 1750\u001b[0m     \u001b[38;5;28;01mreturn\u001b[39;00m \u001b[43mforward_call\u001b[49m\u001b[43m(\u001b[49m\u001b[38;5;241;43m*\u001b[39;49m\u001b[43margs\u001b[49m\u001b[43m,\u001b[49m\u001b[43m \u001b[49m\u001b[38;5;241;43m*\u001b[39;49m\u001b[38;5;241;43m*\u001b[39;49m\u001b[43mkwargs\u001b[49m\u001b[43m)\u001b[49m\n\u001b[1;32m   1752\u001b[0m result \u001b[38;5;241m=\u001b[39m \u001b[38;5;28;01mNone\u001b[39;00m\n\u001b[1;32m   1753\u001b[0m called_always_called_hooks \u001b[38;5;241m=\u001b[39m \u001b[38;5;28mset\u001b[39m()\n",
      "\u001b[0;31mTypeError\u001b[0m: FNOVelocityField.forward() missing 1 required positional argument: 't'"
     ]
    }
   ],
   "source": [
    "ot_regularizer(model, x1)"
   ]
  },
  {
   "cell_type": "code",
   "execution_count": null,
   "id": "54c277f5-7f99-4c06-b6f0-6d33b730d133",
   "metadata": {},
   "outputs": [],
   "source": []
  },
  {
   "cell_type": "code",
   "execution_count": null,
   "id": "25ca1deb-ac4e-4ac7-81ea-0f0b30d4f24a",
   "metadata": {},
   "outputs": [],
   "source": []
  },
  {
   "cell_type": "code",
   "execution_count": null,
   "id": "918521e9-140b-4281-8065-70c5322fbb9e",
   "metadata": {},
   "outputs": [],
   "source": []
  },
  {
   "cell_type": "code",
   "execution_count": null,
   "id": "c7c5717a-7446-46df-9f0b-5302e8aa6eaa",
   "metadata": {},
   "outputs": [],
   "source": []
  },
  {
   "cell_type": "code",
   "execution_count": null,
   "id": "967bce34-d93b-4e81-9849-14c2ed137d69",
   "metadata": {},
   "outputs": [],
   "source": []
  },
  {
   "cell_type": "code",
   "execution_count": null,
   "id": "6f9495e4-e9cd-4654-bf90-11d6ebec1ca3",
   "metadata": {},
   "outputs": [],
   "source": []
  },
  {
   "cell_type": "code",
   "execution_count": 292,
   "id": "bc1fe0fd-59d3-4bd0-a1fc-a676698cf867",
   "metadata": {},
   "outputs": [],
   "source": [
    "import torch\n",
    "import torch.nn as nn\n",
    "import torch.nn.functional as F\n",
    "import torch.autograd as autograd\n",
    "\n",
    "class ConvICNNLayer(nn.Module):\n",
    "    def __init__(self, in_channels, out_channels, kernel_size=3, stride=1, padding=1, use_hidden=True):\n",
    "        super().__init__()\n",
    "        # Convolution on input image with non-negative weights (softplus)\n",
    "        self.conv_in = nn.Conv2d(in_channels, out_channels, kernel_size, stride, padding, bias=False)\n",
    "        nn.init.uniform_(self.conv_in.weight, a=0, b=0.1)  # small positive init\n",
    "        \n",
    "        # Convolution on hidden state (previous layer output)\n",
    "        self.use_hidden = use_hidden\n",
    "        if use_hidden:\n",
    "            self.conv_hidden = nn.Conv2d(out_channels, out_channels, kernel_size=1, bias=True)\n",
    "            nn.init.zeros_(self.conv_hidden.bias)\n",
    "        \n",
    "        # FiLM scale and shift for conditioning + time\n",
    "        self.film_scale = nn.Linear(128, out_channels)  # assuming cond+time embed dim=128\n",
    "        self.film_shift = nn.Linear(128, out_channels)\n",
    "    \n",
    "    def forward(self, x_in, z_hidden, cond_emb):\n",
    "        # x_in: (B, C_in, H, W)\n",
    "        # z_hidden: (B, C_out, H, W) or None if first layer\n",
    "        # cond_emb: (B, 128) conditioning + time embedding\n",
    "        \n",
    "        W_in_pos = F.softplus(self.conv_in.weight)  # enforce positivity\n",
    "        \n",
    "        x_term = F.conv2d(x_in, W_in_pos, bias=None, stride=self.conv_in.stride, padding=self.conv_in.padding)\n",
    "        \n",
    "        if self.use_hidden:\n",
    "            z_term = self.conv_hidden(z_hidden)\n",
    "            out = x_term + z_term\n",
    "        else:\n",
    "            out = x_term\n",
    "        \n",
    "        # Apply FiLM conditioning\n",
    "        scale = self.film_scale(cond_emb).unsqueeze(-1).unsqueeze(-1)  # (B,C_out,1,1)\n",
    "        shift = self.film_shift(cond_emb).unsqueeze(-1).unsqueeze(-1)\n",
    "        out = out * scale + shift\n",
    "        \n",
    "        return F.relu(out)\n",
    "\n",
    "\n",
    "class ConvConditionalICNN(nn.Module):\n",
    "    def __init__(self, in_channels=3, cond_dim=10, time_dim=1, hidden_channels=[32,64,64,32]):\n",
    "        super().__init__()\n",
    "        self.in_channels = in_channels\n",
    "        self.cond_dim = cond_dim\n",
    "        self.time_dim = time_dim\n",
    "        \n",
    "        # Condition + time embedding to fixed dim\n",
    "        self.cond_time_embed = nn.Sequential(\n",
    "            nn.Linear(cond_dim + time_dim, 128),\n",
    "            nn.ReLU(),\n",
    "            nn.Linear(128, 128),\n",
    "            nn.ReLU(),\n",
    "        )\n",
    "        \n",
    "        layers = []\n",
    "        last_channels = in_channels\n",
    "        for i, h_ch in enumerate(hidden_channels):\n",
    "            layers.append(ConvICNNLayer(last_channels, h_ch, use_hidden=(i>0)))\n",
    "            last_channels = h_ch\n",
    "        self.conv_layers = nn.ModuleList(layers)\n",
    "        \n",
    "        self.final_conv = nn.Conv2d(last_channels, 1, kernel_size=1)  # output scalar potential per pixel\n",
    "    \n",
    "    def forward(self, x, c, t):\n",
    "        # x: (B, C, H, W) image input, requires_grad=True\n",
    "        # c: (B, cond_dim) conditioning\n",
    "        # t: (B, time_dim) time scalar\n",
    "        cond_time = torch.cat([c, t], dim=-1)\n",
    "        cond_emb = self.cond_time_embed(cond_time)  # (B, 128)\n",
    "        \n",
    "        z = None\n",
    "        out = x\n",
    "        for i, layer in enumerate(self.conv_layers):\n",
    "            out = layer(out, z, cond_emb)\n",
    "            z = out\n",
    "        \n",
    "        potential = self.final_conv(out).squeeze(1)  # (B, H, W) scalar potential per pixel\n",
    "        \n",
    "        # To get scalar potential per image: sum or mean spatial dims\n",
    "        scalar_potential = potential.view(potential.size(0), -1).mean(dim=1)  \n",
    "        return scalar_potential\n"
   ]
  },
  {
   "cell_type": "code",
   "execution_count": 293,
   "id": "08262292-6d25-4b27-83d5-c150eaee623e",
   "metadata": {},
   "outputs": [],
   "source": [
    "def velocity_field_image(phi_model, x, c, t):\n",
    "    x = x.requires_grad_(True)  # (B,C,H,W)\n",
    "    potential = phi_model(x, c, t)  # (B,) scalar per image\n",
    "    \n",
    "    grad_outputs = torch.ones_like(potential)\n",
    "    v = autograd.grad(outputs=potential,\n",
    "                      inputs=x,\n",
    "                      grad_outputs=grad_outputs,\n",
    "                      create_graph=True,\n",
    "                      retain_graph=True,\n",
    "                      only_inputs=True)[0]  # (B,C,H,W)\n",
    "    return v"
   ]
  },
  {
   "cell_type": "code",
   "execution_count": 295,
   "id": "864a8a05-e88a-45a6-bfe9-018de7a04c9a",
   "metadata": {},
   "outputs": [],
   "source": [
    "# def flow_matching_loss_image(phi_model, x_t, c, t, v_star):\n",
    "#     v_theta = velocity_field_image(phi_model, x_t, c, t)\n",
    "#     loss = ((v_theta - v_star)**2).mean()  # MSE over all pixels, channels, batch\n",
    "#     return loss"
   ]
  },
  {
   "cell_type": "code",
   "execution_count": 298,
   "id": "d44d31e6-e3b6-41ac-8ec2-07e59628dcfe",
   "metadata": {},
   "outputs": [],
   "source": [
    "phi = ConvConditionalICNN(in_channels = 1)\n",
    "velocity_field_image(phi, "
   ]
  },
  {
   "cell_type": "code",
   "execution_count": null,
   "id": "10ba5c60-c503-4e50-9d1a-be9d662e371a",
   "metadata": {},
   "outputs": [],
   "source": [
    "lr = 1e-3\n",
    "model = FNOVelocityField(in_channels=1, modes1=16, modes2=16)\n",
    "model = model.cuda()\n",
    "optimizer = torch.optim.Adam(model.parameters(), lr=lr)\n",
    "\n",
    "k = 0\n",
    "for step in trange(15):\n",
    "    for x, y in tqdm(train_loader, leave = False):\n",
    "        x1 = x.cuda()\n",
    "        x0 = torch.randn_like(x1).cuda()\n",
    "        loss = flow_matching_loss_image(model, x0, x1)\n",
    "        loss.backward()\n",
    "        optimizer.step()\n",
    "        optimizer.zero_grad()\n",
    "\n",
    "        k += 1\n",
    "        if k % 500 == 0: \n",
    "            print(loss.detach())"
   ]
  },
  {
   "cell_type": "code",
   "execution_count": null,
   "id": "3a2a977e-aabb-497f-8a06-ccf0211e1570",
   "metadata": {},
   "outputs": [],
   "source": []
  },
  {
   "cell_type": "code",
   "execution_count": null,
   "id": "1abc80d5-a2e0-4758-a4fa-2fb75cb8c0f8",
   "metadata": {},
   "outputs": [],
   "source": []
  },
  {
   "cell_type": "code",
   "execution_count": null,
   "id": "53afd9f0-a1f7-4830-a4a7-9492bdb8458a",
   "metadata": {},
   "outputs": [],
   "source": []
  },
  {
   "cell_type": "code",
   "execution_count": null,
   "id": "22f7ca0c-006f-45d8-9843-a28ed591d1ab",
   "metadata": {},
   "outputs": [],
   "source": []
  },
  {
   "cell_type": "code",
   "execution_count": null,
   "id": "edd7a7cb-965e-4b3a-a765-fd1f5be88962",
   "metadata": {},
   "outputs": [],
   "source": []
  },
  {
   "cell_type": "code",
   "execution_count": null,
   "id": "9243bd34-5191-4e02-8889-6897d0c43e93",
   "metadata": {},
   "outputs": [],
   "source": []
  },
  {
   "cell_type": "code",
   "execution_count": null,
   "id": "eb024860-6224-4d4a-a16d-9ca72f5ad4d5",
   "metadata": {},
   "outputs": [],
   "source": []
  },
  {
   "cell_type": "code",
   "execution_count": null,
   "id": "efe46318-4b44-4dbd-a8b9-973b2735bc76",
   "metadata": {},
   "outputs": [],
   "source": []
  },
  {
   "cell_type": "code",
   "execution_count": 206,
   "id": "f2d187e0-256b-443d-8b62-c6d8f758d694",
   "metadata": {},
   "outputs": [],
   "source": [
    "class SpectralVelocityField(nn.Module):\n",
    "    def __init__(self, noise_dim, height, width, channels=1, hidden_dim=256):\n",
    "        super().__init__()\n",
    "        self.height = height\n",
    "        self.width = width\n",
    "        self.channels = channels\n",
    "        \n",
    "        # Output needs to be real+imaginary parts for each Fourier coefficient\n",
    "        output_dim = 2 * channels * height * width\n",
    "        \n",
    "        self.mlp = nn.Sequential(\n",
    "            nn.Linear(noise_dim, hidden_dim),\n",
    "            nn.ReLU(),\n",
    "            nn.Linear(hidden_dim, hidden_dim),\n",
    "            nn.ReLU(),\n",
    "            nn.Linear(hidden_dim, output_dim)\n",
    "        )\n",
    "        \n",
    "    def forward(self, z):\n",
    "        \"\"\"\n",
    "        z: [B, noise_dim]  -- white noise latent vector\n",
    "        Returns:\n",
    "            velocity_field: [B, C, H, W] in spatial domain\n",
    "        \"\"\"\n",
    "        B = z.size(0)\n",
    "        \n",
    "        coeffs = self.mlp(z)  # [B, 2*C*H*W]\n",
    "        coeffs = coeffs.view(B, self.channels, 2, self.height, self.width)\n",
    "        \n",
    "        # real and imaginary parts\n",
    "        real = coeffs[:, :, 0, :, :]\n",
    "        imag = coeffs[:, :, 1, :, :]\n",
    "        \n",
    "        # create complex tensor for Fourier domain\n",
    "        complex_coeffs = torch.complex(real, imag)\n",
    "        \n",
    "        # inverse FFT to get spatial domain velocity\n",
    "        velocity_field = torch.fft.ifft2(complex_coeffs, norm=\"ortho\").real\n",
    "        \n",
    "        return velocity_field"
   ]
  },
  {
   "cell_type": "code",
   "execution_count": null,
   "id": "0b83ded5-fa6d-4f4b-8842-069b78b11560",
   "metadata": {},
   "outputs": [],
   "source": [
    "lr = 1e-3\n",
    "model = FNOVelocityField(in_channels=1, modes1=16, modes2=16)\n",
    "model = model.cuda()\n",
    "optimizer = torch.optim.Adam(model.parameters(), lr=lr)\n",
    "\n",
    "k = 0\n",
    "for step in trange(5):\n",
    "    for x, y in tqdm(train_loader, leave = False):\n",
    "        x1 = x.cuda()\n",
    "        x0 = torch.randn_like(x1).cuda()\n",
    "        loss = conv_flow_matching_loss(model, x0, x1)\n",
    "        loss.backward()\n",
    "        optimizer.step()\n",
    "        optimizer.zero_grad()\n",
    "\n",
    "        k += 1\n",
    "        if k % 500 == 0: \n",
    "            print(loss.detach())"
   ]
  },
  {
   "cell_type": "code",
   "execution_count": 89,
   "id": "ea5b379a-de2c-43eb-a107-e2878e031450",
   "metadata": {},
   "outputs": [],
   "source": [
    "# lr = 1e-3\n",
    "# model = ConvUNetVelocityField(in_channels=1, base_channels=64, time_embed_dim=16, time_mlp_dim=128, depths=(1,1,2))\n",
    "# optimizer = torch.optim.Adam(model.parameters(), lr=lr)\n",
    "\n",
    "# for step in trange(1):\n",
    "#     for x, y in tqdm(train_loader, leave = False):\n",
    "#       x1 = x\n",
    "#       x0 = torch.randn_like(x1)\n",
    "#       loss, logs = CGM_loss(model, x0, x1, sym_weight=1e-1, eig_weight=1e-1)\n",
    "#       loss.backward()\n",
    "#       optimizer.step()\n",
    "#       optimizer.zero_grad()\n",
    "#       add_sgmcmc_noise(model, lr=lr, noise_scale=1.0)\n",
    "\n",
    "# #   if step % 100 == 0:\n",
    "# #     print(f\"[{step}] Loss: {loss.item():.4f} | FM: {logs['fm_loss']:.4f} | Reg: {logs['reg_penalty']:.4f}\")\n",
    "\n",
    "# # print(f\"[{step}] Loss: {loss.item():.4f} | FM: {logs['fm_loss']:.4f} | Reg: {logs['reg_penalty']:.4f}\")"
   ]
  },
  {
   "cell_type": "code",
   "execution_count": null,
   "id": "747b063b-0e8b-4fb3-965d-71767b272728",
   "metadata": {},
   "outputs": [],
   "source": []
  },
  {
   "cell_type": "code",
   "execution_count": 268,
   "id": "c2309aff-0216-44ec-9e02-081527dae449",
   "metadata": {},
   "outputs": [],
   "source": [
    "import torch\n",
    "import torch.nn as nn\n",
    "import torch.fft\n",
    "\n",
    "class LowFreqSpectralVelocityField(nn.Module):\n",
    "    def __init__(self, img_shape, time_embed_dim=16, num_modes=(8, 8), hidden_dim=128):\n",
    "        \"\"\"\n",
    "        img_shape: (C, H, W)   -- shape of the output velocity field\n",
    "        time_embed_dim: int    -- size of time embedding\n",
    "        num_modes: (mH, mW)    -- number of retained Fourier modes in each spatial dimension\n",
    "        hidden_dim: int        -- hidden layer size for MLP\n",
    "        \"\"\"\n",
    "        super().__init__()\n",
    "        self.C, self.H, self.W = img_shape\n",
    "        self.mH, self.mW = num_modes\n",
    "        self.time_embed_dim = time_embed_dim\n",
    "\n",
    "        # Precompute frequencies for time embedding\n",
    "        freqs = torch.linspace(1.0, 10.0, time_embed_dim)\n",
    "        self.register_buffer(\"freqs\", freqs)\n",
    "\n",
    "        # MLP outputs compact spectral coefficients: \n",
    "        # (C, mH, mW//2+1) complex coefficients → real+imag parts separately\n",
    "        coeffs_dim = self.C * self.mH * (self.mW//2 + 1) * 2  # 2 for real+imag\n",
    "\n",
    "        self.mlp = nn.Sequential(\n",
    "            nn.Linear(time_embed_dim + self.C, hidden_dim),\n",
    "            nn.ReLU(),\n",
    "            nn.Linear(hidden_dim, hidden_dim),\n",
    "            nn.ReLU(),\n",
    "            nn.Linear(hidden_dim, coeffs_dim)\n",
    "        )\n",
    "\n",
    "    def time_embed(self, t):\n",
    "        \"\"\"t: [B, 1] → [B, time_embed_dim]\"\"\"\n",
    "        return torch.sin(t * self.freqs)\n",
    "\n",
    "    def forward(self, z, t):\n",
    "        \"\"\"\n",
    "        z: [B, C] white noise vector (per channel amplitude seed)\n",
    "        t: [B, 1] scalar time\n",
    "        Returns: [B, C, H, W] velocity field\n",
    "        \"\"\"\n",
    "        B = z.shape[0]\n",
    "        t_emb = self.time_embed(t)              # [B, time_embed_dim]\n",
    "\n",
    "        print(z.shape, t_emb.shape)\n",
    "        z = image_to_compact_spectrum(z, (self.mH, self.mW))\n",
    "        inp = torch.cat([z, t_emb], dim=-1)     # [B, C + time_embed_dim]\n",
    "\n",
    "        # Get spectral coefficients (real + imag flattened)\n",
    "        coeffs = self.mlp(inp)                  # [B, coeffs_dim]\n",
    "        coeffs = coeffs.view(B, self.C, self.mH, self.mW//2 + 1, 2)\n",
    "\n",
    "        # Pack into complex tensor for irfft\n",
    "        coeffs_complex = torch.complex(coeffs[..., 0], coeffs[..., 1])  # [B, C, mH, mW//2+1]\n",
    "\n",
    "        # Zero-pad to full H, W spectrum\n",
    "        full_spec = torch.zeros(B, self.C, self.H, self.W//2 + 1, dtype=torch.complex64, device=z.device)\n",
    "        full_spec[:, :, :self.mH, :self.mW//2 + 1] = coeffs_complex\n",
    "\n",
    "        # Inverse real FFT to spatial domain\n",
    "        vel_field = torch.fft.irfft2(full_spec, s=(self.H, self.W))  # [B, C, H, W]\n",
    "\n",
    "        return vel_field\n",
    "\n",
    "\n",
    "def image_to_compact_spectrum(x, num_modes):\n",
    "    \"\"\"\n",
    "    Convert image tensor to compact Fourier coefficients.\n",
    "    x: [B, C, H, W]\n",
    "    num_modes: (mH, mW)\n",
    "    Returns: [B, C, mH, mW//2+1, 2] real+imag\n",
    "    \"\"\"\n",
    "    b, c = x.shape[0:2]\n",
    "    mH, mW = num_modes\n",
    "    spec = torch.fft.rfft2(x)  # [B, C, H, W//2+1], complex\n",
    "    compact = spec[:, :, :mH, :mW//2 + 1]\n",
    "    return torch.stack([compact.real, compact.imag], dim=-1).reshape(b, -1)"
   ]
  },
  {
   "cell_type": "code",
   "execution_count": 269,
   "id": "9d43207f-fa89-48fc-8b7a-3d0e39b5821c",
   "metadata": {},
   "outputs": [],
   "source": [
    "def conv_flow_matching_loss(model, x0, x1):\n",
    "    \"\"\"\n",
    "    x0, x1: [B, d]   -- samples from conditional marginal\n",
    "    y:     [B, c]   -- conditioning variable\n",
    "    \"\"\"\n",
    "    n, c, h, w = x0.shape\n",
    "    t = torch.rand(n, 1, device=x0.device)\n",
    "    t_conv = t[:,:,None,None]\n",
    "    x_t = (1 - t_conv) * x0 + t_conv * x1\n",
    "    \n",
    "    v_target = x1 - x0\n",
    "    # x_t = torch.fft.fft2(x_t, norm = 'ortho')\n",
    "    # print(x_t.shape)\n",
    "    v_pred = model(x_t, t)\n",
    "    return F.mse_loss(v_pred, v_target)"
   ]
  },
  {
   "cell_type": "code",
   "execution_count": 270,
   "id": "7a51ce1b-a793-4aae-b209-0a4949a7c2e8",
   "metadata": {},
   "outputs": [],
   "source": [
    "x1 = x.cuda()\n",
    "x0 = torch.randn_like(x1).cuda()"
   ]
  },
  {
   "cell_type": "code",
   "execution_count": 271,
   "id": "8f8a945f-7eb3-471b-8752-59feab65d0f0",
   "metadata": {},
   "outputs": [
    {
     "data": {
      "text/plain": [
       "torch.Size([64, 48])"
      ]
     },
     "execution_count": 271,
     "metadata": {},
     "output_type": "execute_result"
    }
   ],
   "source": [
    "image_to_compact_spectrum(x1 - x0, (6, 6)).shape"
   ]
  },
  {
   "cell_type": "code",
   "execution_count": 272,
   "id": "35ae9f60-2403-48e2-b201-0e73f6047906",
   "metadata": {},
   "outputs": [],
   "source": [
    "model = LowFreqSpectralVelocityField(img_shape=(1, 28, 28), time_embed_dim=16, num_modes=(8, 8), hidden_dim=128)\n",
    "model = model.cuda()"
   ]
  },
  {
   "cell_type": "code",
   "execution_count": 273,
   "id": "97dba9db-60eb-4853-96cb-975961b5c3df",
   "metadata": {},
   "outputs": [
    {
     "name": "stdout",
     "output_type": "stream",
     "text": [
      "torch.Size([64, 1, 28, 28]) torch.Size([64, 16])\n"
     ]
    },
    {
     "ename": "RuntimeError",
     "evalue": "mat1 and mat2 shapes cannot be multiplied (64x96 and 17x128)",
     "output_type": "error",
     "traceback": [
      "\u001b[0;31m---------------------------------------------------------------------------\u001b[0m",
      "\u001b[0;31mRuntimeError\u001b[0m                              Traceback (most recent call last)",
      "Cell \u001b[0;32mIn[273], line 1\u001b[0m\n\u001b[0;32m----> 1\u001b[0m \u001b[43mconv_flow_matching_loss\u001b[49m\u001b[43m(\u001b[49m\u001b[43mmodel\u001b[49m\u001b[43m,\u001b[49m\u001b[43m \u001b[49m\u001b[43mx0\u001b[49m\u001b[43m,\u001b[49m\u001b[43m \u001b[49m\u001b[43mx1\u001b[49m\u001b[43m)\u001b[49m\n",
      "Cell \u001b[0;32mIn[269], line 14\u001b[0m, in \u001b[0;36mconv_flow_matching_loss\u001b[0;34m(model, x0, x1)\u001b[0m\n\u001b[1;32m     11\u001b[0m v_target \u001b[38;5;241m=\u001b[39m x1 \u001b[38;5;241m-\u001b[39m x0\n\u001b[1;32m     12\u001b[0m \u001b[38;5;66;03m# x_t = torch.fft.fft2(x_t, norm = 'ortho')\u001b[39;00m\n\u001b[1;32m     13\u001b[0m \u001b[38;5;66;03m# print(x_t.shape)\u001b[39;00m\n\u001b[0;32m---> 14\u001b[0m v_pred \u001b[38;5;241m=\u001b[39m \u001b[43mmodel\u001b[49m\u001b[43m(\u001b[49m\u001b[43mx_t\u001b[49m\u001b[43m,\u001b[49m\u001b[43m \u001b[49m\u001b[43mt\u001b[49m\u001b[43m)\u001b[49m\n\u001b[1;32m     15\u001b[0m \u001b[38;5;28;01mreturn\u001b[39;00m F\u001b[38;5;241m.\u001b[39mmse_loss(v_pred, v_target)\n",
      "File \u001b[0;32m~/climate/lib/python3.12/site-packages/torch/nn/modules/module.py:1739\u001b[0m, in \u001b[0;36mModule._wrapped_call_impl\u001b[0;34m(self, *args, **kwargs)\u001b[0m\n\u001b[1;32m   1737\u001b[0m     \u001b[38;5;28;01mreturn\u001b[39;00m \u001b[38;5;28mself\u001b[39m\u001b[38;5;241m.\u001b[39m_compiled_call_impl(\u001b[38;5;241m*\u001b[39margs, \u001b[38;5;241m*\u001b[39m\u001b[38;5;241m*\u001b[39mkwargs)  \u001b[38;5;66;03m# type: ignore[misc]\u001b[39;00m\n\u001b[1;32m   1738\u001b[0m \u001b[38;5;28;01melse\u001b[39;00m:\n\u001b[0;32m-> 1739\u001b[0m     \u001b[38;5;28;01mreturn\u001b[39;00m \u001b[38;5;28;43mself\u001b[39;49m\u001b[38;5;241;43m.\u001b[39;49m\u001b[43m_call_impl\u001b[49m\u001b[43m(\u001b[49m\u001b[38;5;241;43m*\u001b[39;49m\u001b[43margs\u001b[49m\u001b[43m,\u001b[49m\u001b[43m \u001b[49m\u001b[38;5;241;43m*\u001b[39;49m\u001b[38;5;241;43m*\u001b[39;49m\u001b[43mkwargs\u001b[49m\u001b[43m)\u001b[49m\n",
      "File \u001b[0;32m~/climate/lib/python3.12/site-packages/torch/nn/modules/module.py:1750\u001b[0m, in \u001b[0;36mModule._call_impl\u001b[0;34m(self, *args, **kwargs)\u001b[0m\n\u001b[1;32m   1745\u001b[0m \u001b[38;5;66;03m# If we don't have any hooks, we want to skip the rest of the logic in\u001b[39;00m\n\u001b[1;32m   1746\u001b[0m \u001b[38;5;66;03m# this function, and just call forward.\u001b[39;00m\n\u001b[1;32m   1747\u001b[0m \u001b[38;5;28;01mif\u001b[39;00m \u001b[38;5;129;01mnot\u001b[39;00m (\u001b[38;5;28mself\u001b[39m\u001b[38;5;241m.\u001b[39m_backward_hooks \u001b[38;5;129;01mor\u001b[39;00m \u001b[38;5;28mself\u001b[39m\u001b[38;5;241m.\u001b[39m_backward_pre_hooks \u001b[38;5;129;01mor\u001b[39;00m \u001b[38;5;28mself\u001b[39m\u001b[38;5;241m.\u001b[39m_forward_hooks \u001b[38;5;129;01mor\u001b[39;00m \u001b[38;5;28mself\u001b[39m\u001b[38;5;241m.\u001b[39m_forward_pre_hooks\n\u001b[1;32m   1748\u001b[0m         \u001b[38;5;129;01mor\u001b[39;00m _global_backward_pre_hooks \u001b[38;5;129;01mor\u001b[39;00m _global_backward_hooks\n\u001b[1;32m   1749\u001b[0m         \u001b[38;5;129;01mor\u001b[39;00m _global_forward_hooks \u001b[38;5;129;01mor\u001b[39;00m _global_forward_pre_hooks):\n\u001b[0;32m-> 1750\u001b[0m     \u001b[38;5;28;01mreturn\u001b[39;00m \u001b[43mforward_call\u001b[49m\u001b[43m(\u001b[49m\u001b[38;5;241;43m*\u001b[39;49m\u001b[43margs\u001b[49m\u001b[43m,\u001b[49m\u001b[43m \u001b[49m\u001b[38;5;241;43m*\u001b[39;49m\u001b[38;5;241;43m*\u001b[39;49m\u001b[43mkwargs\u001b[49m\u001b[43m)\u001b[49m\n\u001b[1;32m   1752\u001b[0m result \u001b[38;5;241m=\u001b[39m \u001b[38;5;28;01mNone\u001b[39;00m\n\u001b[1;32m   1753\u001b[0m called_always_called_hooks \u001b[38;5;241m=\u001b[39m \u001b[38;5;28mset\u001b[39m()\n",
      "Cell \u001b[0;32mIn[268], line 52\u001b[0m, in \u001b[0;36mLowFreqSpectralVelocityField.forward\u001b[0;34m(self, z, t)\u001b[0m\n\u001b[1;32m     49\u001b[0m inp \u001b[38;5;241m=\u001b[39m torch\u001b[38;5;241m.\u001b[39mcat([z, t_emb], dim\u001b[38;5;241m=\u001b[39m\u001b[38;5;241m-\u001b[39m\u001b[38;5;241m1\u001b[39m)     \u001b[38;5;66;03m# [B, C + time_embed_dim]\u001b[39;00m\n\u001b[1;32m     51\u001b[0m \u001b[38;5;66;03m# Get spectral coefficients (real + imag flattened)\u001b[39;00m\n\u001b[0;32m---> 52\u001b[0m coeffs \u001b[38;5;241m=\u001b[39m \u001b[38;5;28;43mself\u001b[39;49m\u001b[38;5;241;43m.\u001b[39;49m\u001b[43mmlp\u001b[49m\u001b[43m(\u001b[49m\u001b[43minp\u001b[49m\u001b[43m)\u001b[49m                  \u001b[38;5;66;03m# [B, coeffs_dim]\u001b[39;00m\n\u001b[1;32m     53\u001b[0m coeffs \u001b[38;5;241m=\u001b[39m coeffs\u001b[38;5;241m.\u001b[39mview(B, \u001b[38;5;28mself\u001b[39m\u001b[38;5;241m.\u001b[39mC, \u001b[38;5;28mself\u001b[39m\u001b[38;5;241m.\u001b[39mmH, \u001b[38;5;28mself\u001b[39m\u001b[38;5;241m.\u001b[39mmW\u001b[38;5;241m/\u001b[39m\u001b[38;5;241m/\u001b[39m\u001b[38;5;241m2\u001b[39m \u001b[38;5;241m+\u001b[39m \u001b[38;5;241m1\u001b[39m, \u001b[38;5;241m2\u001b[39m)\n\u001b[1;32m     55\u001b[0m \u001b[38;5;66;03m# Pack into complex tensor for irfft\u001b[39;00m\n",
      "File \u001b[0;32m~/climate/lib/python3.12/site-packages/torch/nn/modules/module.py:1739\u001b[0m, in \u001b[0;36mModule._wrapped_call_impl\u001b[0;34m(self, *args, **kwargs)\u001b[0m\n\u001b[1;32m   1737\u001b[0m     \u001b[38;5;28;01mreturn\u001b[39;00m \u001b[38;5;28mself\u001b[39m\u001b[38;5;241m.\u001b[39m_compiled_call_impl(\u001b[38;5;241m*\u001b[39margs, \u001b[38;5;241m*\u001b[39m\u001b[38;5;241m*\u001b[39mkwargs)  \u001b[38;5;66;03m# type: ignore[misc]\u001b[39;00m\n\u001b[1;32m   1738\u001b[0m \u001b[38;5;28;01melse\u001b[39;00m:\n\u001b[0;32m-> 1739\u001b[0m     \u001b[38;5;28;01mreturn\u001b[39;00m \u001b[38;5;28;43mself\u001b[39;49m\u001b[38;5;241;43m.\u001b[39;49m\u001b[43m_call_impl\u001b[49m\u001b[43m(\u001b[49m\u001b[38;5;241;43m*\u001b[39;49m\u001b[43margs\u001b[49m\u001b[43m,\u001b[49m\u001b[43m \u001b[49m\u001b[38;5;241;43m*\u001b[39;49m\u001b[38;5;241;43m*\u001b[39;49m\u001b[43mkwargs\u001b[49m\u001b[43m)\u001b[49m\n",
      "File \u001b[0;32m~/climate/lib/python3.12/site-packages/torch/nn/modules/module.py:1750\u001b[0m, in \u001b[0;36mModule._call_impl\u001b[0;34m(self, *args, **kwargs)\u001b[0m\n\u001b[1;32m   1745\u001b[0m \u001b[38;5;66;03m# If we don't have any hooks, we want to skip the rest of the logic in\u001b[39;00m\n\u001b[1;32m   1746\u001b[0m \u001b[38;5;66;03m# this function, and just call forward.\u001b[39;00m\n\u001b[1;32m   1747\u001b[0m \u001b[38;5;28;01mif\u001b[39;00m \u001b[38;5;129;01mnot\u001b[39;00m (\u001b[38;5;28mself\u001b[39m\u001b[38;5;241m.\u001b[39m_backward_hooks \u001b[38;5;129;01mor\u001b[39;00m \u001b[38;5;28mself\u001b[39m\u001b[38;5;241m.\u001b[39m_backward_pre_hooks \u001b[38;5;129;01mor\u001b[39;00m \u001b[38;5;28mself\u001b[39m\u001b[38;5;241m.\u001b[39m_forward_hooks \u001b[38;5;129;01mor\u001b[39;00m \u001b[38;5;28mself\u001b[39m\u001b[38;5;241m.\u001b[39m_forward_pre_hooks\n\u001b[1;32m   1748\u001b[0m         \u001b[38;5;129;01mor\u001b[39;00m _global_backward_pre_hooks \u001b[38;5;129;01mor\u001b[39;00m _global_backward_hooks\n\u001b[1;32m   1749\u001b[0m         \u001b[38;5;129;01mor\u001b[39;00m _global_forward_hooks \u001b[38;5;129;01mor\u001b[39;00m _global_forward_pre_hooks):\n\u001b[0;32m-> 1750\u001b[0m     \u001b[38;5;28;01mreturn\u001b[39;00m \u001b[43mforward_call\u001b[49m\u001b[43m(\u001b[49m\u001b[38;5;241;43m*\u001b[39;49m\u001b[43margs\u001b[49m\u001b[43m,\u001b[49m\u001b[43m \u001b[49m\u001b[38;5;241;43m*\u001b[39;49m\u001b[38;5;241;43m*\u001b[39;49m\u001b[43mkwargs\u001b[49m\u001b[43m)\u001b[49m\n\u001b[1;32m   1752\u001b[0m result \u001b[38;5;241m=\u001b[39m \u001b[38;5;28;01mNone\u001b[39;00m\n\u001b[1;32m   1753\u001b[0m called_always_called_hooks \u001b[38;5;241m=\u001b[39m \u001b[38;5;28mset\u001b[39m()\n",
      "File \u001b[0;32m~/climate/lib/python3.12/site-packages/torch/nn/modules/container.py:250\u001b[0m, in \u001b[0;36mSequential.forward\u001b[0;34m(self, input)\u001b[0m\n\u001b[1;32m    248\u001b[0m \u001b[38;5;28;01mdef\u001b[39;00m\u001b[38;5;250m \u001b[39m\u001b[38;5;21mforward\u001b[39m(\u001b[38;5;28mself\u001b[39m, \u001b[38;5;28minput\u001b[39m):\n\u001b[1;32m    249\u001b[0m     \u001b[38;5;28;01mfor\u001b[39;00m module \u001b[38;5;129;01min\u001b[39;00m \u001b[38;5;28mself\u001b[39m:\n\u001b[0;32m--> 250\u001b[0m         \u001b[38;5;28minput\u001b[39m \u001b[38;5;241m=\u001b[39m \u001b[43mmodule\u001b[49m\u001b[43m(\u001b[49m\u001b[38;5;28;43minput\u001b[39;49m\u001b[43m)\u001b[49m\n\u001b[1;32m    251\u001b[0m     \u001b[38;5;28;01mreturn\u001b[39;00m \u001b[38;5;28minput\u001b[39m\n",
      "File \u001b[0;32m~/climate/lib/python3.12/site-packages/torch/nn/modules/module.py:1739\u001b[0m, in \u001b[0;36mModule._wrapped_call_impl\u001b[0;34m(self, *args, **kwargs)\u001b[0m\n\u001b[1;32m   1737\u001b[0m     \u001b[38;5;28;01mreturn\u001b[39;00m \u001b[38;5;28mself\u001b[39m\u001b[38;5;241m.\u001b[39m_compiled_call_impl(\u001b[38;5;241m*\u001b[39margs, \u001b[38;5;241m*\u001b[39m\u001b[38;5;241m*\u001b[39mkwargs)  \u001b[38;5;66;03m# type: ignore[misc]\u001b[39;00m\n\u001b[1;32m   1738\u001b[0m \u001b[38;5;28;01melse\u001b[39;00m:\n\u001b[0;32m-> 1739\u001b[0m     \u001b[38;5;28;01mreturn\u001b[39;00m \u001b[38;5;28;43mself\u001b[39;49m\u001b[38;5;241;43m.\u001b[39;49m\u001b[43m_call_impl\u001b[49m\u001b[43m(\u001b[49m\u001b[38;5;241;43m*\u001b[39;49m\u001b[43margs\u001b[49m\u001b[43m,\u001b[49m\u001b[43m \u001b[49m\u001b[38;5;241;43m*\u001b[39;49m\u001b[38;5;241;43m*\u001b[39;49m\u001b[43mkwargs\u001b[49m\u001b[43m)\u001b[49m\n",
      "File \u001b[0;32m~/climate/lib/python3.12/site-packages/torch/nn/modules/module.py:1750\u001b[0m, in \u001b[0;36mModule._call_impl\u001b[0;34m(self, *args, **kwargs)\u001b[0m\n\u001b[1;32m   1745\u001b[0m \u001b[38;5;66;03m# If we don't have any hooks, we want to skip the rest of the logic in\u001b[39;00m\n\u001b[1;32m   1746\u001b[0m \u001b[38;5;66;03m# this function, and just call forward.\u001b[39;00m\n\u001b[1;32m   1747\u001b[0m \u001b[38;5;28;01mif\u001b[39;00m \u001b[38;5;129;01mnot\u001b[39;00m (\u001b[38;5;28mself\u001b[39m\u001b[38;5;241m.\u001b[39m_backward_hooks \u001b[38;5;129;01mor\u001b[39;00m \u001b[38;5;28mself\u001b[39m\u001b[38;5;241m.\u001b[39m_backward_pre_hooks \u001b[38;5;129;01mor\u001b[39;00m \u001b[38;5;28mself\u001b[39m\u001b[38;5;241m.\u001b[39m_forward_hooks \u001b[38;5;129;01mor\u001b[39;00m \u001b[38;5;28mself\u001b[39m\u001b[38;5;241m.\u001b[39m_forward_pre_hooks\n\u001b[1;32m   1748\u001b[0m         \u001b[38;5;129;01mor\u001b[39;00m _global_backward_pre_hooks \u001b[38;5;129;01mor\u001b[39;00m _global_backward_hooks\n\u001b[1;32m   1749\u001b[0m         \u001b[38;5;129;01mor\u001b[39;00m _global_forward_hooks \u001b[38;5;129;01mor\u001b[39;00m _global_forward_pre_hooks):\n\u001b[0;32m-> 1750\u001b[0m     \u001b[38;5;28;01mreturn\u001b[39;00m \u001b[43mforward_call\u001b[49m\u001b[43m(\u001b[49m\u001b[38;5;241;43m*\u001b[39;49m\u001b[43margs\u001b[49m\u001b[43m,\u001b[49m\u001b[43m \u001b[49m\u001b[38;5;241;43m*\u001b[39;49m\u001b[38;5;241;43m*\u001b[39;49m\u001b[43mkwargs\u001b[49m\u001b[43m)\u001b[49m\n\u001b[1;32m   1752\u001b[0m result \u001b[38;5;241m=\u001b[39m \u001b[38;5;28;01mNone\u001b[39;00m\n\u001b[1;32m   1753\u001b[0m called_always_called_hooks \u001b[38;5;241m=\u001b[39m \u001b[38;5;28mset\u001b[39m()\n",
      "File \u001b[0;32m~/climate/lib/python3.12/site-packages/torch/nn/modules/linear.py:125\u001b[0m, in \u001b[0;36mLinear.forward\u001b[0;34m(self, input)\u001b[0m\n\u001b[1;32m    124\u001b[0m \u001b[38;5;28;01mdef\u001b[39;00m\u001b[38;5;250m \u001b[39m\u001b[38;5;21mforward\u001b[39m(\u001b[38;5;28mself\u001b[39m, \u001b[38;5;28minput\u001b[39m: Tensor) \u001b[38;5;241m-\u001b[39m\u001b[38;5;241m>\u001b[39m Tensor:\n\u001b[0;32m--> 125\u001b[0m     \u001b[38;5;28;01mreturn\u001b[39;00m \u001b[43mF\u001b[49m\u001b[38;5;241;43m.\u001b[39;49m\u001b[43mlinear\u001b[49m\u001b[43m(\u001b[49m\u001b[38;5;28;43minput\u001b[39;49m\u001b[43m,\u001b[49m\u001b[43m \u001b[49m\u001b[38;5;28;43mself\u001b[39;49m\u001b[38;5;241;43m.\u001b[39;49m\u001b[43mweight\u001b[49m\u001b[43m,\u001b[49m\u001b[43m \u001b[49m\u001b[38;5;28;43mself\u001b[39;49m\u001b[38;5;241;43m.\u001b[39;49m\u001b[43mbias\u001b[49m\u001b[43m)\u001b[49m\n",
      "\u001b[0;31mRuntimeError\u001b[0m: mat1 and mat2 shapes cannot be multiplied (64x96 and 17x128)"
     ]
    }
   ],
   "source": [
    "conv_flow_matching_loss(model, x0, x1)"
   ]
  },
  {
   "cell_type": "code",
   "execution_count": null,
   "id": "ddc77f9a-e20c-448c-9457-8f290aea9deb",
   "metadata": {},
   "outputs": [],
   "source": []
  },
  {
   "cell_type": "code",
   "execution_count": null,
   "id": "062096fd-8cab-48bb-9dad-f868cca291e2",
   "metadata": {},
   "outputs": [],
   "source": []
  },
  {
   "cell_type": "code",
   "execution_count": 228,
   "id": "fd7b07c4-bcf9-4beb-9d66-ac6c38b4c041",
   "metadata": {},
   "outputs": [
    {
     "data": {
      "application/vnd.jupyter.widget-view+json": {
       "model_id": "5c9871e81aa04385b83d1ee0bdbfee11",
       "version_major": 2,
       "version_minor": 0
      },
      "text/plain": [
       "  0%|          | 0/5 [00:00<?, ?it/s]"
      ]
     },
     "metadata": {},
     "output_type": "display_data"
    },
    {
     "data": {
      "application/vnd.jupyter.widget-view+json": {
       "model_id": "64e68a36d6af4510a4327f0787ddb7cd",
       "version_major": 2,
       "version_minor": 0
      },
      "text/plain": [
       "  0%|          | 0/938 [00:00<?, ?it/s]"
      ]
     },
     "metadata": {},
     "output_type": "display_data"
    },
    {
     "name": "stdout",
     "output_type": "stream",
     "text": [
      "torch.Size([64, 1, 28, 28])\n"
     ]
    },
    {
     "ename": "RuntimeError",
     "evalue": "Tensors must have same number of dimensions: got 4 and 2",
     "output_type": "error",
     "traceback": [
      "\u001b[0;31m---------------------------------------------------------------------------\u001b[0m",
      "\u001b[0;31mRuntimeError\u001b[0m                              Traceback (most recent call last)",
      "Cell \u001b[0;32mIn[228], line 16\u001b[0m\n\u001b[1;32m     14\u001b[0m x1 \u001b[38;5;241m=\u001b[39m x\u001b[38;5;241m.\u001b[39mcuda()\n\u001b[1;32m     15\u001b[0m x0 \u001b[38;5;241m=\u001b[39m torch\u001b[38;5;241m.\u001b[39mrandn_like(x1)\u001b[38;5;241m.\u001b[39mcuda()\n\u001b[0;32m---> 16\u001b[0m loss \u001b[38;5;241m=\u001b[39m \u001b[43mconv_flow_matching_loss\u001b[49m\u001b[43m(\u001b[49m\u001b[43mmodel\u001b[49m\u001b[43m,\u001b[49m\u001b[43m \u001b[49m\u001b[43mx0\u001b[49m\u001b[43m,\u001b[49m\u001b[43m \u001b[49m\u001b[43mx1\u001b[49m\u001b[43m)\u001b[49m\n\u001b[1;32m     17\u001b[0m loss\u001b[38;5;241m.\u001b[39mbackward()\n\u001b[1;32m     18\u001b[0m optimizer\u001b[38;5;241m.\u001b[39mstep()\n",
      "Cell \u001b[0;32mIn[227], line 14\u001b[0m, in \u001b[0;36mconv_flow_matching_loss\u001b[0;34m(model, x0, x1)\u001b[0m\n\u001b[1;32m     12\u001b[0m x_t \u001b[38;5;241m=\u001b[39m torch\u001b[38;5;241m.\u001b[39mfft\u001b[38;5;241m.\u001b[39mfft2(x_t, norm \u001b[38;5;241m=\u001b[39m \u001b[38;5;124m'\u001b[39m\u001b[38;5;124mortho\u001b[39m\u001b[38;5;124m'\u001b[39m)\n\u001b[1;32m     13\u001b[0m \u001b[38;5;28mprint\u001b[39m(x_t\u001b[38;5;241m.\u001b[39mshape)\n\u001b[0;32m---> 14\u001b[0m v_pred \u001b[38;5;241m=\u001b[39m \u001b[43mmodel\u001b[49m\u001b[43m(\u001b[49m\u001b[43mx_t\u001b[49m\u001b[43m,\u001b[49m\u001b[43m \u001b[49m\u001b[43mt\u001b[49m\u001b[43m)\u001b[49m\n\u001b[1;32m     15\u001b[0m \u001b[38;5;28;01mreturn\u001b[39;00m F\u001b[38;5;241m.\u001b[39mmse_loss(v_pred, v_target)\n",
      "File \u001b[0;32m~/climate/lib/python3.12/site-packages/torch/nn/modules/module.py:1739\u001b[0m, in \u001b[0;36mModule._wrapped_call_impl\u001b[0;34m(self, *args, **kwargs)\u001b[0m\n\u001b[1;32m   1737\u001b[0m     \u001b[38;5;28;01mreturn\u001b[39;00m \u001b[38;5;28mself\u001b[39m\u001b[38;5;241m.\u001b[39m_compiled_call_impl(\u001b[38;5;241m*\u001b[39margs, \u001b[38;5;241m*\u001b[39m\u001b[38;5;241m*\u001b[39mkwargs)  \u001b[38;5;66;03m# type: ignore[misc]\u001b[39;00m\n\u001b[1;32m   1738\u001b[0m \u001b[38;5;28;01melse\u001b[39;00m:\n\u001b[0;32m-> 1739\u001b[0m     \u001b[38;5;28;01mreturn\u001b[39;00m \u001b[38;5;28;43mself\u001b[39;49m\u001b[38;5;241;43m.\u001b[39;49m\u001b[43m_call_impl\u001b[49m\u001b[43m(\u001b[49m\u001b[38;5;241;43m*\u001b[39;49m\u001b[43margs\u001b[49m\u001b[43m,\u001b[49m\u001b[43m \u001b[49m\u001b[38;5;241;43m*\u001b[39;49m\u001b[38;5;241;43m*\u001b[39;49m\u001b[43mkwargs\u001b[49m\u001b[43m)\u001b[49m\n",
      "File \u001b[0;32m~/climate/lib/python3.12/site-packages/torch/nn/modules/module.py:1750\u001b[0m, in \u001b[0;36mModule._call_impl\u001b[0;34m(self, *args, **kwargs)\u001b[0m\n\u001b[1;32m   1745\u001b[0m \u001b[38;5;66;03m# If we don't have any hooks, we want to skip the rest of the logic in\u001b[39;00m\n\u001b[1;32m   1746\u001b[0m \u001b[38;5;66;03m# this function, and just call forward.\u001b[39;00m\n\u001b[1;32m   1747\u001b[0m \u001b[38;5;28;01mif\u001b[39;00m \u001b[38;5;129;01mnot\u001b[39;00m (\u001b[38;5;28mself\u001b[39m\u001b[38;5;241m.\u001b[39m_backward_hooks \u001b[38;5;129;01mor\u001b[39;00m \u001b[38;5;28mself\u001b[39m\u001b[38;5;241m.\u001b[39m_backward_pre_hooks \u001b[38;5;129;01mor\u001b[39;00m \u001b[38;5;28mself\u001b[39m\u001b[38;5;241m.\u001b[39m_forward_hooks \u001b[38;5;129;01mor\u001b[39;00m \u001b[38;5;28mself\u001b[39m\u001b[38;5;241m.\u001b[39m_forward_pre_hooks\n\u001b[1;32m   1748\u001b[0m         \u001b[38;5;129;01mor\u001b[39;00m _global_backward_pre_hooks \u001b[38;5;129;01mor\u001b[39;00m _global_backward_hooks\n\u001b[1;32m   1749\u001b[0m         \u001b[38;5;129;01mor\u001b[39;00m _global_forward_hooks \u001b[38;5;129;01mor\u001b[39;00m _global_forward_pre_hooks):\n\u001b[0;32m-> 1750\u001b[0m     \u001b[38;5;28;01mreturn\u001b[39;00m \u001b[43mforward_call\u001b[49m\u001b[43m(\u001b[49m\u001b[38;5;241;43m*\u001b[39;49m\u001b[43margs\u001b[49m\u001b[43m,\u001b[49m\u001b[43m \u001b[49m\u001b[38;5;241;43m*\u001b[39;49m\u001b[38;5;241;43m*\u001b[39;49m\u001b[43mkwargs\u001b[49m\u001b[43m)\u001b[49m\n\u001b[1;32m   1752\u001b[0m result \u001b[38;5;241m=\u001b[39m \u001b[38;5;28;01mNone\u001b[39;00m\n\u001b[1;32m   1753\u001b[0m called_always_called_hooks \u001b[38;5;241m=\u001b[39m \u001b[38;5;28mset\u001b[39m()\n",
      "Cell \u001b[0;32mIn[213], line 76\u001b[0m, in \u001b[0;36mLowFreqSpectralGeneratorHermitian.forward\u001b[0;34m(self, z, t)\u001b[0m\n\u001b[1;32m     73\u001b[0m t_emb \u001b[38;5;241m=\u001b[39m \u001b[38;5;28mself\u001b[39m\u001b[38;5;241m.\u001b[39mtime_mlp(t_sin)  \u001b[38;5;66;03m# [B, time_mlp_dim]\u001b[39;00m\n\u001b[1;32m     75\u001b[0m \u001b[38;5;66;03m# --- main MLP input ---\u001b[39;00m\n\u001b[0;32m---> 76\u001b[0m mlp_in \u001b[38;5;241m=\u001b[39m \u001b[43mtorch\u001b[49m\u001b[38;5;241;43m.\u001b[39;49m\u001b[43mcat\u001b[49m\u001b[43m(\u001b[49m\u001b[43m[\u001b[49m\u001b[43mz\u001b[49m\u001b[43m,\u001b[49m\u001b[43m \u001b[49m\u001b[43mt_emb\u001b[49m\u001b[43m]\u001b[49m\u001b[43m,\u001b[49m\u001b[43m \u001b[49m\u001b[43mdim\u001b[49m\u001b[38;5;241;43m=\u001b[39;49m\u001b[38;5;241;43m-\u001b[39;49m\u001b[38;5;241;43m1\u001b[39;49m\u001b[43m)\u001b[49m  \u001b[38;5;66;03m# [B, latent_dim + time_mlp_dim]\u001b[39;00m\n\u001b[1;32m     77\u001b[0m out \u001b[38;5;241m=\u001b[39m \u001b[38;5;28mself\u001b[39m\u001b[38;5;241m.\u001b[39mmlp(mlp_in)  \u001b[38;5;66;03m# [B, out_dim]\u001b[39;00m\n\u001b[1;32m     79\u001b[0m \u001b[38;5;66;03m# reshape into complex low-frequency block\u001b[39;00m\n",
      "\u001b[0;31mRuntimeError\u001b[0m: Tensors must have same number of dimensions: got 4 and 2"
     ]
    }
   ],
   "source": [
    "lr = 1e-3\n",
    "# model = FNOVelocityField(in_channels=1, modes1=16, modes2=16)\n",
    "\n",
    "latent_dim = 128\n",
    "model = LowFreqSpectralGeneratorHermitian(latent_dim=latent_dim, img_size=(28, 28),\n",
    "                                              channels=1, modes=(6, 6), hidden_dim=512)\n",
    "\n",
    "model = model.cuda()\n",
    "optimizer = torch.optim.Adam(model.parameters(), lr=lr)\n",
    "\n",
    "k = 0\n",
    "for step in trange(5):\n",
    "    for x, y in tqdm(train_loader, leave = False):\n",
    "        x1 = x.cuda()\n",
    "        x0 = torch.randn_like(x1).cuda()\n",
    "        loss = conv_flow_matching_loss(model, x0, x1)\n",
    "        loss.backward()\n",
    "        optimizer.step()\n",
    "        optimizer.zero_grad()\n",
    "\n",
    "        k += 1\n",
    "        if k % 500 == 0: \n",
    "            print(loss.detach())"
   ]
  },
  {
   "cell_type": "code",
   "execution_count": null,
   "id": "4475cba8-41d5-483f-bfc3-96c77070761d",
   "metadata": {},
   "outputs": [],
   "source": []
  },
  {
   "cell_type": "code",
   "execution_count": null,
   "id": "87b06971-54d9-4fc0-b41d-6ebd6793b627",
   "metadata": {},
   "outputs": [],
   "source": []
  },
  {
   "cell_type": "code",
   "execution_count": 291,
   "id": "f4fe13a0-f1ed-4b62-928a-1b3be9f68712",
   "metadata": {},
   "outputs": [
    {
     "name": "stdout",
     "output_type": "stream",
     "text": [
      "torch.Size([64, 124]) 180 64\n"
     ]
    },
    {
     "ename": "RuntimeError",
     "evalue": "mat1 and mat2 shapes cannot be multiplied (64x124 and 244x512)",
     "output_type": "error",
     "traceback": [
      "\u001b[0;31m---------------------------------------------------------------------------\u001b[0m",
      "\u001b[0;31mRuntimeError\u001b[0m                              Traceback (most recent call last)",
      "Cell \u001b[0;32mIn[291], line 211\u001b[0m\n\u001b[1;32m    207\u001b[0m model \u001b[38;5;241m=\u001b[39m SpectralVelocityEstimator(img_shape\u001b[38;5;241m=\u001b[39m(C, H, W), modes\u001b[38;5;241m=\u001b[39mmodes,\n\u001b[1;32m    208\u001b[0m                                   time_embed_dim\u001b[38;5;241m=\u001b[39m\u001b[38;5;241m16\u001b[39m, time_mlp_dim\u001b[38;5;241m=\u001b[39m\u001b[38;5;241m64\u001b[39m, hidden_dim\u001b[38;5;241m=\u001b[39m\u001b[38;5;241m512\u001b[39m)\n\u001b[1;32m    210\u001b[0m \u001b[38;5;66;03m# Train\u001b[39;00m\n\u001b[0;32m--> 211\u001b[0m model \u001b[38;5;241m=\u001b[39m \u001b[43mtrain_cfm_spectral\u001b[49m\u001b[43m(\u001b[49m\u001b[43mmodel\u001b[49m\u001b[43m,\u001b[49m\u001b[43m \u001b[49m\u001b[43mloader\u001b[49m\u001b[43m,\u001b[49m\u001b[43m \u001b[49m\u001b[43mdevice\u001b[49m\u001b[43m,\u001b[49m\u001b[43m \u001b[49m\u001b[43mepochs\u001b[49m\u001b[38;5;241;43m=\u001b[39;49m\u001b[38;5;241;43m3\u001b[39;49m\u001b[43m,\u001b[49m\u001b[43m \u001b[49m\u001b[43mlr\u001b[49m\u001b[38;5;241;43m=\u001b[39;49m\u001b[38;5;241;43m5e-4\u001b[39;49m\u001b[43m)\u001b[49m\n",
      "Cell \u001b[0;32mIn[291], line 176\u001b[0m, in \u001b[0;36mtrain_cfm_spectral\u001b[0;34m(model, dataloader, device, epochs, lr, s_fn, s_dot_fn)\u001b[0m\n\u001b[1;32m    173\u001b[0m v_star \u001b[38;5;241m=\u001b[39m s_dot\u001b[38;5;241m.\u001b[39mview(B, \u001b[38;5;241m1\u001b[39m, \u001b[38;5;241m1\u001b[39m, \u001b[38;5;241m1\u001b[39m) \u001b[38;5;241m*\u001b[39m (x1 \u001b[38;5;241m-\u001b[39m x0)    \u001b[38;5;66;03m# [B,C,H,W]\u001b[39;00m\n\u001b[1;32m    175\u001b[0m \u001b[38;5;66;03m# model predicts v_hat (spatial) from x_t and t (via spectral internals)\u001b[39;00m\n\u001b[0;32m--> 176\u001b[0m v_hat, pred_packed \u001b[38;5;241m=\u001b[39m \u001b[43mmodel\u001b[49m\u001b[43m(\u001b[49m\u001b[43mx_t\u001b[49m\u001b[43m,\u001b[49m\u001b[43m \u001b[49m\u001b[43mt\u001b[49m\u001b[43m)\u001b[49m\n\u001b[1;32m    178\u001b[0m loss \u001b[38;5;241m=\u001b[39m mse(v_hat, v_star)\n\u001b[1;32m    180\u001b[0m opt\u001b[38;5;241m.\u001b[39mzero_grad()\n",
      "File \u001b[0;32m~/climate/lib/python3.12/site-packages/torch/nn/modules/module.py:1739\u001b[0m, in \u001b[0;36mModule._wrapped_call_impl\u001b[0;34m(self, *args, **kwargs)\u001b[0m\n\u001b[1;32m   1737\u001b[0m     \u001b[38;5;28;01mreturn\u001b[39;00m \u001b[38;5;28mself\u001b[39m\u001b[38;5;241m.\u001b[39m_compiled_call_impl(\u001b[38;5;241m*\u001b[39margs, \u001b[38;5;241m*\u001b[39m\u001b[38;5;241m*\u001b[39mkwargs)  \u001b[38;5;66;03m# type: ignore[misc]\u001b[39;00m\n\u001b[1;32m   1738\u001b[0m \u001b[38;5;28;01melse\u001b[39;00m:\n\u001b[0;32m-> 1739\u001b[0m     \u001b[38;5;28;01mreturn\u001b[39;00m \u001b[38;5;28;43mself\u001b[39;49m\u001b[38;5;241;43m.\u001b[39;49m\u001b[43m_call_impl\u001b[49m\u001b[43m(\u001b[49m\u001b[38;5;241;43m*\u001b[39;49m\u001b[43margs\u001b[49m\u001b[43m,\u001b[49m\u001b[43m \u001b[49m\u001b[38;5;241;43m*\u001b[39;49m\u001b[38;5;241;43m*\u001b[39;49m\u001b[43mkwargs\u001b[49m\u001b[43m)\u001b[49m\n",
      "File \u001b[0;32m~/climate/lib/python3.12/site-packages/torch/nn/modules/module.py:1750\u001b[0m, in \u001b[0;36mModule._call_impl\u001b[0;34m(self, *args, **kwargs)\u001b[0m\n\u001b[1;32m   1745\u001b[0m \u001b[38;5;66;03m# If we don't have any hooks, we want to skip the rest of the logic in\u001b[39;00m\n\u001b[1;32m   1746\u001b[0m \u001b[38;5;66;03m# this function, and just call forward.\u001b[39;00m\n\u001b[1;32m   1747\u001b[0m \u001b[38;5;28;01mif\u001b[39;00m \u001b[38;5;129;01mnot\u001b[39;00m (\u001b[38;5;28mself\u001b[39m\u001b[38;5;241m.\u001b[39m_backward_hooks \u001b[38;5;129;01mor\u001b[39;00m \u001b[38;5;28mself\u001b[39m\u001b[38;5;241m.\u001b[39m_backward_pre_hooks \u001b[38;5;129;01mor\u001b[39;00m \u001b[38;5;28mself\u001b[39m\u001b[38;5;241m.\u001b[39m_forward_hooks \u001b[38;5;129;01mor\u001b[39;00m \u001b[38;5;28mself\u001b[39m\u001b[38;5;241m.\u001b[39m_forward_pre_hooks\n\u001b[1;32m   1748\u001b[0m         \u001b[38;5;129;01mor\u001b[39;00m _global_backward_pre_hooks \u001b[38;5;129;01mor\u001b[39;00m _global_backward_hooks\n\u001b[1;32m   1749\u001b[0m         \u001b[38;5;129;01mor\u001b[39;00m _global_forward_hooks \u001b[38;5;129;01mor\u001b[39;00m _global_forward_pre_hooks):\n\u001b[0;32m-> 1750\u001b[0m     \u001b[38;5;28;01mreturn\u001b[39;00m \u001b[43mforward_call\u001b[49m\u001b[43m(\u001b[49m\u001b[38;5;241;43m*\u001b[39;49m\u001b[43margs\u001b[49m\u001b[43m,\u001b[49m\u001b[43m \u001b[49m\u001b[38;5;241;43m*\u001b[39;49m\u001b[38;5;241;43m*\u001b[39;49m\u001b[43mkwargs\u001b[49m\u001b[43m)\u001b[49m\n\u001b[1;32m   1752\u001b[0m result \u001b[38;5;241m=\u001b[39m \u001b[38;5;28;01mNone\u001b[39;00m\n\u001b[1;32m   1753\u001b[0m called_always_called_hooks \u001b[38;5;241m=\u001b[39m \u001b[38;5;28mset\u001b[39m()\n",
      "Cell \u001b[0;32mIn[291], line 122\u001b[0m, in \u001b[0;36mSpectralVelocityEstimator.forward\u001b[0;34m(self, x_t_image, t)\u001b[0m\n\u001b[1;32m    119\u001b[0m \u001b[38;5;28mprint\u001b[39m(mlp_in\u001b[38;5;241m.\u001b[39mshape, \u001b[38;5;28mself\u001b[39m\u001b[38;5;241m.\u001b[39min_spec_dim, \u001b[38;5;28mself\u001b[39m\u001b[38;5;241m.\u001b[39mtime_mlp_dim)\n\u001b[1;32m    121\u001b[0m \u001b[38;5;66;03m# 3) Predict compact spectral velocity coeffs (real+imag)\u001b[39;00m\n\u001b[0;32m--> 122\u001b[0m out \u001b[38;5;241m=\u001b[39m \u001b[38;5;28;43mself\u001b[39;49m\u001b[38;5;241;43m.\u001b[39;49m\u001b[43mmlp\u001b[49m\u001b[43m(\u001b[49m\u001b[43mmlp_in\u001b[49m\u001b[43m)\u001b[49m         \u001b[38;5;66;03m# [B, in_spec_dim]\u001b[39;00m\n\u001b[1;32m    123\u001b[0m out_packed \u001b[38;5;241m=\u001b[39m out\u001b[38;5;241m.\u001b[39mview(B, \u001b[38;5;28mself\u001b[39m\u001b[38;5;241m.\u001b[39mC, \u001b[38;5;28mself\u001b[39m\u001b[38;5;241m.\u001b[39mmH, \u001b[38;5;28mself\u001b[39m\u001b[38;5;241m.\u001b[39mmW_half, \u001b[38;5;241m2\u001b[39m)  \u001b[38;5;66;03m# [B,C,mH,mW_half,2]\u001b[39;00m\n\u001b[1;32m    125\u001b[0m \u001b[38;5;66;03m# 4) build full half-spectrum tensor for irfft2 (vectorized)\u001b[39;00m\n",
      "File \u001b[0;32m~/climate/lib/python3.12/site-packages/torch/nn/modules/module.py:1739\u001b[0m, in \u001b[0;36mModule._wrapped_call_impl\u001b[0;34m(self, *args, **kwargs)\u001b[0m\n\u001b[1;32m   1737\u001b[0m     \u001b[38;5;28;01mreturn\u001b[39;00m \u001b[38;5;28mself\u001b[39m\u001b[38;5;241m.\u001b[39m_compiled_call_impl(\u001b[38;5;241m*\u001b[39margs, \u001b[38;5;241m*\u001b[39m\u001b[38;5;241m*\u001b[39mkwargs)  \u001b[38;5;66;03m# type: ignore[misc]\u001b[39;00m\n\u001b[1;32m   1738\u001b[0m \u001b[38;5;28;01melse\u001b[39;00m:\n\u001b[0;32m-> 1739\u001b[0m     \u001b[38;5;28;01mreturn\u001b[39;00m \u001b[38;5;28;43mself\u001b[39;49m\u001b[38;5;241;43m.\u001b[39;49m\u001b[43m_call_impl\u001b[49m\u001b[43m(\u001b[49m\u001b[38;5;241;43m*\u001b[39;49m\u001b[43margs\u001b[49m\u001b[43m,\u001b[49m\u001b[43m \u001b[49m\u001b[38;5;241;43m*\u001b[39;49m\u001b[38;5;241;43m*\u001b[39;49m\u001b[43mkwargs\u001b[49m\u001b[43m)\u001b[49m\n",
      "File \u001b[0;32m~/climate/lib/python3.12/site-packages/torch/nn/modules/module.py:1750\u001b[0m, in \u001b[0;36mModule._call_impl\u001b[0;34m(self, *args, **kwargs)\u001b[0m\n\u001b[1;32m   1745\u001b[0m \u001b[38;5;66;03m# If we don't have any hooks, we want to skip the rest of the logic in\u001b[39;00m\n\u001b[1;32m   1746\u001b[0m \u001b[38;5;66;03m# this function, and just call forward.\u001b[39;00m\n\u001b[1;32m   1747\u001b[0m \u001b[38;5;28;01mif\u001b[39;00m \u001b[38;5;129;01mnot\u001b[39;00m (\u001b[38;5;28mself\u001b[39m\u001b[38;5;241m.\u001b[39m_backward_hooks \u001b[38;5;129;01mor\u001b[39;00m \u001b[38;5;28mself\u001b[39m\u001b[38;5;241m.\u001b[39m_backward_pre_hooks \u001b[38;5;129;01mor\u001b[39;00m \u001b[38;5;28mself\u001b[39m\u001b[38;5;241m.\u001b[39m_forward_hooks \u001b[38;5;129;01mor\u001b[39;00m \u001b[38;5;28mself\u001b[39m\u001b[38;5;241m.\u001b[39m_forward_pre_hooks\n\u001b[1;32m   1748\u001b[0m         \u001b[38;5;129;01mor\u001b[39;00m _global_backward_pre_hooks \u001b[38;5;129;01mor\u001b[39;00m _global_backward_hooks\n\u001b[1;32m   1749\u001b[0m         \u001b[38;5;129;01mor\u001b[39;00m _global_forward_hooks \u001b[38;5;129;01mor\u001b[39;00m _global_forward_pre_hooks):\n\u001b[0;32m-> 1750\u001b[0m     \u001b[38;5;28;01mreturn\u001b[39;00m \u001b[43mforward_call\u001b[49m\u001b[43m(\u001b[49m\u001b[38;5;241;43m*\u001b[39;49m\u001b[43margs\u001b[49m\u001b[43m,\u001b[49m\u001b[43m \u001b[49m\u001b[38;5;241;43m*\u001b[39;49m\u001b[38;5;241;43m*\u001b[39;49m\u001b[43mkwargs\u001b[49m\u001b[43m)\u001b[49m\n\u001b[1;32m   1752\u001b[0m result \u001b[38;5;241m=\u001b[39m \u001b[38;5;28;01mNone\u001b[39;00m\n\u001b[1;32m   1753\u001b[0m called_always_called_hooks \u001b[38;5;241m=\u001b[39m \u001b[38;5;28mset\u001b[39m()\n",
      "File \u001b[0;32m~/climate/lib/python3.12/site-packages/torch/nn/modules/container.py:250\u001b[0m, in \u001b[0;36mSequential.forward\u001b[0;34m(self, input)\u001b[0m\n\u001b[1;32m    248\u001b[0m \u001b[38;5;28;01mdef\u001b[39;00m\u001b[38;5;250m \u001b[39m\u001b[38;5;21mforward\u001b[39m(\u001b[38;5;28mself\u001b[39m, \u001b[38;5;28minput\u001b[39m):\n\u001b[1;32m    249\u001b[0m     \u001b[38;5;28;01mfor\u001b[39;00m module \u001b[38;5;129;01min\u001b[39;00m \u001b[38;5;28mself\u001b[39m:\n\u001b[0;32m--> 250\u001b[0m         \u001b[38;5;28minput\u001b[39m \u001b[38;5;241m=\u001b[39m \u001b[43mmodule\u001b[49m\u001b[43m(\u001b[49m\u001b[38;5;28;43minput\u001b[39;49m\u001b[43m)\u001b[49m\n\u001b[1;32m    251\u001b[0m     \u001b[38;5;28;01mreturn\u001b[39;00m \u001b[38;5;28minput\u001b[39m\n",
      "File \u001b[0;32m~/climate/lib/python3.12/site-packages/torch/nn/modules/module.py:1739\u001b[0m, in \u001b[0;36mModule._wrapped_call_impl\u001b[0;34m(self, *args, **kwargs)\u001b[0m\n\u001b[1;32m   1737\u001b[0m     \u001b[38;5;28;01mreturn\u001b[39;00m \u001b[38;5;28mself\u001b[39m\u001b[38;5;241m.\u001b[39m_compiled_call_impl(\u001b[38;5;241m*\u001b[39margs, \u001b[38;5;241m*\u001b[39m\u001b[38;5;241m*\u001b[39mkwargs)  \u001b[38;5;66;03m# type: ignore[misc]\u001b[39;00m\n\u001b[1;32m   1738\u001b[0m \u001b[38;5;28;01melse\u001b[39;00m:\n\u001b[0;32m-> 1739\u001b[0m     \u001b[38;5;28;01mreturn\u001b[39;00m \u001b[38;5;28;43mself\u001b[39;49m\u001b[38;5;241;43m.\u001b[39;49m\u001b[43m_call_impl\u001b[49m\u001b[43m(\u001b[49m\u001b[38;5;241;43m*\u001b[39;49m\u001b[43margs\u001b[49m\u001b[43m,\u001b[49m\u001b[43m \u001b[49m\u001b[38;5;241;43m*\u001b[39;49m\u001b[38;5;241;43m*\u001b[39;49m\u001b[43mkwargs\u001b[49m\u001b[43m)\u001b[49m\n",
      "File \u001b[0;32m~/climate/lib/python3.12/site-packages/torch/nn/modules/module.py:1750\u001b[0m, in \u001b[0;36mModule._call_impl\u001b[0;34m(self, *args, **kwargs)\u001b[0m\n\u001b[1;32m   1745\u001b[0m \u001b[38;5;66;03m# If we don't have any hooks, we want to skip the rest of the logic in\u001b[39;00m\n\u001b[1;32m   1746\u001b[0m \u001b[38;5;66;03m# this function, and just call forward.\u001b[39;00m\n\u001b[1;32m   1747\u001b[0m \u001b[38;5;28;01mif\u001b[39;00m \u001b[38;5;129;01mnot\u001b[39;00m (\u001b[38;5;28mself\u001b[39m\u001b[38;5;241m.\u001b[39m_backward_hooks \u001b[38;5;129;01mor\u001b[39;00m \u001b[38;5;28mself\u001b[39m\u001b[38;5;241m.\u001b[39m_backward_pre_hooks \u001b[38;5;129;01mor\u001b[39;00m \u001b[38;5;28mself\u001b[39m\u001b[38;5;241m.\u001b[39m_forward_hooks \u001b[38;5;129;01mor\u001b[39;00m \u001b[38;5;28mself\u001b[39m\u001b[38;5;241m.\u001b[39m_forward_pre_hooks\n\u001b[1;32m   1748\u001b[0m         \u001b[38;5;129;01mor\u001b[39;00m _global_backward_pre_hooks \u001b[38;5;129;01mor\u001b[39;00m _global_backward_hooks\n\u001b[1;32m   1749\u001b[0m         \u001b[38;5;129;01mor\u001b[39;00m _global_forward_hooks \u001b[38;5;129;01mor\u001b[39;00m _global_forward_pre_hooks):\n\u001b[0;32m-> 1750\u001b[0m     \u001b[38;5;28;01mreturn\u001b[39;00m \u001b[43mforward_call\u001b[49m\u001b[43m(\u001b[49m\u001b[38;5;241;43m*\u001b[39;49m\u001b[43margs\u001b[49m\u001b[43m,\u001b[49m\u001b[43m \u001b[49m\u001b[38;5;241;43m*\u001b[39;49m\u001b[38;5;241;43m*\u001b[39;49m\u001b[43mkwargs\u001b[49m\u001b[43m)\u001b[49m\n\u001b[1;32m   1752\u001b[0m result \u001b[38;5;241m=\u001b[39m \u001b[38;5;28;01mNone\u001b[39;00m\n\u001b[1;32m   1753\u001b[0m called_always_called_hooks \u001b[38;5;241m=\u001b[39m \u001b[38;5;28mset\u001b[39m()\n",
      "File \u001b[0;32m~/climate/lib/python3.12/site-packages/torch/nn/modules/linear.py:125\u001b[0m, in \u001b[0;36mLinear.forward\u001b[0;34m(self, input)\u001b[0m\n\u001b[1;32m    124\u001b[0m \u001b[38;5;28;01mdef\u001b[39;00m\u001b[38;5;250m \u001b[39m\u001b[38;5;21mforward\u001b[39m(\u001b[38;5;28mself\u001b[39m, \u001b[38;5;28minput\u001b[39m: Tensor) \u001b[38;5;241m-\u001b[39m\u001b[38;5;241m>\u001b[39m Tensor:\n\u001b[0;32m--> 125\u001b[0m     \u001b[38;5;28;01mreturn\u001b[39;00m \u001b[43mF\u001b[49m\u001b[38;5;241;43m.\u001b[39;49m\u001b[43mlinear\u001b[49m\u001b[43m(\u001b[49m\u001b[38;5;28;43minput\u001b[39;49m\u001b[43m,\u001b[49m\u001b[43m \u001b[49m\u001b[38;5;28;43mself\u001b[39;49m\u001b[38;5;241;43m.\u001b[39;49m\u001b[43mweight\u001b[49m\u001b[43m,\u001b[49m\u001b[43m \u001b[49m\u001b[38;5;28;43mself\u001b[39;49m\u001b[38;5;241;43m.\u001b[39;49m\u001b[43mbias\u001b[49m\u001b[43m)\u001b[49m\n",
      "\u001b[0;31mRuntimeError\u001b[0m: mat1 and mat2 shapes cannot be multiplied (64x124 and 244x512)"
     ]
    }
   ],
   "source": [
    "import torch\n",
    "import torch.nn as nn\n",
    "import torch.fft\n",
    "from torch.utils.data import DataLoader\n",
    "from torchvision import datasets, transforms\n",
    "\n",
    "\n",
    "# -------------------------\n",
    "# Helpers: compact-spectrum <-> image\n",
    "# -------------------------\n",
    "def image_to_compact_spectrum(x, mH, mW):\n",
    "    \"\"\"\n",
    "    x: [B, C, H, W] float real image\n",
    "    returns: real+imag packed tensor [B, C, mH, mW_half, 2]\n",
    "    where mW_half = W//2 + 1\n",
    "    \"\"\"\n",
    "    B, C, H, W = x.shape\n",
    "    assert mH <= H and mW <= W, \"modes must be <= image dims\"\n",
    "    spec = torch.fft.rfft2(x)                      # [B, C, H, W//2 + 1] complex\n",
    "    mW_half = W // 2 + 1\n",
    "    compact = spec[:, :, :mH, : (mW_half if mW >= mW_half else (mW//2 + 1))]\n",
    "    # pack real+imag\n",
    "    packed = torch.stack([compact.real, compact.imag], dim=-1)  # [B, C, mH, mW_half, 2]\n",
    "    return packed\n",
    "\n",
    "\n",
    "def compact_spectrum_to_full_spec(packed, H, W):\n",
    "    \"\"\"\n",
    "    packed: [B, C, mH, mW_half, 2] real+imag\n",
    "    returns: full compact half-spectrum shaped for irfft2:\n",
    "             [B, C, H, W//2 + 1] complex\n",
    "    places the low-frequency block in the top-left corner and zeros the rest.\n",
    "    \"\"\"\n",
    "    B, C, mH, mW_half, _ = packed.shape\n",
    "    device = packed.device\n",
    "    full_half = torch.zeros(B, C, H, W // 2 + 1, dtype=torch.cfloat, device=device)\n",
    "    complex_block = torch.complex(packed[..., 0], packed[..., 1])  # [B,C,mH,mW_half]\n",
    "    full_half[:, :, :mH, :mW_half] = complex_block\n",
    "    return full_half\n",
    "\n",
    "\n",
    "# -------------------------\n",
    "# Time embed helper (sinusoidal freqs -> small MLP)\n",
    "# -------------------------\n",
    "class TimeEmbed(nn.Module):\n",
    "    def __init__(self, time_embed_dim=16, time_mlp_dim=64):\n",
    "        super().__init__()\n",
    "        freqs = torch.linspace(1.0, 10.0, time_embed_dim)\n",
    "        self.register_buffer(\"freqs\", freqs)\n",
    "        self.mlp = nn.Sequential(\n",
    "            nn.Linear(time_embed_dim, time_mlp_dim),\n",
    "            nn.GELU(),\n",
    "            nn.Linear(time_mlp_dim, time_mlp_dim),\n",
    "            nn.GELU(),\n",
    "        )\n",
    "\n",
    "    def forward(self, t):\n",
    "        # t: [B,1] or [B]\n",
    "        if t.dim() == 1:\n",
    "            t = t.unsqueeze(-1)\n",
    "        t_sin = torch.sin(t * self.freqs.to(t.device))   # [B, time_embed_dim]\n",
    "        return self.mlp(t_sin)                            # [B, time_mlp_dim]\n",
    "\n",
    "\n",
    "# -------------------------\n",
    "# Spectral velocity estimator\n",
    "# -------------------------\n",
    "class SpectralVelocityEstimator(nn.Module):\n",
    "    \"\"\"\n",
    "    Input: compact spectral coefficients of x_t (real+imag packed) + time t\n",
    "    Output: compact spectral coefficients of velocity v_hat (real+imag packed)\n",
    "    We compute loss in spatial domain: v_hat_spatial = irfft2(pred_compact_full)\n",
    "    \"\"\"\n",
    "    def __init__(self, img_shape, modes, time_embed_dim=16, time_mlp_dim=64, hidden_dim=512):\n",
    "        \"\"\"\n",
    "        img_shape: (C, H, W)\n",
    "        modes: (mH, mW) retained low-frequency modes\n",
    "        \"\"\"\n",
    "        super().__init__()\n",
    "        self.C, self.H, self.W = img_shape\n",
    "        self.mH, self.mW = modes\n",
    "        self.mW_half = self.W // 2 + 1     # compact half-spectrum width\n",
    "\n",
    "        # dims for packed compact spectrum as input\n",
    "        self.in_spec_dim = self.C * self.mH * self.mW_half * 2   # real+imag\n",
    "        self.time_mlp_dim = time_mlp_dim\n",
    "\n",
    "        # time embed\n",
    "        self.time_embed = TimeEmbed(time_embed_dim=time_embed_dim, time_mlp_dim=time_mlp_dim)\n",
    "\n",
    "        # MLP: input = flattened compact-spec + time embedding\n",
    "        self.mlp = nn.Sequential(\n",
    "            nn.Linear(self.in_spec_dim + self.time_mlp_dim, hidden_dim),\n",
    "            nn.GELU(),\n",
    "            nn.Linear(hidden_dim, hidden_dim),\n",
    "            nn.GELU(),\n",
    "            nn.Linear(hidden_dim, self.in_spec_dim)   # predict real+imag for velocity compact block\n",
    "        )\n",
    "\n",
    "    def forward(self, x_t_image, t):\n",
    "        \"\"\"\n",
    "        x_t_image: [B, C, H, W] real image (spatial)\n",
    "        t: [B,1] time\n",
    "        returns: v_hat_spatial: [B, C, H, W] (real spatial velocity predicted)\n",
    "                 and optionally the predicted compact spectrum (packed)\n",
    "        \"\"\"\n",
    "        B = x_t_image.shape[0]\n",
    "        device = x_t_image.device\n",
    "\n",
    "        # 1) Convert image -> packed compact spectrum\n",
    "        packed = image_to_compact_spectrum(x_t_image, self.mH, self.mW)\n",
    "        # packed: [B, C, mH, mW_half, 2]\n",
    "\n",
    "        # 2) Flatten and concat time embedding\n",
    "        flat = packed.reshape(B, -1)   # [B, in_spec_dim]\n",
    "        t_emb = self.time_embed(t)     # [B, time_mlp_dim]\n",
    "        mlp_in = torch.cat([flat, t_emb], dim=-1)  # [B, in_spec_dim + time_mlp_dim]\n",
    "\n",
    "        print(mlp_in.shape, self.in_spec_dim, self.time_mlp_dim)\n",
    "\n",
    "        # 3) Predict compact spectral velocity coeffs (real+imag)\n",
    "        out = self.mlp(mlp_in)         # [B, in_spec_dim]\n",
    "        out_packed = out.view(B, self.C, self.mH, self.mW_half, 2)  # [B,C,mH,mW_half,2]\n",
    "\n",
    "        # 4) build full half-spectrum tensor for irfft2 (vectorized)\n",
    "        full_half = compact_spectrum_to_full_spec(out_packed, self.H, self.W)  # [B,C,H,W//2+1] complex\n",
    "\n",
    "        # 5) inverse rfft -> spatial velocity\n",
    "        v_hat = torch.fft.irfft2(full_half, s=(self.H, self.W), norm=\"ortho\")  # [B,C,H,W] real\n",
    "        return v_hat, out_packed\n",
    "\n",
    "\n",
    "# -------------------------\n",
    "# CFM training loop (simple OT interpolation)\n",
    "# -------------------------\n",
    "def train_cfm_spectral(\n",
    "    model,\n",
    "    dataloader,\n",
    "    device,\n",
    "    epochs=10,\n",
    "    lr=1e-4,\n",
    "    s_fn=lambda t: t,          # interpolation schedule s(t)\n",
    "    s_dot_fn=lambda t: torch.ones_like(t)  # derivative s'(t)\n",
    "):\n",
    "    \"\"\"\n",
    "    model: SpectralVelocityEstimator\n",
    "    dataloader: yields [B,C,H,W] images x0\n",
    "    We'll set x1 = Gaussian white noise images (OT target) for simplicity.\n",
    "    \"\"\"\n",
    "    model.to(device)\n",
    "    opt = torch.optim.Adam(model.parameters(), lr=lr)\n",
    "    mse = nn.MSELoss()\n",
    "\n",
    "    for epoch in range(epochs):\n",
    "        for batch_idx, (x0, _) in enumerate(dataloader):\n",
    "            x0 = x0.to(device)                             # [B,C,H,W]\n",
    "            B = x0.shape[0]\n",
    "\n",
    "            # sample x1 from simple Gaussian prior (white noise in pixel space)\n",
    "            x1 = torch.randn_like(x0)                      # [B,C,H,W]\n",
    "\n",
    "            # sample t uniformly in (0,1)\n",
    "            t = torch.rand(B, 1, device=device)            # [B,1]\n",
    "            s = s_fn(t)                                    # [B,1]\n",
    "            s_dot = s_dot_fn(t)                            # [B,1]\n",
    "            \n",
    "            # compute OT-like linear interpolation x_t\n",
    "            s_conv = s[:,:,None,None]\n",
    "            x_t = (1.0 - s_conv) * x0 + s_conv * x1                   # [B,C,H,W]\n",
    "\n",
    "            # target velocity (time derivative of interpolation)\n",
    "            # v* = s'(t) * (x1 - x0)\n",
    "            v_star = s_dot.view(B, 1, 1, 1) * (x1 - x0)    # [B,C,H,W]\n",
    "\n",
    "            # model predicts v_hat (spatial) from x_t and t (via spectral internals)\n",
    "            v_hat, pred_packed = model(x_t, t)\n",
    "\n",
    "            loss = mse(v_hat, v_star)\n",
    "\n",
    "            opt.zero_grad()\n",
    "            loss.backward()\n",
    "            opt.step()\n",
    "\n",
    "            if batch_idx % 100 == 0:\n",
    "                print(f\"Epoch {epoch} Batch {batch_idx} Loss {loss.item():.4e}\")\n",
    "\n",
    "    return model\n",
    "\n",
    "\n",
    "# -------------------------\n",
    "# Minimal runnable example using MNIST\n",
    "# -------------------------\n",
    "if __name__ == \"__main__\":\n",
    "    device = torch.device(\"cuda\" if torch.cuda.is_available() else \"cpu\")\n",
    "\n",
    "    # Data: MNIST scaled to [-1,1]\n",
    "    transform = transforms.Compose([\n",
    "        transforms.ToTensor(),\n",
    "        transforms.Normalize((0.5,), (0.5,))\n",
    "    ])\n",
    "    ds = datasets.MNIST(root=\"./data\", train=True, download=True, transform=transform)\n",
    "    loader = DataLoader(ds, batch_size=64, shuffle=True, drop_last=True)\n",
    "\n",
    "    # Model config\n",
    "    C, H, W = 1, 28, 28\n",
    "    modes = (6, 8)   # mH, mW (mW should be <= W)\n",
    "    model = SpectralVelocityEstimator(img_shape=(C, H, W), modes=modes,\n",
    "                                      time_embed_dim=16, time_mlp_dim=64, hidden_dim=512)\n",
    "\n",
    "    # Train\n",
    "    model = train_cfm_spectral(model, loader, device, epochs=3, lr=5e-4)\n"
   ]
  },
  {
   "cell_type": "code",
   "execution_count": null,
   "id": "aeaba3b7-9ea2-4cfa-92d0-109c603f000c",
   "metadata": {},
   "outputs": [],
   "source": []
  },
  {
   "cell_type": "code",
   "execution_count": null,
   "id": "1ac2df83-aa9e-4ccb-b2fe-a4ec966d67f8",
   "metadata": {},
   "outputs": [],
   "source": []
  }
 ],
 "metadata": {
  "kernelspec": {
   "display_name": "Python 3 (ipykernel)",
   "language": "python",
   "name": "python3"
  },
  "language_info": {
   "codemirror_mode": {
    "name": "ipython",
    "version": 3
   },
   "file_extension": ".py",
   "mimetype": "text/x-python",
   "name": "python",
   "nbconvert_exporter": "python",
   "pygments_lexer": "ipython3",
   "version": "3.12.3"
  }
 },
 "nbformat": 4,
 "nbformat_minor": 5
}
