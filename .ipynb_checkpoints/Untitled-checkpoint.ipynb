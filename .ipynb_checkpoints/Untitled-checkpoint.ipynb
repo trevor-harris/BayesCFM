{
 "cells": [
  {
   "cell_type": "code",
   "execution_count": 174,
   "id": "cb5a851f-c4e1-4aca-8de6-f6b78c330294",
   "metadata": {},
   "outputs": [],
   "source": [
    "import torch\n",
    "import torch.nn as nn\n",
    "import torch.nn.functional as F\n",
    "\n",
    "import matplotlib\n",
    "import matplotlib.pyplot as plt\n",
    "\n",
    "class VelocityField(nn.Module):\n",
    "    def __init__(self, x_dim, cond_dim, hidden_dim=128, time_embed_dim=16):\n",
    "        super().__init__()\n",
    "        self.time_embed_dim = time_embed_dim\n",
    "        self.freqs = nn.Parameter(torch.linspace(1.0, 10.0, time_embed_dim), requires_grad=False)\n",
    "\n",
    "        input_dim = x_dim + time_embed_dim + cond_dim\n",
    "        self.net = nn.Sequential(\n",
    "            nn.Linear(input_dim, hidden_dim),\n",
    "            nn.Tanh(),\n",
    "            nn.Linear(hidden_dim, hidden_dim),\n",
    "            nn.Tanh(),\n",
    "            nn.Linear(hidden_dim, x_dim)\n",
    "        )\n",
    "\n",
    "    def time_embed(self, t):\n",
    "        return torch.sin(t * self.freqs)\n",
    "\n",
    "    def forward(self, x_t, t, y):\n",
    "        \"\"\"\n",
    "        x_t: [B, d]  -- interpolated state\n",
    "        t:   [B, 1]  -- scalar time\n",
    "        y:   [B, c]  -- conditional input\n",
    "        \"\"\"\n",
    "        t_embed = self.time_embed(t)  # [B, time_embed_dim]\n",
    "        h = torch.cat([x_t, t_embed, y], dim=-1)\n",
    "        return self.net(h)  # [B, d]\n",
    "\n",
    "def flow_matching_loss(model, x0, x1, y):\n",
    "    \"\"\"\n",
    "    x0, x1: [B, d]   -- samples from conditional marginal\n",
    "    y:     [B, c]   -- conditioning variable\n",
    "    \"\"\"\n",
    "    B, d = x0.shape\n",
    "    t = torch.rand(B, 1, device=x0.device)\n",
    "    x_t = (1 - t) * x0 + t * x1\n",
    "    v_target = x1 - x0\n",
    "\n",
    "    v_pred = model(x_t, t, y)\n",
    "    return F.mse_loss(v_pred, v_target)\n"
   ]
  },
  {
   "cell_type": "code",
   "execution_count": 175,
   "id": "7c016ae6-deab-4a52-bbdf-41f360100e4a",
   "metadata": {},
   "outputs": [],
   "source": [
    "def rk4_step(f, x, t, dt, y):\n",
    "    \"\"\"Performs one RK4 step for dx/dt = f(t, x) with conditioning y\"\"\"\n",
    "    k1 = f(t,     x,     y)\n",
    "    k2 = f(t+dt/2, x + dt/2 * k1, y)\n",
    "    k3 = f(t+dt/2, x + dt/2 * k2, y)\n",
    "    k4 = f(t+dt,   x + dt   * k3, y)\n",
    "    return x + (dt/6)*(k1 + 2*k2 + 2*k3 + k4)\n",
    "\n",
    "def rk4_integrate(f, x0, t0, t1, y, steps=100):\n",
    "    \"\"\"\n",
    "    Integrate dx/dt = f(t, x, y) from t0 to t1 using RK4\n",
    "\n",
    "    Args:\n",
    "        f: function f(t, x, y) -> dx/dt\n",
    "        x0: [B, d] initial state\n",
    "        t0: float\n",
    "        t1: float\n",
    "        y: [B, cond_dim] conditioning\n",
    "        steps: number of steps to integrate\n",
    "\n",
    "    Returns:\n",
    "        x_T: final state at t1\n",
    "    \"\"\"\n",
    "    dt = (t1 - t0) / steps\n",
    "    x = x0\n",
    "    t = t0\n",
    "    for _ in range(steps):\n",
    "        x = rk4_step(f, x, t, dt, y)\n",
    "        t += dt\n",
    "    return x\n",
    "\n",
    "def velocity_wrapper(model):\n",
    "    \"\"\"\n",
    "    Returns a callable f(t, x, y) to integrate with RK4\n",
    "    \"\"\"\n",
    "    def f(t, x, y):\n",
    "        if x.dim() == 1:\n",
    "            x = x.unsqueeze(0)\n",
    "        B = x.shape[0]\n",
    "        t_tensor = torch.ones(B, 1, device=x.device) * t\n",
    "        return model(x, t_tensor, y)\n",
    "    return f\n",
    "\n",
    "@torch.no_grad()\n",
    "def sample_from_flow(model, x0, y, t0=0.0, t1=1.0, steps=100):\n",
    "    f = velocity_wrapper(model)\n",
    "    return rk4_integrate(f, x0, t0, t1, y, steps)\n"
   ]
  },
  {
   "cell_type": "code",
   "execution_count": null,
   "id": "e24d5d87-fb22-4dbc-976f-13c902781ce9",
   "metadata": {},
   "outputs": [],
   "source": []
  },
  {
   "cell_type": "code",
   "execution_count": 183,
   "id": "e9edba21-2272-4407-b578-84db50c2c78c",
   "metadata": {},
   "outputs": [],
   "source": [
    "class ConvVelocityField(nn.Module):\n",
    "    def __init__(self, in_channels, hidden_channels=64, time_embed_dim=16):\n",
    "        super().__init__()\n",
    "        self.time_embed_dim = time_embed_dim\n",
    "        self.freqs = nn.Parameter(torch.linspace(1.0, 10.0, time_embed_dim), requires_grad=False)\n",
    "\n",
    "        # Project time embedding to match spatial resolution\n",
    "        self.time_proj = nn.Linear(time_embed_dim, hidden_channels)\n",
    "\n",
    "        # Conv net\n",
    "        self.net = nn.Sequential(\n",
    "            nn.Conv2d(in_channels + hidden_channels, hidden_channels, kernel_size=3, padding=1),\n",
    "            nn.SiLU(),\n",
    "            nn.Conv2d(hidden_channels, hidden_channels, kernel_size=3, padding=1),\n",
    "            nn.SiLU(),\n",
    "            nn.Conv2d(hidden_channels, hidden_channels, kernel_size=3, padding=1),\n",
    "            nn.SiLU(),\n",
    "            nn.Conv2d(hidden_channels, hidden_channels, kernel_size=3, padding=1),\n",
    "            nn.SiLU(),\n",
    "            nn.Conv2d(hidden_channels, hidden_channels, kernel_size=3, padding=1),\n",
    "            nn.SiLU(),\n",
    "            nn.Conv2d(hidden_channels, hidden_channels, kernel_size=3, padding=1),\n",
    "            nn.SiLU(),\n",
    "            nn.Conv2d(hidden_channels, hidden_channels, kernel_size=3, padding=1),\n",
    "            nn.SiLU(),\n",
    "            nn.Conv2d(hidden_channels, in_channels, kernel_size=3, padding=1)\n",
    "        )\n",
    "\n",
    "    def time_embed(self, t):\n",
    "        # t: [B, 1]\n",
    "        return torch.sin(t * self.freqs)  # [B, time_embed_dim]\n",
    "\n",
    "    def forward(self, x_t, t):\n",
    "        \"\"\"\n",
    "        x_t: [B, C, H, W]  -- interpolated state\n",
    "        t:   [B, 1]        -- scalar time\n",
    "        \"\"\"\n",
    "        # Create time embedding\n",
    "        t_embed = self.time_embed(t)  # [B, time_embed_dim]\n",
    "        t_proj = self.time_proj(t_embed)  # [B, hidden_channels]\n",
    "        # Broadcast to spatial dims\n",
    "        t_proj = t_proj[:, :, None, None].expand(-1, -1, x_t.shape[2], x_t.shape[3])\n",
    "\n",
    "        # Concatenate time conditioning\n",
    "        h = torch.cat([x_t, t_proj], dim=1)  # [B, C+hidden_channels, H, W]\n",
    "        return self.net(h)  # [B, C, H, W]"
   ]
  },
  {
   "cell_type": "code",
   "execution_count": 173,
   "id": "6ddc56ef-71f7-484a-876a-a795995da162",
   "metadata": {},
   "outputs": [],
   "source": [
    "import torch.nn as nn\n",
    "import torch.nn.functional as F\n",
    "\n",
    "# ---------------------------------------------------------------------\n",
    "# Small helpers: time embedding and residual block that accepts time\n",
    "# ---------------------------------------------------------------------\n",
    "class TimeEmbed(nn.Module):\n",
    "    def __init__(self, time_embed_dim=16, hidden_dim=128):\n",
    "        super().__init__()\n",
    "        # fixed freqs as in your original code (not learned)\n",
    "        self.freqs = nn.Parameter(torch.linspace(1.0, 10.0, time_embed_dim), requires_grad=False)\n",
    "        self.mlp = nn.Sequential(\n",
    "            nn.Linear(time_embed_dim, hidden_dim),\n",
    "            nn.SiLU(),\n",
    "            nn.Linear(hidden_dim, hidden_dim)\n",
    "        )\n",
    "\n",
    "    def forward(self, t):\n",
    "        # t: [B, 1]\n",
    "        # produces [B, hidden_dim]\n",
    "        x = torch.sin(t * self.freqs)  # [B, time_embed_dim]\n",
    "        return self.mlp(x)\n",
    "\n",
    "\n",
    "class ResConvBlock(nn.Module):\n",
    "    \"\"\"\n",
    "    Residual conv block which adds a (broadcasted) time embedding after first conv.\n",
    "    \"\"\"\n",
    "    def __init__(self, in_ch, out_ch, time_dim, groups=8):\n",
    "        super().__init__()\n",
    "        self.conv1 = nn.Conv2d(in_ch, out_ch, kernel_size=3, padding=1)\n",
    "        self.gn1 = nn.GroupNorm(groups, out_ch)\n",
    "        self.conv2 = nn.Conv2d(out_ch, out_ch, kernel_size=3, padding=1)\n",
    "        self.gn2 = nn.GroupNorm(groups, out_ch)\n",
    "        self.time_proj = nn.Linear(time_dim, out_ch)\n",
    "\n",
    "        # if channel mismatch, use 1x1 to match for residual\n",
    "        self.nin_shortcut = nn.Identity()\n",
    "        if in_ch != out_ch:\n",
    "            self.nin_shortcut = nn.Conv2d(in_ch, out_ch, kernel_size=1)\n",
    "\n",
    "    def forward(self, x, t_emb):\n",
    "        \"\"\"\n",
    "        x: [B, C, H, W]\n",
    "        t_emb: [B, time_dim]\n",
    "        \"\"\"\n",
    "        h = self.conv1(x)\n",
    "        # add time embedding (project & broadcast)\n",
    "        t = self.time_proj(t_emb)[:, :, None, None]\n",
    "        h = self.gn1(h + t)\n",
    "        h = F.silu(h)\n",
    "\n",
    "        h = self.conv2(h)\n",
    "        h = self.gn2(h)\n",
    "        h = F.silu(h)\n",
    "\n",
    "        return h + self.nin_shortcut(x)\n",
    "\n",
    "\n",
    "# ---------------------------------------------------------------------\n",
    "# U-Net velocity field\n",
    "# ---------------------------------------------------------------------\n",
    "class ConvUNetVelocityField(nn.Module):\n",
    "    def __init__(self, in_channels=1, base_channels=64, time_embed_dim=16, time_mlp_dim=128, depths=(1, 1, 2)):\n",
    "        \"\"\"\n",
    "        - in_channels: image channels (1 for MNIST, 3 for CIFAR)\n",
    "        - base_channels: number of channels in the first stage\n",
    "        - time_embed_dim: size of the sinusoidal frequency embedding\n",
    "        - time_mlp_dim: hidden dim for time MLP (injected into ResConvBlock)\n",
    "        - depths: tuple controlling number of ResConvBlocks per stage (down / bottleneck / up)\n",
    "        \"\"\"\n",
    "        super().__init__()\n",
    "        self.time_mlp = TimeEmbed(time_embed_dim=time_embed_dim, hidden_dim=time_mlp_dim)\n",
    "\n",
    "        # Encoder stages\n",
    "        self.enc_blocks = nn.ModuleList()\n",
    "        self.downs = nn.ModuleList()\n",
    "        in_ch = in_channels\n",
    "        channels = []\n",
    "        for i, d in enumerate(depths):\n",
    "            out_ch = base_channels * (2 ** i)\n",
    "            for _ in range(d):\n",
    "                self.enc_blocks.append(ResConvBlock(in_ch, out_ch, time_dim=time_mlp_dim))\n",
    "                in_ch = out_ch\n",
    "            channels.append(out_ch)\n",
    "            # downsample between stages (except after last)\n",
    "            self.downs.append(nn.Conv2d(out_ch, out_ch, kernel_size=4, stride=2, padding=1))  # halves H,W\n",
    "\n",
    "        # Bottleneck (an extra block)\n",
    "        self.bot_block = ResConvBlock(in_ch, in_ch * 2, time_dim=time_mlp_dim)\n",
    "        bot_ch = in_ch * 2\n",
    "\n",
    "        # Decoder stages (mirror)\n",
    "        self.up_convs = nn.ModuleList()\n",
    "        self.dec_blocks = nn.ModuleList()\n",
    "        rev_channels = list(reversed(channels))\n",
    "        in_ch = bot_ch\n",
    "        for i, out_ch in enumerate(rev_channels):\n",
    "            # upsample via ConvTranspose2d to double spatial dims\n",
    "            self.up_convs.append(nn.ConvTranspose2d(in_ch, out_ch, kernel_size=4, stride=2, padding=1))\n",
    "            # After concatenation with skip, process with ResConvBlock(s)\n",
    "            self.dec_blocks.append(ResConvBlock(in_ch=out_ch * 2, out_ch=out_ch, time_dim=time_mlp_dim))\n",
    "            in_ch = out_ch\n",
    "\n",
    "        # final conv to map back to image channels\n",
    "        self.final_conv = nn.Sequential(\n",
    "            nn.Conv2d(base_channels, base_channels, kernel_size=3, padding=1),\n",
    "            nn.SiLU(),\n",
    "            nn.Conv2d(base_channels, in_channels, kernel_size=3, padding=1)\n",
    "        )\n",
    "\n",
    "    def forward(self, x_t, t):\n",
    "        \"\"\"\n",
    "        x_t: [B, C, H, W]\n",
    "        t:   [B, 1]  (scalar time per sample)\n",
    "        returns velocity of same shape as x_t: [B, C, H, W]\n",
    "        \"\"\"\n",
    "        B, C, H, W = x_t.shape\n",
    "        t_emb = self.time_mlp(t)  # [B, time_mlp_dim]\n",
    "\n",
    "        # Encoder: store skips\n",
    "        skips = []\n",
    "        idx = 0\n",
    "        h = x_t\n",
    "        # iterate over enc_blocks and downs; enc_blocks is flattened sequence\n",
    "        enc_block_iter = iter(self.enc_blocks)\n",
    "        for down in self.downs:\n",
    "            # each stage may have multiple blocks (depending on how many were appended)\n",
    "            # We find blocks until next down is consumed (we appended d blocks per stage)\n",
    "            # Implementation detail: we rely on the ordering used during creation\n",
    "            # Apply the number of blocks that correspond to this stage by applying blocks until shape changes from down op\n",
    "            # Simpler: apply one block per stage loop per depths value; earlier we stored \"depths\"\n",
    "            # But to keep logic simple and robust, we apply blocks until the next down is applied.\n",
    "            # Here we just apply one block per downs stage (matching how we built enc_blocks).\n",
    "            block = next(enc_block_iter)\n",
    "            h = block(h, t_emb)\n",
    "            skips.append(h)\n",
    "            h = down(h)\n",
    "\n",
    "        # There may be remaining enc_blocks if depths had >1 in a stage; consume them\n",
    "        for block in enc_block_iter:\n",
    "            h = block(h, t_emb)\n",
    "\n",
    "        # Bottleneck\n",
    "        h = self.bot_block(h, t_emb)\n",
    "\n",
    "        # Decoder: upsample and use skips\n",
    "        for up_conv, dec_block in zip(self.up_convs, self.dec_blocks):\n",
    "            h = up_conv(h)\n",
    "            skip = skips.pop()  # last skip\n",
    "            # If shapes differ by 1 due to odd sizes, center-crop skip to match\n",
    "            if skip.shape[-2:] != h.shape[-2:]:\n",
    "                # simple center crop\n",
    "                sh, sw = skip.shape[-2:]\n",
    "                hh, ww = h.shape[-2:]\n",
    "                start_h = (sh - hh) // 2\n",
    "                start_w = (sw - ww) // 2\n",
    "                skip = skip[..., start_h:start_h+hh, start_w:start_w+ww]\n",
    "            # concat channels\n",
    "            h = torch.cat([h, skip], dim=1)\n",
    "            h = dec_block(h, t_emb)\n",
    "\n",
    "        # final conv\n",
    "        v = self.final_conv(h)\n",
    "        v = nn.Upsample((28, 28))(v)\n",
    "        return v"
   ]
  },
  {
   "cell_type": "code",
   "execution_count": 55,
   "id": "6dd43075-fbd1-4990-938c-8cd95d7f0c9a",
   "metadata": {},
   "outputs": [],
   "source": [
    "from torchvision import datasets, transforms\n",
    "from torch.utils.data import DataLoader\n",
    "\n",
    "# Define a transform to normalize the data\n",
    "transform = transforms.Compose([\n",
    "    transforms.ToTensor(),  # Convert images to PyTorch tensors\n",
    "    transforms.Normalize((0.1307,), (0.3081,))  # Mean and std for MNIST\n",
    "])\n",
    "\n",
    "# Download and load the training dataset\n",
    "train_dataset = datasets.MNIST(\n",
    "    root=\"./data\",\n",
    "    train=True,\n",
    "    download=True,\n",
    "    transform=transform\n",
    ")\n",
    "\n",
    "# Download and load the test dataset\n",
    "test_dataset = datasets.MNIST(\n",
    "    root=\"./data\",\n",
    "    train=False,\n",
    "    download=True,\n",
    "    transform=transform\n",
    ")\n",
    "\n",
    "# Create data loaders\n",
    "train_loader = DataLoader(train_dataset, batch_size=64, shuffle=True)\n",
    "test_loader = DataLoader(test_dataset, batch_size=1000, shuffle=False)\n",
    "\n",
    "# # Example: iterate over the training data\n",
    "# for batch_idx, (x, y) in enumerate(train_loader):\n",
    "#     print(f\"Batch {batch_idx} | Data shape: {x.shape} | Target shape: {y.shape}\")\n",
    "#     break"
   ]
  },
  {
   "cell_type": "code",
   "execution_count": 56,
   "id": "20140482-bcb4-444a-a46d-1a8740729386",
   "metadata": {},
   "outputs": [],
   "source": [
    "model = ConvUNetVelocityField(in_channels=1, base_channels=64, time_embed_dim=16, time_mlp_dim=128, depths=(1,1,2))"
   ]
  },
  {
   "cell_type": "code",
   "execution_count": 57,
   "id": "e436e4b9-b66d-4f40-a372-27d6ffe5d2fe",
   "metadata": {},
   "outputs": [
    {
     "data": {
      "text/plain": [
       "torch.Size([64, 1, 28, 28])"
      ]
     },
     "execution_count": 57,
     "metadata": {},
     "output_type": "execute_result"
    }
   ],
   "source": [
    "t = torch.rand(64, 1)\n",
    "v = model(x, t)\n",
    "v.shape"
   ]
  },
  {
   "cell_type": "code",
   "execution_count": 61,
   "id": "d580b8a6-c0a4-46f3-8d47-06b926f29d0c",
   "metadata": {},
   "outputs": [],
   "source": [
    "# Example: iterate over the training data\n",
    "model = ConvUNetVelocityField(in_channels=1, base_channels=64, time_embed_dim=16, time_mlp_dim=128, depths=(1,1,2))\n",
    "for x, y in train_loader:\n",
    "    pass"
   ]
  },
  {
   "cell_type": "code",
   "execution_count": 63,
   "id": "286aa478-53d6-4e94-8c56-f52b69f84d12",
   "metadata": {},
   "outputs": [],
   "source": [
    "def conv_flow_matching_loss(model, x0, x1):\n",
    "    \"\"\"\n",
    "    x0, x1: [B, d]   -- samples from conditional marginal\n",
    "    y:     [B, c]   -- conditioning variable\n",
    "    \"\"\"\n",
    "    n, c, h, w = x0.shape\n",
    "    t = torch.rand(n, 1, device=x0.device)\n",
    "    t_conv = t[:,:,None,None]\n",
    "    x_t = (1 - t_conv) * x0 + t_conv * x1\n",
    "    v_target = x1 - x0\n",
    "    v_pred = model(x_t, t)\n",
    "    return F.mse_loss(v_pred, v_target)"
   ]
  },
  {
   "cell_type": "code",
   "execution_count": 179,
   "id": "8bc72a65-fb82-4151-89f7-7285d29e0280",
   "metadata": {},
   "outputs": [],
   "source": [
    "def gradient_field_penalty(v_func, x, t, num_samples=1, sym_weight=1.0, eig_weight=1.0):\n",
    "    \"\"\"\n",
    "    Computes a regularization penalty to encourage v ≈ ∇φ (gradient of convex potential)\n",
    "\n",
    "    v_func: velocity model, takes (x, t, y) -> [B, D]\n",
    "    x: [B, D], requires_grad=True\n",
    "    t: [B, 1]\n",
    "    y: [B, C]\n",
    "    Returns:\n",
    "        scalar penalty\n",
    "    \"\"\"\n",
    "    # B, D = x.shape\n",
    "    n, c, h, w = x.shape\n",
    "    device = x.device\n",
    "    penalty = 0.0\n",
    "\n",
    "    for _ in range(num_samples):\n",
    "        z = torch.randn_like(x)  # Hutchinson probe\n",
    "\n",
    "        # Vector-Jacobian product: J_v z\n",
    "        v = v_func(x, t)  # [B, D]\n",
    "        Jv_z = torch.autograd.grad(\n",
    "            outputs=v,\n",
    "            inputs=x,\n",
    "            grad_outputs=z,\n",
    "            create_graph=True,\n",
    "            retain_graph=True,\n",
    "            only_inputs=True\n",
    "        )[0]  # [B, D]\n",
    "\n",
    "        # Jacobian-Vector product: J_v^T z = ∇_x (v^T z)\n",
    "        vz = torch.sum(v * z, dim=1)  # [B]\n",
    "        JvT_z = torch.autograd.grad(\n",
    "            outputs=vz,\n",
    "            inputs=x,\n",
    "            grad_outputs=torch.ones_like(vz),\n",
    "            create_graph=True,\n",
    "            retain_graph=True,\n",
    "            only_inputs=True\n",
    "        )[0]  # [B, D]\n",
    "\n",
    "        # Symmetry penalty: || Jv_z - JvT_z ||^2\n",
    "        sym_penalty = ((Jv_z - JvT_z)**2).sum(dim=1)  # [B]\n",
    "\n",
    "        # Convexity (PSD) penalty: penalize z^T Jv z < 0\n",
    "        zT_Jv_z = (Jv_z * z).sum(dim=1)  # [B]\n",
    "        eig_penalty = F.relu(-zT_Jv_z)**2  # [B]\n",
    "\n",
    "        penalty += sym_weight * sym_penalty.mean() + eig_weight * eig_penalty.mean()\n",
    "\n",
    "    return penalty / num_samples\n",
    "\n",
    "def CGM_loss(model, x0, x1, reg_weight=1.0, sym_weight=1.0, eig_weight=1.0):\n",
    "    n, c, h, w = x0.shape\n",
    "    t = torch.rand(n, 1, device=x0.device)\n",
    "    t_conv = t[:,:,None,None]\n",
    "    x_t = (1 - t_conv) * x0 + t_conv * x1\n",
    "    x_t = x_t.detach().requires_grad_()\n",
    "    v_target = x1 - x0\n",
    "    v_pred = model(x_t, t)\n",
    "    \n",
    "    fm_loss = F.mse_loss(v_pred, v_target)\n",
    "    reg_penalty = gradient_field_penalty(model, x_t, t,sym_weight=sym_weight, eig_weight=eig_weight)\n",
    "\n",
    "    return fm_loss + reg_weight * reg_penalty, {\n",
    "        'fm_loss': fm_loss.item(),\n",
    "        'reg_penalty': reg_penalty.item()\n",
    "    }\n",
    "\n",
    "def add_sgmcmc_noise(model, lr, noise_scale=1.0):\n",
    "    for p in model.parameters():\n",
    "        if p.grad is None:\n",
    "            continue\n",
    "        noise = torch.randn_like(p) * torch.sqrt(torch.tensor(2.0 * lr)) * noise_scale\n",
    "        p.data.add_(noise)"
   ]
  },
  {
   "cell_type": "code",
   "execution_count": 180,
   "id": "1e997af4-ac29-4a72-8965-a0e652b3eaac",
   "metadata": {},
   "outputs": [],
   "source": [
    "def rk4_step(f, x, t, dt):\n",
    "    \"\"\"Performs one RK4 step for dx/dt = f(t, x) with conditioning y\"\"\"\n",
    "    k1 = f(t,     x)\n",
    "    k2 = f(t+dt/2, x + dt/2 * k1)\n",
    "    k3 = f(t+dt/2, x + dt/2 * k2)\n",
    "    k4 = f(t+dt,   x + dt   * k3)\n",
    "    return x + (dt/6)*(k1 + 2*k2 + 2*k3 + k4)\n",
    "\n",
    "def rk4_integrate(f, x0, t0, t1,steps=100):\n",
    "    \"\"\"\n",
    "    Integrate dx/dt = f(t, x, y) from t0 to t1 using RK4\n",
    "\n",
    "    Args:\n",
    "        f: function f(t, x, y) -> dx/dt\n",
    "        x0: [B, d] initial state\n",
    "        t0: float\n",
    "        t1: float\n",
    "        y: [B, cond_dim] conditioning\n",
    "        steps: number of steps to integrate\n",
    "\n",
    "    Returns:\n",
    "        x_T: final state at t1\n",
    "    \"\"\"\n",
    "    dt = (t1 - t0) / steps\n",
    "    x = x0\n",
    "    t = t0\n",
    "    for _ in range(steps):\n",
    "        x = rk4_step(f, x, t, dt)\n",
    "        t += dt\n",
    "    return x\n",
    "\n",
    "def velocity_wrapper(model):\n",
    "    \"\"\"\n",
    "    Returns a callable f(t, x, y) to integrate with RK4\n",
    "    \"\"\"\n",
    "    def f(t, x):\n",
    "        if x.dim() == 1:\n",
    "            x = x.unsqueeze(0)\n",
    "        B = x.shape[0]\n",
    "        t_tensor = torch.ones(B, 1, device=x.device) * t\n",
    "        return model(x, t_tensor)\n",
    "    return f\n",
    "\n",
    "@torch.no_grad()\n",
    "def sample_from_flow(model, x0, t0=0.0, t1=1.0, steps=100):\n",
    "    f = velocity_wrapper(model)\n",
    "    return rk4_integrate(f, x0, t0, t1, steps)\n"
   ]
  },
  {
   "cell_type": "code",
   "execution_count": 155,
   "id": "df1195f1-8950-4728-ba27-2f06c8883a49",
   "metadata": {},
   "outputs": [],
   "source": [
    "# conv_flow_matching_loss(model, torch.randn_like(x), x)"
   ]
  },
  {
   "cell_type": "code",
   "execution_count": 156,
   "id": "6d0e453b-4467-40b1-a59a-6805cd5032ee",
   "metadata": {},
   "outputs": [],
   "source": [
    "from tqdm.notebook import trange, tqdm"
   ]
  },
  {
   "cell_type": "code",
   "execution_count": 157,
   "id": "967b0faa-1f26-4660-a0eb-cbd144988bd9",
   "metadata": {},
   "outputs": [],
   "source": [
    "device = torch.device(\"cuda\" if torch.cuda.is_available() else \"cpu\")"
   ]
  },
  {
   "cell_type": "code",
   "execution_count": 158,
   "id": "bd813a62-d830-4cc7-aa7c-4885e30576d0",
   "metadata": {},
   "outputs": [
    {
     "data": {
      "application/vnd.jupyter.widget-view+json": {
       "model_id": "129a8e15314145a7bae5a25c79c75dfc",
       "version_major": 2,
       "version_minor": 0
      },
      "text/plain": [
       "  0%|          | 0/10 [00:00<?, ?it/s]"
      ]
     },
     "metadata": {},
     "output_type": "display_data"
    },
    {
     "data": {
      "application/vnd.jupyter.widget-view+json": {
       "model_id": "83f350c751ab4a6281c8398b02a4b6b8",
       "version_major": 2,
       "version_minor": 0
      },
      "text/plain": [
       "  0%|          | 0/938 [00:00<?, ?it/s]"
      ]
     },
     "metadata": {},
     "output_type": "display_data"
    },
    {
     "name": "stdout",
     "output_type": "stream",
     "text": [
      "tensor(0.6665, device='cuda:0')\n"
     ]
    },
    {
     "data": {
      "application/vnd.jupyter.widget-view+json": {
       "model_id": "b191e9f4cb8b47fe900d328a5c35a1c8",
       "version_major": 2,
       "version_minor": 0
      },
      "text/plain": [
       "  0%|          | 0/938 [00:00<?, ?it/s]"
      ]
     },
     "metadata": {},
     "output_type": "display_data"
    },
    {
     "name": "stdout",
     "output_type": "stream",
     "text": [
      "tensor(0.6441, device='cuda:0')\n",
      "tensor(0.5946, device='cuda:0')\n"
     ]
    },
    {
     "data": {
      "application/vnd.jupyter.widget-view+json": {
       "model_id": "0087c84ca970422083f4fb5854beccb8",
       "version_major": 2,
       "version_minor": 0
      },
      "text/plain": [
       "  0%|          | 0/938 [00:00<?, ?it/s]"
      ]
     },
     "metadata": {},
     "output_type": "display_data"
    },
    {
     "name": "stdout",
     "output_type": "stream",
     "text": [
      "tensor(0.6087, device='cuda:0')\n",
      "tensor(0.6145, device='cuda:0')\n"
     ]
    },
    {
     "data": {
      "application/vnd.jupyter.widget-view+json": {
       "model_id": "99437c779de54fdb9e2341923dd0b90d",
       "version_major": 2,
       "version_minor": 0
      },
      "text/plain": [
       "  0%|          | 0/938 [00:00<?, ?it/s]"
      ]
     },
     "metadata": {},
     "output_type": "display_data"
    },
    {
     "name": "stdout",
     "output_type": "stream",
     "text": [
      "tensor(0.5943, device='cuda:0')\n",
      "tensor(0.6073, device='cuda:0')\n"
     ]
    },
    {
     "data": {
      "application/vnd.jupyter.widget-view+json": {
       "model_id": "81f549ac752848e48a9c191a12a7f5cf",
       "version_major": 2,
       "version_minor": 0
      },
      "text/plain": [
       "  0%|          | 0/938 [00:00<?, ?it/s]"
      ]
     },
     "metadata": {},
     "output_type": "display_data"
    },
    {
     "name": "stdout",
     "output_type": "stream",
     "text": [
      "tensor(0.5881, device='cuda:0')\n",
      "tensor(0.5584, device='cuda:0')\n"
     ]
    },
    {
     "data": {
      "application/vnd.jupyter.widget-view+json": {
       "model_id": "ad2607e74469489dbb4dd766c70fa999",
       "version_major": 2,
       "version_minor": 0
      },
      "text/plain": [
       "  0%|          | 0/938 [00:00<?, ?it/s]"
      ]
     },
     "metadata": {},
     "output_type": "display_data"
    },
    {
     "name": "stdout",
     "output_type": "stream",
     "text": [
      "tensor(0.5848, device='cuda:0')\n",
      "tensor(0.5803, device='cuda:0')\n"
     ]
    },
    {
     "data": {
      "application/vnd.jupyter.widget-view+json": {
       "model_id": "89c506bd52dc421fa066f811f280b9a8",
       "version_major": 2,
       "version_minor": 0
      },
      "text/plain": [
       "  0%|          | 0/938 [00:00<?, ?it/s]"
      ]
     },
     "metadata": {},
     "output_type": "display_data"
    },
    {
     "name": "stdout",
     "output_type": "stream",
     "text": [
      "tensor(0.5481, device='cuda:0')\n",
      "tensor(0.5901, device='cuda:0')\n"
     ]
    },
    {
     "data": {
      "application/vnd.jupyter.widget-view+json": {
       "model_id": "e2f0926059b84bc8bc3af13b21476d95",
       "version_major": 2,
       "version_minor": 0
      },
      "text/plain": [
       "  0%|          | 0/938 [00:00<?, ?it/s]"
      ]
     },
     "metadata": {},
     "output_type": "display_data"
    },
    {
     "name": "stdout",
     "output_type": "stream",
     "text": [
      "tensor(0.5564, device='cuda:0')\n",
      "tensor(0.5813, device='cuda:0')\n"
     ]
    },
    {
     "data": {
      "application/vnd.jupyter.widget-view+json": {
       "model_id": "7785af73104140f1926386e0caf61dc9",
       "version_major": 2,
       "version_minor": 0
      },
      "text/plain": [
       "  0%|          | 0/938 [00:00<?, ?it/s]"
      ]
     },
     "metadata": {},
     "output_type": "display_data"
    },
    {
     "name": "stdout",
     "output_type": "stream",
     "text": [
      "tensor(0.5759, device='cuda:0')\n"
     ]
    },
    {
     "data": {
      "application/vnd.jupyter.widget-view+json": {
       "model_id": "a51b69a26f7b4d0fb8d74c99e1c177e1",
       "version_major": 2,
       "version_minor": 0
      },
      "text/plain": [
       "  0%|          | 0/938 [00:00<?, ?it/s]"
      ]
     },
     "metadata": {},
     "output_type": "display_data"
    },
    {
     "name": "stdout",
     "output_type": "stream",
     "text": [
      "tensor(0.5780, device='cuda:0')\n",
      "tensor(0.5476, device='cuda:0')\n"
     ]
    }
   ],
   "source": [
    "lr = 1e-3\n",
    "model = ConvUNetVelocityField(in_channels=1, base_channels=64, time_embed_dim=16, time_mlp_dim=128, depths=(1,1,2))\n",
    "model = model.cuda()\n",
    "optimizer = torch.optim.Adam(model.parameters(), lr=lr)\n",
    "\n",
    "k = 0\n",
    "for step in trange(10):\n",
    "    for x, y in tqdm(train_loader, leave = False):\n",
    "        x1 = x.cuda()\n",
    "        x0 = torch.randn_like(x1).cuda()\n",
    "        loss = conv_flow_matching_loss(model, x0, x1)\n",
    "        loss.backward()\n",
    "        optimizer.step()\n",
    "        optimizer.zero_grad()\n",
    "\n",
    "        k += 1\n",
    "        if k % 500 == 0: \n",
    "            print(loss.detach())\n",
    "      # add_sgmcmc_noise(model, lr=lr, noise_scale=1e-3)k += 1\n"
   ]
  },
  {
   "cell_type": "code",
   "execution_count": 159,
   "id": "3daf4613-728c-47be-9028-af7d88e22e01",
   "metadata": {},
   "outputs": [],
   "source": [
    "def sgmcmc_sample(model, lr, noise_scale=1.0):\n",
    "  import copy\n",
    "  model_samp = copy.deepcopy(model)\n",
    "  for p in model_samp.parameters():\n",
    "    noise = torch.randn_like(p) * torch.sqrt(torch.tensor(2.0 * lr)) * noise_scale\n",
    "    p.data.add_(noise)\n",
    "  return model_samp"
   ]
  },
  {
   "cell_type": "code",
   "execution_count": 111,
   "id": "e184da1b-eeaa-4d76-b457-5e9a035cf760",
   "metadata": {},
   "outputs": [],
   "source": [
    "# lr = 1e-3\n",
    "\n",
    "# model_samp = sgmcmc_sample(model, lr, noise_scale=1.0)\n",
    "# x1_samp1 = sample_from_flow(model_samp, torch.randn(1000, 1), 0*torch.randn(1000, 1))"
   ]
  },
  {
   "cell_type": "code",
   "execution_count": 166,
   "id": "c88dd8ea-575d-43f0-aa1d-f1d5ffbe8f9d",
   "metadata": {},
   "outputs": [
    {
     "data": {
      "image/png": "[encoded data removed]",
      "text/plain": [
       "<Figure size 1000x400 with 4 Axes>"
      ]
     },
     "metadata": {},
     "output_type": "display_data"
    }
   ],
   "source": [
    "x1_samp = sample_from_flow(model, torch.randn_like(x1).cuda())\n",
    "\n",
    "fig, ax = plt.subplots(1, 4, constrained_layout = True, figsize = (10, 4))\n",
    "ax[0].imshow(x1_samp[0,0].cpu(), cmap = 'binary')\n",
    "ax[1].imshow(x1_samp[1,0].cpu(), cmap = 'binary')\n",
    "ax[2].imshow(x1_samp[2,0].cpu(), cmap = 'binary')\n",
    "ax[3].imshow(x1_samp[3,0].cpu(), cmap = 'binary')\n",
    "plt.show()"
   ]
  },
  {
   "cell_type": "code",
   "execution_count": 189,
   "id": "d00d362f-579f-435a-a6b2-cde54ad84d8e",
   "metadata": {},
   "outputs": [
    {
     "data": {
      "application/vnd.jupyter.widget-view+json": {
       "model_id": "0f03128a92e54969a7955a722d02b4b1",
       "version_major": 2,
       "version_minor": 0
      },
      "text/plain": [
       "  0%|          | 0/25 [00:00<?, ?it/s]"
      ]
     },
     "metadata": {},
     "output_type": "display_data"
    },
    {
     "data": {
      "application/vnd.jupyter.widget-view+json": {
       "model_id": "ea243c95e71a4b639e306b45d1aa360b",
       "version_major": 2,
       "version_minor": 0
      },
      "text/plain": [
       "  0%|          | 0/938 [00:00<?, ?it/s]"
      ]
     },
     "metadata": {},
     "output_type": "display_data"
    },
    {
     "name": "stdout",
     "output_type": "stream",
     "text": [
      "tensor(0.3902, device='cuda:0')\n"
     ]
    },
    {
     "data": {
      "application/vnd.jupyter.widget-view+json": {
       "model_id": "bd9eacec245a4ef99ee5736dc6fb0547",
       "version_major": 2,
       "version_minor": 0
      },
      "text/plain": [
       "  0%|          | 0/938 [00:00<?, ?it/s]"
      ]
     },
     "metadata": {},
     "output_type": "display_data"
    },
    {
     "name": "stdout",
     "output_type": "stream",
     "text": [
      "tensor(0.3480, device='cuda:0')\n",
      "tensor(0.3313, device='cuda:0')\n"
     ]
    },
    {
     "data": {
      "application/vnd.jupyter.widget-view+json": {
       "model_id": "1a9e17c18c3345a0bba52125e77c2b88",
       "version_major": 2,
       "version_minor": 0
      },
      "text/plain": [
       "  0%|          | 0/938 [00:00<?, ?it/s]"
      ]
     },
     "metadata": {},
     "output_type": "display_data"
    },
    {
     "name": "stdout",
     "output_type": "stream",
     "text": [
      "tensor(0.3202, device='cuda:0')\n",
      "tensor(0.3403, device='cuda:0')\n"
     ]
    },
    {
     "data": {
      "application/vnd.jupyter.widget-view+json": {
       "model_id": "e48dd6054b4343ca84c1d77b31cdb8a0",
       "version_major": 2,
       "version_minor": 0
      },
      "text/plain": [
       "  0%|          | 0/938 [00:00<?, ?it/s]"
      ]
     },
     "metadata": {},
     "output_type": "display_data"
    },
    {
     "name": "stdout",
     "output_type": "stream",
     "text": [
      "tensor(0.3126, device='cuda:0')\n",
      "tensor(0.3571, device='cuda:0')\n"
     ]
    },
    {
     "data": {
      "application/vnd.jupyter.widget-view+json": {
       "model_id": "9f6ff69c79d04b8d906fdc0732e0448b",
       "version_major": 2,
       "version_minor": 0
      },
      "text/plain": [
       "  0%|          | 0/938 [00:00<?, ?it/s]"
      ]
     },
     "metadata": {},
     "output_type": "display_data"
    },
    {
     "name": "stdout",
     "output_type": "stream",
     "text": [
      "tensor(0.2889, device='cuda:0')\n",
      "tensor(0.2792, device='cuda:0')\n"
     ]
    },
    {
     "data": {
      "application/vnd.jupyter.widget-view+json": {
       "model_id": "3838220b4d0a4b43a63b15a7d474b792",
       "version_major": 2,
       "version_minor": 0
      },
      "text/plain": [
       "  0%|          | 0/938 [00:00<?, ?it/s]"
      ]
     },
     "metadata": {},
     "output_type": "display_data"
    },
    {
     "name": "stdout",
     "output_type": "stream",
     "text": [
      "tensor(0.3739, device='cuda:0')\n",
      "tensor(0.3253, device='cuda:0')\n"
     ]
    },
    {
     "data": {
      "application/vnd.jupyter.widget-view+json": {
       "model_id": "c782abeb380342f182956615e49873ed",
       "version_major": 2,
       "version_minor": 0
      },
      "text/plain": [
       "  0%|          | 0/938 [00:00<?, ?it/s]"
      ]
     },
     "metadata": {},
     "output_type": "display_data"
    },
    {
     "name": "stdout",
     "output_type": "stream",
     "text": [
      "tensor(0.2921, device='cuda:0')\n",
      "tensor(0.2648, device='cuda:0')\n"
     ]
    },
    {
     "data": {
      "application/vnd.jupyter.widget-view+json": {
       "model_id": "2edda99025664cd6b7a530710fcd9696",
       "version_major": 2,
       "version_minor": 0
      },
      "text/plain": [
       "  0%|          | 0/938 [00:00<?, ?it/s]"
      ]
     },
     "metadata": {},
     "output_type": "display_data"
    },
    {
     "name": "stdout",
     "output_type": "stream",
     "text": [
      "tensor(0.3264, device='cuda:0')\n",
      "tensor(0.2874, device='cuda:0')\n"
     ]
    },
    {
     "data": {
      "application/vnd.jupyter.widget-view+json": {
       "model_id": "0ae6ccb22f9b499da087807ed48734c8",
       "version_major": 2,
       "version_minor": 0
      },
      "text/plain": [
       "  0%|          | 0/938 [00:00<?, ?it/s]"
      ]
     },
     "metadata": {},
     "output_type": "display_data"
    },
    {
     "name": "stdout",
     "output_type": "stream",
     "text": [
      "tensor(0.3321, device='cuda:0')\n"
     ]
    },
    {
     "data": {
      "application/vnd.jupyter.widget-view+json": {
       "model_id": "6c0338e1714748c3a62f67ec9af3f764",
       "version_major": 2,
       "version_minor": 0
      },
      "text/plain": [
       "  0%|          | 0/938 [00:00<?, ?it/s]"
      ]
     },
     "metadata": {},
     "output_type": "display_data"
    },
    {
     "name": "stdout",
     "output_type": "stream",
     "text": [
      "tensor(0.3225, device='cuda:0')\n",
      "tensor(0.3268, device='cuda:0')\n"
     ]
    },
    {
     "data": {
      "application/vnd.jupyter.widget-view+json": {
       "model_id": "631542a6a9f340ca85dff98a687e9de2",
       "version_major": 2,
       "version_minor": 0
      },
      "text/plain": [
       "  0%|          | 0/938 [00:00<?, ?it/s]"
      ]
     },
     "metadata": {},
     "output_type": "display_data"
    },
    {
     "name": "stdout",
     "output_type": "stream",
     "text": [
      "tensor(0.2913, device='cuda:0')\n",
      "tensor(0.3229, device='cuda:0')\n"
     ]
    },
    {
     "data": {
      "application/vnd.jupyter.widget-view+json": {
       "model_id": "5673d36a4222452583a6624d13274449",
       "version_major": 2,
       "version_minor": 0
      },
      "text/plain": [
       "  0%|          | 0/938 [00:00<?, ?it/s]"
      ]
     },
     "metadata": {},
     "output_type": "display_data"
    },
    {
     "name": "stdout",
     "output_type": "stream",
     "text": [
      "tensor(0.3039, device='cuda:0')\n",
      "tensor(0.4272, device='cuda:0')\n"
     ]
    },
    {
     "data": {
      "application/vnd.jupyter.widget-view+json": {
       "model_id": "a68c300c06ec4a3295e5656cd947e52e",
       "version_major": 2,
       "version_minor": 0
      },
      "text/plain": [
       "  0%|          | 0/938 [00:00<?, ?it/s]"
      ]
     },
     "metadata": {},
     "output_type": "display_data"
    },
    {
     "name": "stdout",
     "output_type": "stream",
     "text": [
      "tensor(0.3166, device='cuda:0')\n",
      "tensor(0.3244, device='cuda:0')\n"
     ]
    },
    {
     "data": {
      "application/vnd.jupyter.widget-view+json": {
       "model_id": "003b40ab32574eb4bb24f9c91cf8bcd1",
       "version_major": 2,
       "version_minor": 0
      },
      "text/plain": [
       "  0%|          | 0/938 [00:00<?, ?it/s]"
      ]
     },
     "metadata": {},
     "output_type": "display_data"
    },
    {
     "name": "stdout",
     "output_type": "stream",
     "text": [
      "tensor(0.3129, device='cuda:0')\n",
      "tensor(0.3114, device='cuda:0')\n"
     ]
    },
    {
     "data": {
      "application/vnd.jupyter.widget-view+json": {
       "model_id": "3542631692874a2b8057a944fce479b0",
       "version_major": 2,
       "version_minor": 0
      },
      "text/plain": [
       "  0%|          | 0/938 [00:00<?, ?it/s]"
      ]
     },
     "metadata": {},
     "output_type": "display_data"
    },
    {
     "name": "stdout",
     "output_type": "stream",
     "text": [
      "tensor(0.3299, device='cuda:0')\n",
      "tensor(1.9206, device='cuda:0')\n"
     ]
    },
    {
     "data": {
      "application/vnd.jupyter.widget-view+json": {
       "model_id": "a4229fe6cfed45ccbec54bd9a27fdcf6",
       "version_major": 2,
       "version_minor": 0
      },
      "text/plain": [
       "  0%|          | 0/938 [00:00<?, ?it/s]"
      ]
     },
     "metadata": {},
     "output_type": "display_data"
    },
    {
     "name": "stdout",
     "output_type": "stream",
     "text": [
      "tensor(2.0195, device='cuda:0')\n"
     ]
    },
    {
     "ename": "KeyboardInterrupt",
     "evalue": "",
     "output_type": "error",
     "traceback": [
      "\u001b[0;31m---------------------------------------------------------------------------\u001b[0m",
      "\u001b[0;31mKeyboardInterrupt\u001b[0m                         Traceback (most recent call last)",
      "Cell \u001b[0;32mIn[189], line 13\u001b[0m\n\u001b[1;32m     11\u001b[0m loss \u001b[38;5;241m=\u001b[39m conv_flow_matching_loss(model, x0, x1)\n\u001b[1;32m     12\u001b[0m loss\u001b[38;5;241m.\u001b[39mbackward()\n\u001b[0;32m---> 13\u001b[0m \u001b[43moptimizer\u001b[49m\u001b[38;5;241;43m.\u001b[39;49m\u001b[43mstep\u001b[49m\u001b[43m(\u001b[49m\u001b[43m)\u001b[49m\n\u001b[1;32m     14\u001b[0m optimizer\u001b[38;5;241m.\u001b[39mzero_grad()\n\u001b[1;32m     16\u001b[0m k \u001b[38;5;241m+\u001b[39m\u001b[38;5;241m=\u001b[39m \u001b[38;5;241m1\u001b[39m\n",
      "File \u001b[0;32m~/climate/lib/python3.12/site-packages/torch/optim/optimizer.py:493\u001b[0m, in \u001b[0;36mOptimizer.profile_hook_step.<locals>.wrapper\u001b[0;34m(*args, **kwargs)\u001b[0m\n\u001b[1;32m    488\u001b[0m         \u001b[38;5;28;01melse\u001b[39;00m:\n\u001b[1;32m    489\u001b[0m             \u001b[38;5;28;01mraise\u001b[39;00m \u001b[38;5;167;01mRuntimeError\u001b[39;00m(\n\u001b[1;32m    490\u001b[0m                 \u001b[38;5;124mf\u001b[39m\u001b[38;5;124m\"\u001b[39m\u001b[38;5;132;01m{\u001b[39;00mfunc\u001b[38;5;132;01m}\u001b[39;00m\u001b[38;5;124m must return None or a tuple of (new_args, new_kwargs), but got \u001b[39m\u001b[38;5;132;01m{\u001b[39;00mresult\u001b[38;5;132;01m}\u001b[39;00m\u001b[38;5;124m.\u001b[39m\u001b[38;5;124m\"\u001b[39m\n\u001b[1;32m    491\u001b[0m             )\n\u001b[0;32m--> 493\u001b[0m out \u001b[38;5;241m=\u001b[39m \u001b[43mfunc\u001b[49m\u001b[43m(\u001b[49m\u001b[38;5;241;43m*\u001b[39;49m\u001b[43margs\u001b[49m\u001b[43m,\u001b[49m\u001b[43m \u001b[49m\u001b[38;5;241;43m*\u001b[39;49m\u001b[38;5;241;43m*\u001b[39;49m\u001b[43mkwargs\u001b[49m\u001b[43m)\u001b[49m\n\u001b[1;32m    494\u001b[0m \u001b[38;5;28mself\u001b[39m\u001b[38;5;241m.\u001b[39m_optimizer_step_code()\n\u001b[1;32m    496\u001b[0m \u001b[38;5;66;03m# call optimizer step post hooks\u001b[39;00m\n",
      "File \u001b[0;32m~/climate/lib/python3.12/site-packages/torch/optim/optimizer.py:91\u001b[0m, in \u001b[0;36m_use_grad_for_differentiable.<locals>._use_grad\u001b[0;34m(self, *args, **kwargs)\u001b[0m\n\u001b[1;32m     89\u001b[0m     torch\u001b[38;5;241m.\u001b[39mset_grad_enabled(\u001b[38;5;28mself\u001b[39m\u001b[38;5;241m.\u001b[39mdefaults[\u001b[38;5;124m\"\u001b[39m\u001b[38;5;124mdifferentiable\u001b[39m\u001b[38;5;124m\"\u001b[39m])\n\u001b[1;32m     90\u001b[0m     torch\u001b[38;5;241m.\u001b[39m_dynamo\u001b[38;5;241m.\u001b[39mgraph_break()\n\u001b[0;32m---> 91\u001b[0m     ret \u001b[38;5;241m=\u001b[39m \u001b[43mfunc\u001b[49m\u001b[43m(\u001b[49m\u001b[38;5;28;43mself\u001b[39;49m\u001b[43m,\u001b[49m\u001b[43m \u001b[49m\u001b[38;5;241;43m*\u001b[39;49m\u001b[43margs\u001b[49m\u001b[43m,\u001b[49m\u001b[43m \u001b[49m\u001b[38;5;241;43m*\u001b[39;49m\u001b[38;5;241;43m*\u001b[39;49m\u001b[43mkwargs\u001b[49m\u001b[43m)\u001b[49m\n\u001b[1;32m     92\u001b[0m \u001b[38;5;28;01mfinally\u001b[39;00m:\n\u001b[1;32m     93\u001b[0m     torch\u001b[38;5;241m.\u001b[39m_dynamo\u001b[38;5;241m.\u001b[39mgraph_break()\n",
      "File \u001b[0;32m~/climate/lib/python3.12/site-packages/torch/optim/adam.py:244\u001b[0m, in \u001b[0;36mAdam.step\u001b[0;34m(self, closure)\u001b[0m\n\u001b[1;32m    232\u001b[0m     beta1, beta2 \u001b[38;5;241m=\u001b[39m group[\u001b[38;5;124m\"\u001b[39m\u001b[38;5;124mbetas\u001b[39m\u001b[38;5;124m\"\u001b[39m]\n\u001b[1;32m    234\u001b[0m     has_complex \u001b[38;5;241m=\u001b[39m \u001b[38;5;28mself\u001b[39m\u001b[38;5;241m.\u001b[39m_init_group(\n\u001b[1;32m    235\u001b[0m         group,\n\u001b[1;32m    236\u001b[0m         params_with_grad,\n\u001b[0;32m   (...)\u001b[0m\n\u001b[1;32m    241\u001b[0m         state_steps,\n\u001b[1;32m    242\u001b[0m     )\n\u001b[0;32m--> 244\u001b[0m     \u001b[43madam\u001b[49m\u001b[43m(\u001b[49m\n\u001b[1;32m    245\u001b[0m \u001b[43m        \u001b[49m\u001b[43mparams_with_grad\u001b[49m\u001b[43m,\u001b[49m\n\u001b[1;32m    246\u001b[0m \u001b[43m        \u001b[49m\u001b[43mgrads\u001b[49m\u001b[43m,\u001b[49m\n\u001b[1;32m    247\u001b[0m \u001b[43m        \u001b[49m\u001b[43mexp_avgs\u001b[49m\u001b[43m,\u001b[49m\n\u001b[1;32m    248\u001b[0m \u001b[43m        \u001b[49m\u001b[43mexp_avg_sqs\u001b[49m\u001b[43m,\u001b[49m\n\u001b[1;32m    249\u001b[0m \u001b[43m        \u001b[49m\u001b[43mmax_exp_avg_sqs\u001b[49m\u001b[43m,\u001b[49m\n\u001b[1;32m    250\u001b[0m \u001b[43m        \u001b[49m\u001b[43mstate_steps\u001b[49m\u001b[43m,\u001b[49m\n\u001b[1;32m    251\u001b[0m \u001b[43m        \u001b[49m\u001b[43mamsgrad\u001b[49m\u001b[38;5;241;43m=\u001b[39;49m\u001b[43mgroup\u001b[49m\u001b[43m[\u001b[49m\u001b[38;5;124;43m\"\u001b[39;49m\u001b[38;5;124;43mamsgrad\u001b[39;49m\u001b[38;5;124;43m\"\u001b[39;49m\u001b[43m]\u001b[49m\u001b[43m,\u001b[49m\n\u001b[1;32m    252\u001b[0m \u001b[43m        \u001b[49m\u001b[43mhas_complex\u001b[49m\u001b[38;5;241;43m=\u001b[39;49m\u001b[43mhas_complex\u001b[49m\u001b[43m,\u001b[49m\n\u001b[1;32m    253\u001b[0m \u001b[43m        \u001b[49m\u001b[43mbeta1\u001b[49m\u001b[38;5;241;43m=\u001b[39;49m\u001b[43mbeta1\u001b[49m\u001b[43m,\u001b[49m\n\u001b[1;32m    254\u001b[0m \u001b[43m        \u001b[49m\u001b[43mbeta2\u001b[49m\u001b[38;5;241;43m=\u001b[39;49m\u001b[43mbeta2\u001b[49m\u001b[43m,\u001b[49m\n\u001b[1;32m    255\u001b[0m \u001b[43m        \u001b[49m\u001b[43mlr\u001b[49m\u001b[38;5;241;43m=\u001b[39;49m\u001b[43mgroup\u001b[49m\u001b[43m[\u001b[49m\u001b[38;5;124;43m\"\u001b[39;49m\u001b[38;5;124;43mlr\u001b[39;49m\u001b[38;5;124;43m\"\u001b[39;49m\u001b[43m]\u001b[49m\u001b[43m,\u001b[49m\n\u001b[1;32m    256\u001b[0m \u001b[43m        \u001b[49m\u001b[43mweight_decay\u001b[49m\u001b[38;5;241;43m=\u001b[39;49m\u001b[43mgroup\u001b[49m\u001b[43m[\u001b[49m\u001b[38;5;124;43m\"\u001b[39;49m\u001b[38;5;124;43mweight_decay\u001b[39;49m\u001b[38;5;124;43m\"\u001b[39;49m\u001b[43m]\u001b[49m\u001b[43m,\u001b[49m\n\u001b[1;32m    257\u001b[0m \u001b[43m        \u001b[49m\u001b[43meps\u001b[49m\u001b[38;5;241;43m=\u001b[39;49m\u001b[43mgroup\u001b[49m\u001b[43m[\u001b[49m\u001b[38;5;124;43m\"\u001b[39;49m\u001b[38;5;124;43meps\u001b[39;49m\u001b[38;5;124;43m\"\u001b[39;49m\u001b[43m]\u001b[49m\u001b[43m,\u001b[49m\n\u001b[1;32m    258\u001b[0m \u001b[43m        \u001b[49m\u001b[43mmaximize\u001b[49m\u001b[38;5;241;43m=\u001b[39;49m\u001b[43mgroup\u001b[49m\u001b[43m[\u001b[49m\u001b[38;5;124;43m\"\u001b[39;49m\u001b[38;5;124;43mmaximize\u001b[39;49m\u001b[38;5;124;43m\"\u001b[39;49m\u001b[43m]\u001b[49m\u001b[43m,\u001b[49m\n\u001b[1;32m    259\u001b[0m \u001b[43m        \u001b[49m\u001b[43mforeach\u001b[49m\u001b[38;5;241;43m=\u001b[39;49m\u001b[43mgroup\u001b[49m\u001b[43m[\u001b[49m\u001b[38;5;124;43m\"\u001b[39;49m\u001b[38;5;124;43mforeach\u001b[39;49m\u001b[38;5;124;43m\"\u001b[39;49m\u001b[43m]\u001b[49m\u001b[43m,\u001b[49m\n\u001b[1;32m    260\u001b[0m \u001b[43m        \u001b[49m\u001b[43mcapturable\u001b[49m\u001b[38;5;241;43m=\u001b[39;49m\u001b[43mgroup\u001b[49m\u001b[43m[\u001b[49m\u001b[38;5;124;43m\"\u001b[39;49m\u001b[38;5;124;43mcapturable\u001b[39;49m\u001b[38;5;124;43m\"\u001b[39;49m\u001b[43m]\u001b[49m\u001b[43m,\u001b[49m\n\u001b[1;32m    261\u001b[0m \u001b[43m        \u001b[49m\u001b[43mdifferentiable\u001b[49m\u001b[38;5;241;43m=\u001b[39;49m\u001b[43mgroup\u001b[49m\u001b[43m[\u001b[49m\u001b[38;5;124;43m\"\u001b[39;49m\u001b[38;5;124;43mdifferentiable\u001b[39;49m\u001b[38;5;124;43m\"\u001b[39;49m\u001b[43m]\u001b[49m\u001b[43m,\u001b[49m\n\u001b[1;32m    262\u001b[0m \u001b[43m        \u001b[49m\u001b[43mfused\u001b[49m\u001b[38;5;241;43m=\u001b[39;49m\u001b[43mgroup\u001b[49m\u001b[43m[\u001b[49m\u001b[38;5;124;43m\"\u001b[39;49m\u001b[38;5;124;43mfused\u001b[39;49m\u001b[38;5;124;43m\"\u001b[39;49m\u001b[43m]\u001b[49m\u001b[43m,\u001b[49m\n\u001b[1;32m    263\u001b[0m \u001b[43m        \u001b[49m\u001b[43mgrad_scale\u001b[49m\u001b[38;5;241;43m=\u001b[39;49m\u001b[38;5;28;43mgetattr\u001b[39;49m\u001b[43m(\u001b[49m\u001b[38;5;28;43mself\u001b[39;49m\u001b[43m,\u001b[49m\u001b[43m \u001b[49m\u001b[38;5;124;43m\"\u001b[39;49m\u001b[38;5;124;43mgrad_scale\u001b[39;49m\u001b[38;5;124;43m\"\u001b[39;49m\u001b[43m,\u001b[49m\u001b[43m \u001b[49m\u001b[38;5;28;43;01mNone\u001b[39;49;00m\u001b[43m)\u001b[49m\u001b[43m,\u001b[49m\n\u001b[1;32m    264\u001b[0m \u001b[43m        \u001b[49m\u001b[43mfound_inf\u001b[49m\u001b[38;5;241;43m=\u001b[39;49m\u001b[38;5;28;43mgetattr\u001b[39;49m\u001b[43m(\u001b[49m\u001b[38;5;28;43mself\u001b[39;49m\u001b[43m,\u001b[49m\u001b[43m \u001b[49m\u001b[38;5;124;43m\"\u001b[39;49m\u001b[38;5;124;43mfound_inf\u001b[39;49m\u001b[38;5;124;43m\"\u001b[39;49m\u001b[43m,\u001b[49m\u001b[43m \u001b[49m\u001b[38;5;28;43;01mNone\u001b[39;49;00m\u001b[43m)\u001b[49m\u001b[43m,\u001b[49m\n\u001b[1;32m    265\u001b[0m \u001b[43m    \u001b[49m\u001b[43m)\u001b[49m\n\u001b[1;32m    267\u001b[0m \u001b[38;5;28;01mreturn\u001b[39;00m loss\n",
      "File \u001b[0;32m~/climate/lib/python3.12/site-packages/torch/optim/optimizer.py:154\u001b[0m, in \u001b[0;36m_disable_dynamo_if_unsupported.<locals>.wrapper.<locals>.maybe_fallback\u001b[0;34m(*args, **kwargs)\u001b[0m\n\u001b[1;32m    152\u001b[0m     \u001b[38;5;28;01mreturn\u001b[39;00m disabled_func(\u001b[38;5;241m*\u001b[39margs, \u001b[38;5;241m*\u001b[39m\u001b[38;5;241m*\u001b[39mkwargs)\n\u001b[1;32m    153\u001b[0m \u001b[38;5;28;01melse\u001b[39;00m:\n\u001b[0;32m--> 154\u001b[0m     \u001b[38;5;28;01mreturn\u001b[39;00m \u001b[43mfunc\u001b[49m\u001b[43m(\u001b[49m\u001b[38;5;241;43m*\u001b[39;49m\u001b[43margs\u001b[49m\u001b[43m,\u001b[49m\u001b[43m \u001b[49m\u001b[38;5;241;43m*\u001b[39;49m\u001b[38;5;241;43m*\u001b[39;49m\u001b[43mkwargs\u001b[49m\u001b[43m)\u001b[49m\n",
      "File \u001b[0;32m~/climate/lib/python3.12/site-packages/torch/optim/adam.py:876\u001b[0m, in \u001b[0;36madam\u001b[0;34m(params, grads, exp_avgs, exp_avg_sqs, max_exp_avg_sqs, state_steps, foreach, capturable, differentiable, fused, grad_scale, found_inf, has_complex, amsgrad, beta1, beta2, lr, weight_decay, eps, maximize)\u001b[0m\n\u001b[1;32m    873\u001b[0m \u001b[38;5;28;01melse\u001b[39;00m:\n\u001b[1;32m    874\u001b[0m     func \u001b[38;5;241m=\u001b[39m _single_tensor_adam\n\u001b[0;32m--> 876\u001b[0m \u001b[43mfunc\u001b[49m\u001b[43m(\u001b[49m\n\u001b[1;32m    877\u001b[0m \u001b[43m    \u001b[49m\u001b[43mparams\u001b[49m\u001b[43m,\u001b[49m\n\u001b[1;32m    878\u001b[0m \u001b[43m    \u001b[49m\u001b[43mgrads\u001b[49m\u001b[43m,\u001b[49m\n\u001b[1;32m    879\u001b[0m \u001b[43m    \u001b[49m\u001b[43mexp_avgs\u001b[49m\u001b[43m,\u001b[49m\n\u001b[1;32m    880\u001b[0m \u001b[43m    \u001b[49m\u001b[43mexp_avg_sqs\u001b[49m\u001b[43m,\u001b[49m\n\u001b[1;32m    881\u001b[0m \u001b[43m    \u001b[49m\u001b[43mmax_exp_avg_sqs\u001b[49m\u001b[43m,\u001b[49m\n\u001b[1;32m    882\u001b[0m \u001b[43m    \u001b[49m\u001b[43mstate_steps\u001b[49m\u001b[43m,\u001b[49m\n\u001b[1;32m    883\u001b[0m \u001b[43m    \u001b[49m\u001b[43mamsgrad\u001b[49m\u001b[38;5;241;43m=\u001b[39;49m\u001b[43mamsgrad\u001b[49m\u001b[43m,\u001b[49m\n\u001b[1;32m    884\u001b[0m \u001b[43m    \u001b[49m\u001b[43mhas_complex\u001b[49m\u001b[38;5;241;43m=\u001b[39;49m\u001b[43mhas_complex\u001b[49m\u001b[43m,\u001b[49m\n\u001b[1;32m    885\u001b[0m \u001b[43m    \u001b[49m\u001b[43mbeta1\u001b[49m\u001b[38;5;241;43m=\u001b[39;49m\u001b[43mbeta1\u001b[49m\u001b[43m,\u001b[49m\n\u001b[1;32m    886\u001b[0m \u001b[43m    \u001b[49m\u001b[43mbeta2\u001b[49m\u001b[38;5;241;43m=\u001b[39;49m\u001b[43mbeta2\u001b[49m\u001b[43m,\u001b[49m\n\u001b[1;32m    887\u001b[0m \u001b[43m    \u001b[49m\u001b[43mlr\u001b[49m\u001b[38;5;241;43m=\u001b[39;49m\u001b[43mlr\u001b[49m\u001b[43m,\u001b[49m\n\u001b[1;32m    888\u001b[0m \u001b[43m    \u001b[49m\u001b[43mweight_decay\u001b[49m\u001b[38;5;241;43m=\u001b[39;49m\u001b[43mweight_decay\u001b[49m\u001b[43m,\u001b[49m\n\u001b[1;32m    889\u001b[0m \u001b[43m    \u001b[49m\u001b[43meps\u001b[49m\u001b[38;5;241;43m=\u001b[39;49m\u001b[43meps\u001b[49m\u001b[43m,\u001b[49m\n\u001b[1;32m    890\u001b[0m \u001b[43m    \u001b[49m\u001b[43mmaximize\u001b[49m\u001b[38;5;241;43m=\u001b[39;49m\u001b[43mmaximize\u001b[49m\u001b[43m,\u001b[49m\n\u001b[1;32m    891\u001b[0m \u001b[43m    \u001b[49m\u001b[43mcapturable\u001b[49m\u001b[38;5;241;43m=\u001b[39;49m\u001b[43mcapturable\u001b[49m\u001b[43m,\u001b[49m\n\u001b[1;32m    892\u001b[0m \u001b[43m    \u001b[49m\u001b[43mdifferentiable\u001b[49m\u001b[38;5;241;43m=\u001b[39;49m\u001b[43mdifferentiable\u001b[49m\u001b[43m,\u001b[49m\n\u001b[1;32m    893\u001b[0m \u001b[43m    \u001b[49m\u001b[43mgrad_scale\u001b[49m\u001b[38;5;241;43m=\u001b[39;49m\u001b[43mgrad_scale\u001b[49m\u001b[43m,\u001b[49m\n\u001b[1;32m    894\u001b[0m \u001b[43m    \u001b[49m\u001b[43mfound_inf\u001b[49m\u001b[38;5;241;43m=\u001b[39;49m\u001b[43mfound_inf\u001b[49m\u001b[43m,\u001b[49m\n\u001b[1;32m    895\u001b[0m \u001b[43m\u001b[49m\u001b[43m)\u001b[49m\n",
      "File \u001b[0;32m~/climate/lib/python3.12/site-packages/torch/optim/adam.py:621\u001b[0m, in \u001b[0;36m_multi_tensor_adam\u001b[0;34m(params, grads, exp_avgs, exp_avg_sqs, max_exp_avg_sqs, state_steps, grad_scale, found_inf, amsgrad, has_complex, beta1, beta2, lr, weight_decay, eps, maximize, capturable, differentiable)\u001b[0m\n\u001b[1;32m    616\u001b[0m \u001b[38;5;66;03m# Decay the first and second moment running average coefficient\u001b[39;00m\n\u001b[1;32m    617\u001b[0m \u001b[38;5;66;03m# Use device beta1 if beta1 is a tensor to ensure all\u001b[39;00m\n\u001b[1;32m    618\u001b[0m \u001b[38;5;66;03m# tensors are on the same device\u001b[39;00m\n\u001b[1;32m    619\u001b[0m torch\u001b[38;5;241m.\u001b[39m_foreach_lerp_(device_exp_avgs, device_grads, \u001b[38;5;241m1\u001b[39m \u001b[38;5;241m-\u001b[39m device_beta1)\n\u001b[0;32m--> 621\u001b[0m \u001b[43mtorch\u001b[49m\u001b[38;5;241;43m.\u001b[39;49m\u001b[43m_foreach_mul_\u001b[49m\u001b[43m(\u001b[49m\u001b[43mdevice_exp_avg_sqs\u001b[49m\u001b[43m,\u001b[49m\u001b[43m \u001b[49m\u001b[43mbeta2\u001b[49m\u001b[43m)\u001b[49m\n\u001b[1;32m    623\u001b[0m \u001b[38;5;66;03m# Due to the strictness of the _foreach_addcmul API, we can't have a single\u001b[39;00m\n\u001b[1;32m    624\u001b[0m \u001b[38;5;66;03m# tensor scalar as the scalar arg (only python number is supported there)\u001b[39;00m\n\u001b[1;32m    625\u001b[0m \u001b[38;5;66;03m# as a result, separate out the value mul\u001b[39;00m\n\u001b[1;32m    626\u001b[0m \u001b[38;5;66;03m# Filed https://github.com/pytorch/pytorch/issues/139795\u001b[39;00m\n\u001b[1;32m    627\u001b[0m \u001b[38;5;28;01mif\u001b[39;00m \u001b[38;5;28misinstance\u001b[39m(beta2, torch\u001b[38;5;241m.\u001b[39mTensor):\n",
      "\u001b[0;31mKeyboardInterrupt\u001b[0m: "
     ]
    }
   ],
   "source": [
    "lr = 1e-3\n",
    "model = ConvVelocityField(in_channels=1, hidden_channels=128, time_embed_dim=64)\n",
    "model = model.cuda()\n",
    "optimizer = torch.optim.Adam(model.parameters(), lr=lr)\n",
    "\n",
    "k = 0\n",
    "for step in trange(25):\n",
    "    for x, y in tqdm(train_loader, leave = False):\n",
    "        x1 = x.cuda()\n",
    "        x0 = torch.randn_like(x1).cuda()\n",
    "        loss = conv_flow_matching_loss(model, x0, x1)\n",
    "        loss.backward()\n",
    "        optimizer.step()\n",
    "        optimizer.zero_grad()\n",
    "\n",
    "        k += 1\n",
    "        if k % 500 == 0: \n",
    "            print(loss.detach())\n",
    "      # add_sgmcmc_noise(model, lr=lr, noise_scale=1e-3)k += 1"
   ]
  },
  {
   "cell_type": "code",
   "execution_count": 190,
   "id": "0a426bde-bd03-4bd2-ac60-28009b89b2e8",
   "metadata": {},
   "outputs": [
    {
     "data": {
      "image/png": "[encoded data removed]",
      "text/plain": [
       "<Figure size 1000x400 with 4 Axes>"
      ]
     },
     "metadata": {},
     "output_type": "display_data"
    }
   ],
   "source": [
    "x1_samp = sample_from_flow(model, torch.randn_like(x1).cuda())\n",
    "\n",
    "fig, ax = plt.subplots(1, 4, constrained_layout = True, figsize = (10, 4))\n",
    "ax[0].imshow(x1_samp[0,0].cpu(), cmap = 'binary')\n",
    "ax[1].imshow(x1_samp[1,0].cpu(), cmap = 'binary')\n",
    "ax[2].imshow(x1_samp[2,0].cpu(), cmap = 'binary')\n",
    "ax[3].imshow(x1_samp[3,0].cpu(), cmap = 'binary')\n",
    "plt.show()"
   ]
  },
  {
   "cell_type": "code",
   "execution_count": null,
   "id": "e5a0140e-065f-459b-8444-0ae69f102f5b",
   "metadata": {},
   "outputs": [],
   "source": []
  },
  {
   "cell_type": "code",
   "execution_count": 191,
   "id": "dbdfec61-90ef-4208-a985-41e4ed9818ec",
   "metadata": {},
   "outputs": [],
   "source": [
    "import torch.nn as nn\n",
    "import torch.nn.functional as F\n",
    "\n",
    "# -------------------------\n",
    "# Spectral conv (custom FNO)\n",
    "# -------------------------\n",
    "class SpectralConv2d(nn.Module):\n",
    "    def __init__(self, in_channels, out_channels, modes1, modes2):\n",
    "        super().__init__()\n",
    "        self.in_channels = in_channels\n",
    "        self.out_channels = out_channels\n",
    "        self.modes1 = modes1\n",
    "        self.modes2 = modes2\n",
    "\n",
    "        self.weight_real = nn.Parameter(\n",
    "            torch.randn(in_channels, out_channels, modes1, modes2) * 0.01\n",
    "        )\n",
    "        self.weight_imag = nn.Parameter(\n",
    "            torch.randn(in_channels, out_channels, modes1, modes2) * 0.01\n",
    "        )\n",
    "\n",
    "    def compl_mul2d(self, input_ft, w_real, w_imag):\n",
    "        weight = torch.complex(w_real, w_imag)\n",
    "        return torch.einsum(\"bixy,ioxy->boxy\", input_ft, weight)\n",
    "\n",
    "    def forward(self, x):\n",
    "        B, C, H, W = x.shape\n",
    "        x_ft = torch.fft.rfft2(x, norm=\"ortho\")\n",
    "        out_ft = torch.zeros(B, self.out_channels, H, W//2 + 1, dtype=torch.cfloat, device=x.device)\n",
    "\n",
    "        m1 = min(self.modes1, H)\n",
    "        m2 = min(self.modes2, W//2 + 1)\n",
    "        out_ft[:, :, :m1, :m2] = self.compl_mul2d(\n",
    "            x_ft[:, :, :m1, :m2],\n",
    "            self.weight_real[:, :, :m1, :m2],\n",
    "            self.weight_imag[:, :, :m1, :m2]\n",
    "        )\n",
    "\n",
    "        x_out = torch.fft.irfft2(out_ft, s=(H, W), norm=\"ortho\")\n",
    "        return x_out\n",
    "\n",
    "\n",
    "# -------------------------\n",
    "# Time embedding\n",
    "# -------------------------\n",
    "class TimeEmbed(nn.Module):\n",
    "    def __init__(self, time_embed_dim=16, hidden_dim=64):\n",
    "        super().__init__()\n",
    "        self.freqs = nn.Parameter(torch.linspace(1.0, 10.0, time_embed_dim), requires_grad=False)\n",
    "        self.mlp = nn.Sequential(\n",
    "            nn.Linear(time_embed_dim, hidden_dim),\n",
    "            nn.SiLU(),\n",
    "            nn.Linear(hidden_dim, hidden_dim),\n",
    "        )\n",
    "\n",
    "    def forward(self, t):\n",
    "        x = torch.sin(t * self.freqs)\n",
    "        return self.mlp(x)\n",
    "\n",
    "\n",
    "# -------------------------\n",
    "# Simple FNO block\n",
    "# -------------------------\n",
    "class FNOBlock(nn.Module):\n",
    "    def __init__(self, in_ch, out_ch, modes1, modes2, time_dim):\n",
    "        super().__init__()\n",
    "        self.spectral = SpectralConv2d(in_ch, out_ch, modes1, modes2)\n",
    "        self.pointwise = nn.Conv2d(in_ch, out_ch, kernel_size=1)\n",
    "        self.time_proj = nn.Linear(time_dim, out_ch)\n",
    "        self.norm = nn.GroupNorm(8, out_ch)\n",
    "        self.shortcut = nn.Identity() if in_ch == out_ch else nn.Conv2d(in_ch, out_ch, 1)\n",
    "\n",
    "    def forward(self, x, t_emb):\n",
    "        h = self.spectral(x) + self.pointwise(x)\n",
    "        h = h + self.time_proj(t_emb)[:, :, None, None]\n",
    "        h = self.norm(h)\n",
    "        h = F.silu(h)\n",
    "        return h + self.shortcut(x)\n",
    "\n",
    "\n",
    "# -------------------------\n",
    "# Velocity field with stacked FNO blocks\n",
    "# -------------------------\n",
    "class FNOVelocityField(nn.Module):\n",
    "    def __init__(self, in_channels=1, hidden_channels=64, time_embed_dim=16, modes1=12, modes2=12, num_layers=4):\n",
    "        super().__init__()\n",
    "        self.time_mlp = TimeEmbed(time_embed_dim=time_embed_dim, hidden_dim=hidden_channels)\n",
    "\n",
    "        layers = []\n",
    "        ch = in_channels\n",
    "        for i in range(num_layers):\n",
    "            layers.append(FNOBlock(ch, hidden_channels, modes1, modes2, hidden_channels))\n",
    "            ch = hidden_channels\n",
    "        self.fno_layers = nn.ModuleList(layers)\n",
    "\n",
    "        self.final = nn.Conv2d(hidden_channels, in_channels, kernel_size=1)\n",
    "\n",
    "    def forward(self, x_t, t):\n",
    "        t_emb = self.time_mlp(t)\n",
    "        h = x_t\n",
    "        for layer in self.fno_layers:\n",
    "            h = layer(h, t_emb)\n",
    "        return self.final(h)\n"
   ]
  },
  {
   "cell_type": "code",
   "execution_count": 203,
   "id": "d73fd8cb-b252-48f5-87fc-d0e50df2f25e",
   "metadata": {},
   "outputs": [
    {
     "data": {
      "application/vnd.jupyter.widget-view+json": {
       "model_id": "3f6fc4c296ed44e1b7eea894f8c250b3",
       "version_major": 2,
       "version_minor": 0
      },
      "text/plain": [
       "  0%|          | 0/5 [00:00<?, ?it/s]"
      ]
     },
     "metadata": {},
     "output_type": "display_data"
    },
    {
     "data": {
      "application/vnd.jupyter.widget-view+json": {
       "model_id": "56c62cac82f742da976742bb44c23f36",
       "version_major": 2,
       "version_minor": 0
      },
      "text/plain": [
       "  0%|          | 0/938 [00:00<?, ?it/s]"
      ]
     },
     "metadata": {},
     "output_type": "display_data"
    },
    {
     "name": "stdout",
     "output_type": "stream",
     "text": [
      "tensor(0.4769, device='cuda:0')\n"
     ]
    },
    {
     "data": {
      "application/vnd.jupyter.widget-view+json": {
       "model_id": "4d9f948a478e4d94ad424c5a515e69f2",
       "version_major": 2,
       "version_minor": 0
      },
      "text/plain": [
       "  0%|          | 0/938 [00:00<?, ?it/s]"
      ]
     },
     "metadata": {},
     "output_type": "display_data"
    },
    {
     "name": "stdout",
     "output_type": "stream",
     "text": [
      "tensor(0.4192, device='cuda:0')\n",
      "tensor(0.4255, device='cuda:0')\n"
     ]
    },
    {
     "data": {
      "application/vnd.jupyter.widget-view+json": {
       "model_id": "356bd3108eb6479a8eef8728229b6444",
       "version_major": 2,
       "version_minor": 0
      },
      "text/plain": [
       "  0%|          | 0/938 [00:00<?, ?it/s]"
      ]
     },
     "metadata": {},
     "output_type": "display_data"
    },
    {
     "name": "stdout",
     "output_type": "stream",
     "text": [
      "tensor(0.3863, device='cuda:0')\n",
      "tensor(0.4157, device='cuda:0')\n"
     ]
    },
    {
     "data": {
      "application/vnd.jupyter.widget-view+json": {
       "model_id": "00a825231d4842008f4a138ba6ace789",
       "version_major": 2,
       "version_minor": 0
      },
      "text/plain": [
       "  0%|          | 0/938 [00:00<?, ?it/s]"
      ]
     },
     "metadata": {},
     "output_type": "display_data"
    },
    {
     "name": "stdout",
     "output_type": "stream",
     "text": [
      "tensor(0.3711, device='cuda:0')\n",
      "tensor(0.4447, device='cuda:0')\n"
     ]
    },
    {
     "data": {
      "application/vnd.jupyter.widget-view+json": {
       "model_id": "7703e52ecb0b4152843a75e689f2bbb7",
       "version_major": 2,
       "version_minor": 0
      },
      "text/plain": [
       "  0%|          | 0/938 [00:00<?, ?it/s]"
      ]
     },
     "metadata": {},
     "output_type": "display_data"
    },
    {
     "name": "stdout",
     "output_type": "stream",
     "text": [
      "tensor(0.4111, device='cuda:0')\n",
      "tensor(0.3115, device='cuda:0')\n"
     ]
    }
   ],
   "source": [
    "lr = 1e-3\n",
    "model = FNOVelocityField(in_channels=1, modes1=16, modes2=16)\n",
    "model = model.cuda()\n",
    "optimizer = torch.optim.Adam(model.parameters(), lr=lr)\n",
    "\n",
    "k = 0\n",
    "for step in trange(5):\n",
    "    for x, y in tqdm(train_loader, leave = False):\n",
    "        x1 = x.cuda()\n",
    "        x0 = torch.randn_like(x1).cuda()\n",
    "        loss = conv_flow_matching_loss(model, x0, x1)\n",
    "        loss.backward()\n",
    "        optimizer.step()\n",
    "        optimizer.zero_grad()\n",
    "\n",
    "        k += 1\n",
    "        if k % 500 == 0: \n",
    "            print(loss.detach())"
   ]
  },
  {
   "cell_type": "code",
   "execution_count": 205,
   "id": "70aa1908-8075-4562-8b56-4007c18e3c32",
   "metadata": {},
   "outputs": [
    {
     "data": {
      "image/png": "[encoded data removed]",
      "text/plain": [
       "<Figure size 1000x400 with 4 Axes>"
      ]
     },
     "metadata": {},
     "output_type": "display_data"
    }
   ],
   "source": [
    "x1_samp = sample_from_flow(model, torch.randn_like(x1).cuda())\n",
    "\n",
    "fig, ax = plt.subplots(1, 4, constrained_layout = True, figsize = (10, 4))\n",
    "ax[0].imshow(x1_samp[0,0].cpu(), cmap = 'binary')\n",
    "ax[1].imshow(x1_samp[1,0].cpu(), cmap = 'binary')\n",
    "ax[2].imshow(x1_samp[2,0].cpu(), cmap = 'binary')\n",
    "ax[3].imshow(x1_samp[3,0].cpu(), cmap = 'binary')\n",
    "plt.show()"
   ]
  },
  {
   "cell_type": "code",
   "execution_count": null,
   "id": "efe46318-4b44-4dbd-a8b9-973b2735bc76",
   "metadata": {},
   "outputs": [],
   "source": []
  },
  {
   "cell_type": "code",
   "execution_count": 206,
   "id": "f2d187e0-256b-443d-8b62-c6d8f758d694",
   "metadata": {},
   "outputs": [],
   "source": [
    "class SpectralVelocityField(nn.Module):\n",
    "    def __init__(self, noise_dim, height, width, channels=1, hidden_dim=256):\n",
    "        super().__init__()\n",
    "        self.height = height\n",
    "        self.width = width\n",
    "        self.channels = channels\n",
    "        \n",
    "        # Output needs to be real+imaginary parts for each Fourier coefficient\n",
    "        output_dim = 2 * channels * height * width\n",
    "        \n",
    "        self.mlp = nn.Sequential(\n",
    "            nn.Linear(noise_dim, hidden_dim),\n",
    "            nn.ReLU(),\n",
    "            nn.Linear(hidden_dim, hidden_dim),\n",
    "            nn.ReLU(),\n",
    "            nn.Linear(hidden_dim, output_dim)\n",
    "        )\n",
    "        \n",
    "    def forward(self, z):\n",
    "        \"\"\"\n",
    "        z: [B, noise_dim]  -- white noise latent vector\n",
    "        Returns:\n",
    "            velocity_field: [B, C, H, W] in spatial domain\n",
    "        \"\"\"\n",
    "        B = z.size(0)\n",
    "        \n",
    "        coeffs = self.mlp(z)  # [B, 2*C*H*W]\n",
    "        coeffs = coeffs.view(B, self.channels, 2, self.height, self.width)\n",
    "        \n",
    "        # real and imaginary parts\n",
    "        real = coeffs[:, :, 0, :, :]\n",
    "        imag = coeffs[:, :, 1, :, :]\n",
    "        \n",
    "        # create complex tensor for Fourier domain\n",
    "        complex_coeffs = torch.complex(real, imag)\n",
    "        \n",
    "        # inverse FFT to get spatial domain velocity\n",
    "        velocity_field = torch.fft.ifft2(complex_coeffs, norm=\"ortho\").real\n",
    "        \n",
    "        return velocity_field"
   ]
  },
  {
   "cell_type": "code",
   "execution_count": null,
   "id": "0b83ded5-fa6d-4f4b-8842-069b78b11560",
   "metadata": {},
   "outputs": [],
   "source": [
    "lr = 1e-3\n",
    "model = FNOVelocityField(in_channels=1, modes1=16, modes2=16)\n",
    "model = model.cuda()\n",
    "optimizer = torch.optim.Adam(model.parameters(), lr=lr)\n",
    "\n",
    "k = 0\n",
    "for step in trange(5):\n",
    "    for x, y in tqdm(train_loader, leave = False):\n",
    "        x1 = x.cuda()\n",
    "        x0 = torch.randn_like(x1).cuda()\n",
    "        loss = conv_flow_matching_loss(model, x0, x1)\n",
    "        loss.backward()\n",
    "        optimizer.step()\n",
    "        optimizer.zero_grad()\n",
    "\n",
    "        k += 1\n",
    "        if k % 500 == 0: \n",
    "            print(loss.detach())"
   ]
  },
  {
   "cell_type": "code",
   "execution_count": 89,
   "id": "ea5b379a-de2c-43eb-a107-e2878e031450",
   "metadata": {},
   "outputs": [],
   "source": [
    "# lr = 1e-3\n",
    "# model = ConvUNetVelocityField(in_channels=1, base_channels=64, time_embed_dim=16, time_mlp_dim=128, depths=(1,1,2))\n",
    "# optimizer = torch.optim.Adam(model.parameters(), lr=lr)\n",
    "\n",
    "# for step in trange(1):\n",
    "#     for x, y in tqdm(train_loader, leave = False):\n",
    "#       x1 = x\n",
    "#       x0 = torch.randn_like(x1)\n",
    "#       loss, logs = CGM_loss(model, x0, x1, sym_weight=1e-1, eig_weight=1e-1)\n",
    "#       loss.backward()\n",
    "#       optimizer.step()\n",
    "#       optimizer.zero_grad()\n",
    "#       add_sgmcmc_noise(model, lr=lr, noise_scale=1.0)\n",
    "\n",
    "# #   if step % 100 == 0:\n",
    "# #     print(f\"[{step}] Loss: {loss.item():.4f} | FM: {logs['fm_loss']:.4f} | Reg: {logs['reg_penalty']:.4f}\")\n",
    "\n",
    "# # print(f\"[{step}] Loss: {loss.item():.4f} | FM: {logs['fm_loss']:.4f} | Reg: {logs['reg_penalty']:.4f}\")"
   ]
  },
  {
   "cell_type": "code",
   "execution_count": null,
   "id": "747b063b-0e8b-4fb3-965d-71767b272728",
   "metadata": {},
   "outputs": [],
   "source": []
  },
  {
   "cell_type": "code",
   "execution_count": 213,
   "id": "c2309aff-0216-44ec-9e02-081527dae449",
   "metadata": {},
   "outputs": [],
   "source": [
    "import torch\n",
    "import torch.nn as nn\n",
    "import torch.fft\n",
    "\n",
    "\n",
    "class LowFreqSpectralGeneratorHermitian(nn.Module):\n",
    "    def __init__(self,\n",
    "                 latent_dim,\n",
    "                 img_size,\n",
    "                 channels=1,\n",
    "                 modes=(8, 8),\n",
    "                 hidden_dim=256,\n",
    "                 time_embed_dim=16,\n",
    "                 time_mlp_dim=64):\n",
    "        \"\"\"\n",
    "        latent_dim: dimension of input noise vector z\n",
    "        img_size: (H, W) output spatial resolution\n",
    "        channels: number of output channels (C)\n",
    "        modes: tuple (mh, mw) number of low-frequency modes parameterized\n",
    "        hidden_dim: hidden size of the main MLP\n",
    "        time_embed_dim: number of sinusoidal frequency embeddings for time\n",
    "        time_mlp_dim: size of the time-MLP output that will be concatenated with z\n",
    "        \"\"\"\n",
    "        super().__init__()\n",
    "        self.latent_dim = latent_dim\n",
    "        self.H, self.W = img_size\n",
    "        self.C = channels\n",
    "        self.mh, self.mw = modes\n",
    "        self.time_embed_dim = time_embed_dim\n",
    "        self.time_mlp_dim = time_mlp_dim\n",
    "\n",
    "        # time freqs (fixed)\n",
    "        self.freqs = nn.Parameter(torch.linspace(1.0, 10.0, time_embed_dim), requires_grad=False)\n",
    "        # small MLP to process sinusoidal time features\n",
    "        self.time_mlp = nn.Sequential(\n",
    "            nn.Linear(time_embed_dim, time_mlp_dim),\n",
    "            nn.GELU(),\n",
    "            nn.Linear(time_mlp_dim, time_mlp_dim),\n",
    "            nn.GELU(),\n",
    "        )\n",
    "\n",
    "        # main MLP: input is latent z concatenated with time features\n",
    "        in_dim = latent_dim + time_mlp_dim\n",
    "        out_dim = 2 * channels * min(self.mh, self.H) * min(self.mw, self.W)  # real+imag for each low-mode\n",
    "        self.mlp = nn.Sequential(\n",
    "            nn.Linear(in_dim, hidden_dim),\n",
    "            nn.GELU(),\n",
    "            nn.Linear(hidden_dim, hidden_dim),\n",
    "            nn.GELU(),\n",
    "            nn.Linear(hidden_dim, out_dim)\n",
    "        )\n",
    "\n",
    "    def forward(self, z, t):\n",
    "        \"\"\"\n",
    "        z: [B, latent_dim]  -- white noise latent vector\n",
    "        t: [B, 1] or [B]    -- scalar time value(s) for each sample (broadcastable)\n",
    "        returns: [B, C, H, W] real-valued spatial output\n",
    "        \"\"\"\n",
    "        B = z.shape[0]\n",
    "        device = z.device\n",
    "        H, W, C = self.H, self.W, self.C\n",
    "\n",
    "        # normalize/reshape t to [B,1] if necessary\n",
    "        if t.dim() == 1:\n",
    "            t = t.unsqueeze(-1)\n",
    "        elif t.dim() == 2 and t.shape[1] != 1:\n",
    "            raise ValueError(\"t must be shape [B] or [B,1] (scalar time per sample)\")\n",
    "\n",
    "        # --- time embedding ---\n",
    "        # sin(t * freqs) -> [B, time_embed_dim]\n",
    "        # broadcasting: (B,1) * (time_embed_dim,) -> (B, time_embed_dim)\n",
    "        t_sin = torch.sin(t * self.freqs.to(device))\n",
    "        t_emb = self.time_mlp(t_sin)  # [B, time_mlp_dim]\n",
    "\n",
    "        # --- main MLP input ---\n",
    "        mlp_in = torch.cat([z, t_emb], dim=-1)  # [B, latent_dim + time_mlp_dim]\n",
    "        out = self.mlp(mlp_in)  # [B, out_dim]\n",
    "\n",
    "        # reshape into complex low-frequency block\n",
    "        mh_clamped = min(self.mh, H)\n",
    "        mw_clamped = min(self.mw, W)\n",
    "        expected_dim = 2 * C * mh_clamped * mw_clamped\n",
    "        if out.shape[-1] != expected_dim:\n",
    "            # safety check (shouldn't happen if constructor used same clamps)\n",
    "            raise RuntimeError(f\"MLP output dim {out.shape[-1]} != expected {expected_dim}\")\n",
    "\n",
    "        coeffs = out.view(B, C, 2, mh_clamped, mw_clamped)\n",
    "        real = coeffs[:, :, 0]  # [B, C, mh, mw]\n",
    "        imag = coeffs[:, :, 1]  # [B, C, mh, mw]\n",
    "        low_complex = torch.complex(real, imag)  # [B, C, mh, mw]\n",
    "\n",
    "        # Build full spectral grid and fill low-frequency block and Hermitian conjugates\n",
    "        spectral = torch.zeros(B, C, H, W, dtype=torch.cfloat, device=device)\n",
    "\n",
    "        # Fill top-left low-frequency block and mirrored negative frequencies\n",
    "        # (looping over modes is fine for moderate modes like 8..32)\n",
    "        for u in range(mh_clamped):\n",
    "            for v in range(mw_clamped):\n",
    "                coeff_uv = low_complex[:, :, u, v]  # [B, C] complex\n",
    "                spectral[:, :, u, v] = coeff_uv\n",
    "\n",
    "                cu = (-u) % H\n",
    "                cv = (-v) % W\n",
    "\n",
    "                if cu == u and cv == v:\n",
    "                    # self-conjugate (DC or Nyquist) must be purely real\n",
    "                    spectral[:, :, u, v] = torch.complex(coeff_uv.real, torch.zeros_like(coeff_uv.real))\n",
    "                else:\n",
    "                    spectral[:, :, cu, cv] = torch.conj(coeff_uv)\n",
    "\n",
    "        # inverse FFT -> spatial domain (Hermitian symmetry ensures real result)\n",
    "        spatial = torch.fft.ifft2(spectral, norm=\"ortho\").real  # [B, C, H, W]\n",
    "        return spatial\n",
    "\n",
    "\n",
    "# # -------------------------\n",
    "# # Example usage\n",
    "# # -------------------------\n",
    "# if __name__ == \"__main__\":\n",
    "#     latent_dim = 128\n",
    "#     model = LowFreqSpectralGeneratorHermitianWithTime(\n",
    "#         latent_dim=latent_dim,\n",
    "#         img_size=(28, 28),\n",
    "#         channels=1,\n",
    "#         modes=(6, 6),\n",
    "#         hidden_dim=512,\n",
    "#         time_embed_dim=16,\n",
    "#         time_mlp_dim=64\n",
    "#     )\n",
    "\n",
    "#     z = torch.randn(4, latent_dim)\n",
    "#     t = torch.rand(4, 1)  # time for each sample (e.g., between 0 and 1)\n",
    "#     out = model(z, t)\n",
    "#     print(out.shape)  # -> [4, 1, 28, 28]"
   ]
  },
  {
   "cell_type": "code",
   "execution_count": 214,
   "id": "fd7b07c4-bcf9-4beb-9d66-ac6c38b4c041",
   "metadata": {},
   "outputs": [
    {
     "data": {
      "application/vnd.jupyter.widget-view+json": {
       "model_id": "bffc2d7d0f42450d959e5ae76fddfe56",
       "version_major": 2,
       "version_minor": 0
      },
      "text/plain": [
       "  0%|          | 0/5 [00:00<?, ?it/s]"
      ]
     },
     "metadata": {},
     "output_type": "display_data"
    },
    {
     "data": {
      "application/vnd.jupyter.widget-view+json": {
       "model_id": "e44fc0b6a6084bd78c2c04249cdcf5a4",
       "version_major": 2,
       "version_minor": 0
      },
      "text/plain": [
       "  0%|          | 0/938 [00:00<?, ?it/s]"
      ]
     },
     "metadata": {},
     "output_type": "display_data"
    },
    {
     "ename": "RuntimeError",
     "evalue": "Tensors must have same number of dimensions: got 4 and 2",
     "output_type": "error",
     "traceback": [
      "\u001b[0;31m---------------------------------------------------------------------------\u001b[0m",
      "\u001b[0;31mRuntimeError\u001b[0m                              Traceback (most recent call last)",
      "Cell \u001b[0;32mIn[214], line 16\u001b[0m\n\u001b[1;32m     14\u001b[0m x1 \u001b[38;5;241m=\u001b[39m x\u001b[38;5;241m.\u001b[39mcuda()\n\u001b[1;32m     15\u001b[0m x0 \u001b[38;5;241m=\u001b[39m torch\u001b[38;5;241m.\u001b[39mrandn_like(x1)\u001b[38;5;241m.\u001b[39mcuda()\n\u001b[0;32m---> 16\u001b[0m loss \u001b[38;5;241m=\u001b[39m \u001b[43mconv_flow_matching_loss\u001b[49m\u001b[43m(\u001b[49m\u001b[43mmodel\u001b[49m\u001b[43m,\u001b[49m\u001b[43m \u001b[49m\u001b[43mx0\u001b[49m\u001b[43m,\u001b[49m\u001b[43m \u001b[49m\u001b[43mx1\u001b[49m\u001b[43m)\u001b[49m\n\u001b[1;32m     17\u001b[0m loss\u001b[38;5;241m.\u001b[39mbackward()\n\u001b[1;32m     18\u001b[0m optimizer\u001b[38;5;241m.\u001b[39mstep()\n",
      "Cell \u001b[0;32mIn[63], line 11\u001b[0m, in \u001b[0;36mconv_flow_matching_loss\u001b[0;34m(model, x0, x1)\u001b[0m\n\u001b[1;32m      9\u001b[0m x_t \u001b[38;5;241m=\u001b[39m (\u001b[38;5;241m1\u001b[39m \u001b[38;5;241m-\u001b[39m t_conv) \u001b[38;5;241m*\u001b[39m x0 \u001b[38;5;241m+\u001b[39m t_conv \u001b[38;5;241m*\u001b[39m x1\n\u001b[1;32m     10\u001b[0m v_target \u001b[38;5;241m=\u001b[39m x1 \u001b[38;5;241m-\u001b[39m x0\n\u001b[0;32m---> 11\u001b[0m v_pred \u001b[38;5;241m=\u001b[39m \u001b[43mmodel\u001b[49m\u001b[43m(\u001b[49m\u001b[43mx_t\u001b[49m\u001b[43m,\u001b[49m\u001b[43m \u001b[49m\u001b[43mt\u001b[49m\u001b[43m)\u001b[49m\n\u001b[1;32m     12\u001b[0m \u001b[38;5;28;01mreturn\u001b[39;00m F\u001b[38;5;241m.\u001b[39mmse_loss(v_pred, v_target)\n",
      "File \u001b[0;32m~/climate/lib/python3.12/site-packages/torch/nn/modules/module.py:1739\u001b[0m, in \u001b[0;36mModule._wrapped_call_impl\u001b[0;34m(self, *args, **kwargs)\u001b[0m\n\u001b[1;32m   1737\u001b[0m     \u001b[38;5;28;01mreturn\u001b[39;00m \u001b[38;5;28mself\u001b[39m\u001b[38;5;241m.\u001b[39m_compiled_call_impl(\u001b[38;5;241m*\u001b[39margs, \u001b[38;5;241m*\u001b[39m\u001b[38;5;241m*\u001b[39mkwargs)  \u001b[38;5;66;03m# type: ignore[misc]\u001b[39;00m\n\u001b[1;32m   1738\u001b[0m \u001b[38;5;28;01melse\u001b[39;00m:\n\u001b[0;32m-> 1739\u001b[0m     \u001b[38;5;28;01mreturn\u001b[39;00m \u001b[38;5;28;43mself\u001b[39;49m\u001b[38;5;241;43m.\u001b[39;49m\u001b[43m_call_impl\u001b[49m\u001b[43m(\u001b[49m\u001b[38;5;241;43m*\u001b[39;49m\u001b[43margs\u001b[49m\u001b[43m,\u001b[49m\u001b[43m \u001b[49m\u001b[38;5;241;43m*\u001b[39;49m\u001b[38;5;241;43m*\u001b[39;49m\u001b[43mkwargs\u001b[49m\u001b[43m)\u001b[49m\n",
      "File \u001b[0;32m~/climate/lib/python3.12/site-packages/torch/nn/modules/module.py:1750\u001b[0m, in \u001b[0;36mModule._call_impl\u001b[0;34m(self, *args, **kwargs)\u001b[0m\n\u001b[1;32m   1745\u001b[0m \u001b[38;5;66;03m# If we don't have any hooks, we want to skip the rest of the logic in\u001b[39;00m\n\u001b[1;32m   1746\u001b[0m \u001b[38;5;66;03m# this function, and just call forward.\u001b[39;00m\n\u001b[1;32m   1747\u001b[0m \u001b[38;5;28;01mif\u001b[39;00m \u001b[38;5;129;01mnot\u001b[39;00m (\u001b[38;5;28mself\u001b[39m\u001b[38;5;241m.\u001b[39m_backward_hooks \u001b[38;5;129;01mor\u001b[39;00m \u001b[38;5;28mself\u001b[39m\u001b[38;5;241m.\u001b[39m_backward_pre_hooks \u001b[38;5;129;01mor\u001b[39;00m \u001b[38;5;28mself\u001b[39m\u001b[38;5;241m.\u001b[39m_forward_hooks \u001b[38;5;129;01mor\u001b[39;00m \u001b[38;5;28mself\u001b[39m\u001b[38;5;241m.\u001b[39m_forward_pre_hooks\n\u001b[1;32m   1748\u001b[0m         \u001b[38;5;129;01mor\u001b[39;00m _global_backward_pre_hooks \u001b[38;5;129;01mor\u001b[39;00m _global_backward_hooks\n\u001b[1;32m   1749\u001b[0m         \u001b[38;5;129;01mor\u001b[39;00m _global_forward_hooks \u001b[38;5;129;01mor\u001b[39;00m _global_forward_pre_hooks):\n\u001b[0;32m-> 1750\u001b[0m     \u001b[38;5;28;01mreturn\u001b[39;00m \u001b[43mforward_call\u001b[49m\u001b[43m(\u001b[49m\u001b[38;5;241;43m*\u001b[39;49m\u001b[43margs\u001b[49m\u001b[43m,\u001b[49m\u001b[43m \u001b[49m\u001b[38;5;241;43m*\u001b[39;49m\u001b[38;5;241;43m*\u001b[39;49m\u001b[43mkwargs\u001b[49m\u001b[43m)\u001b[49m\n\u001b[1;32m   1752\u001b[0m result \u001b[38;5;241m=\u001b[39m \u001b[38;5;28;01mNone\u001b[39;00m\n\u001b[1;32m   1753\u001b[0m called_always_called_hooks \u001b[38;5;241m=\u001b[39m \u001b[38;5;28mset\u001b[39m()\n",
      "Cell \u001b[0;32mIn[213], line 76\u001b[0m, in \u001b[0;36mLowFreqSpectralGeneratorHermitian.forward\u001b[0;34m(self, z, t)\u001b[0m\n\u001b[1;32m     73\u001b[0m t_emb \u001b[38;5;241m=\u001b[39m \u001b[38;5;28mself\u001b[39m\u001b[38;5;241m.\u001b[39mtime_mlp(t_sin)  \u001b[38;5;66;03m# [B, time_mlp_dim]\u001b[39;00m\n\u001b[1;32m     75\u001b[0m \u001b[38;5;66;03m# --- main MLP input ---\u001b[39;00m\n\u001b[0;32m---> 76\u001b[0m mlp_in \u001b[38;5;241m=\u001b[39m \u001b[43mtorch\u001b[49m\u001b[38;5;241;43m.\u001b[39;49m\u001b[43mcat\u001b[49m\u001b[43m(\u001b[49m\u001b[43m[\u001b[49m\u001b[43mz\u001b[49m\u001b[43m,\u001b[49m\u001b[43m \u001b[49m\u001b[43mt_emb\u001b[49m\u001b[43m]\u001b[49m\u001b[43m,\u001b[49m\u001b[43m \u001b[49m\u001b[43mdim\u001b[49m\u001b[38;5;241;43m=\u001b[39;49m\u001b[38;5;241;43m-\u001b[39;49m\u001b[38;5;241;43m1\u001b[39;49m\u001b[43m)\u001b[49m  \u001b[38;5;66;03m# [B, latent_dim + time_mlp_dim]\u001b[39;00m\n\u001b[1;32m     77\u001b[0m out \u001b[38;5;241m=\u001b[39m \u001b[38;5;28mself\u001b[39m\u001b[38;5;241m.\u001b[39mmlp(mlp_in)  \u001b[38;5;66;03m# [B, out_dim]\u001b[39;00m\n\u001b[1;32m     79\u001b[0m \u001b[38;5;66;03m# reshape into complex low-frequency block\u001b[39;00m\n",
      "\u001b[0;31mRuntimeError\u001b[0m: Tensors must have same number of dimensions: got 4 and 2"
     ]
    }
   ],
   "source": [
    "lr = 1e-3\n",
    "# model = FNOVelocityField(in_channels=1, modes1=16, modes2=16)\n",
    "\n",
    "latent_dim = 128\n",
    "model = LowFreqSpectralGeneratorHermitian(latent_dim=latent_dim, img_size=(28, 28),\n",
    "                                              channels=1, modes=(6, 6), hidden_dim=512)\n",
    "\n",
    "model = model.cuda()\n",
    "optimizer = torch.optim.Adam(model.parameters(), lr=lr)\n",
    "\n",
    "k = 0\n",
    "for step in trange(5):\n",
    "    for x, y in tqdm(train_loader, leave = False):\n",
    "        x1 = x.cuda()\n",
    "        x0 = torch.randn_like(x1).cuda()\n",
    "        loss = conv_flow_matching_loss(model, x0, x1)\n",
    "        loss.backward()\n",
    "        optimizer.step()\n",
    "        optimizer.zero_grad()\n",
    "\n",
    "        k += 1\n",
    "        if k % 500 == 0: \n",
    "            print(loss.detach())"
   ]
  },
  {
   "cell_type": "code",
   "execution_count": null,
   "id": "4475cba8-41d5-483f-bfc3-96c77070761d",
   "metadata": {},
   "outputs": [],
   "source": []
  },
  {
   "cell_type": "code",
   "execution_count": null,
   "id": "87b06971-54d9-4fc0-b41d-6ebd6793b627",
   "metadata": {},
   "outputs": [],
   "source": []
  },
  {
   "cell_type": "code",
   "execution_count": null,
   "id": "f4fe13a0-f1ed-4b62-928a-1b3be9f68712",
   "metadata": {},
   "outputs": [],
   "source": []
  }
 ],
 "metadata": {
  "kernelspec": {
   "display_name": "Python 3 (ipykernel)",
   "language": "python",
   "name": "python3"
  },
  "language_info": {
   "codemirror_mode": {
    "name": "ipython",
    "version": 3
   },
   "file_extension": ".py",
   "mimetype": "text/x-python",
   "name": "python",
   "nbconvert_exporter": "python",
   "pygments_lexer": "ipython3",
   "version": "3.12.3"
  }
 },
 "nbformat": 4,
 "nbformat_minor": 5
}
